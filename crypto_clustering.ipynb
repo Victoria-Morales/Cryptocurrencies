{
 "cells": [
  {
   "cell_type": "markdown",
   "metadata": {},
   "source": [
    "# Clustering Crypto"
   ]
  },
  {
   "cell_type": "code",
   "execution_count": 114,
   "metadata": {},
   "outputs": [],
   "source": [
    "# Initial imports\n",
    "import pandas as pd\n",
    "import hvplot.pandas\n",
    "from path import Path\n",
    "import plotly.express as px\n",
    "from sklearn.preprocessing import StandardScaler, MinMaxScaler\n",
    "from sklearn.decomposition import PCA\n",
    "from sklearn.cluster import KMeans\n"
   ]
  },
  {
   "cell_type": "markdown",
   "metadata": {},
   "source": [
    "### Deliverable 1: Preprocessing the Data for PCA"
   ]
  },
  {
   "cell_type": "code",
   "execution_count": 115,
   "metadata": {},
   "outputs": [
    {
     "data": {
      "text/html": [
       "<div>\n",
       "<style scoped>\n",
       "    .dataframe tbody tr th:only-of-type {\n",
       "        vertical-align: middle;\n",
       "    }\n",
       "\n",
       "    .dataframe tbody tr th {\n",
       "        vertical-align: top;\n",
       "    }\n",
       "\n",
       "    .dataframe thead th {\n",
       "        text-align: right;\n",
       "    }\n",
       "</style>\n",
       "<table border=\"1\" class=\"dataframe\">\n",
       "  <thead>\n",
       "    <tr style=\"text-align: right;\">\n",
       "      <th></th>\n",
       "      <th>CoinName</th>\n",
       "      <th>Algorithm</th>\n",
       "      <th>IsTrading</th>\n",
       "      <th>ProofType</th>\n",
       "      <th>TotalCoinsMined</th>\n",
       "      <th>TotalCoinSupply</th>\n",
       "    </tr>\n",
       "  </thead>\n",
       "  <tbody>\n",
       "    <tr>\n",
       "      <th>42</th>\n",
       "      <td>42 Coin</td>\n",
       "      <td>Scrypt</td>\n",
       "      <td>True</td>\n",
       "      <td>PoW/PoS</td>\n",
       "      <td>4.199995e+01</td>\n",
       "      <td>42</td>\n",
       "    </tr>\n",
       "    <tr>\n",
       "      <th>365</th>\n",
       "      <td>365Coin</td>\n",
       "      <td>X11</td>\n",
       "      <td>True</td>\n",
       "      <td>PoW/PoS</td>\n",
       "      <td>NaN</td>\n",
       "      <td>2300000000</td>\n",
       "    </tr>\n",
       "    <tr>\n",
       "      <th>404</th>\n",
       "      <td>404Coin</td>\n",
       "      <td>Scrypt</td>\n",
       "      <td>True</td>\n",
       "      <td>PoW/PoS</td>\n",
       "      <td>1.055185e+09</td>\n",
       "      <td>532000000</td>\n",
       "    </tr>\n",
       "    <tr>\n",
       "      <th>611</th>\n",
       "      <td>SixEleven</td>\n",
       "      <td>SHA-256</td>\n",
       "      <td>True</td>\n",
       "      <td>PoW</td>\n",
       "      <td>NaN</td>\n",
       "      <td>611000</td>\n",
       "    </tr>\n",
       "    <tr>\n",
       "      <th>808</th>\n",
       "      <td>808</td>\n",
       "      <td>SHA-256</td>\n",
       "      <td>True</td>\n",
       "      <td>PoW/PoS</td>\n",
       "      <td>0.000000e+00</td>\n",
       "      <td>0</td>\n",
       "    </tr>\n",
       "    <tr>\n",
       "      <th>1337</th>\n",
       "      <td>EliteCoin</td>\n",
       "      <td>X13</td>\n",
       "      <td>True</td>\n",
       "      <td>PoW/PoS</td>\n",
       "      <td>2.927942e+10</td>\n",
       "      <td>314159265359</td>\n",
       "    </tr>\n",
       "    <tr>\n",
       "      <th>2015</th>\n",
       "      <td>2015 coin</td>\n",
       "      <td>X11</td>\n",
       "      <td>True</td>\n",
       "      <td>PoW/PoS</td>\n",
       "      <td>NaN</td>\n",
       "      <td>0</td>\n",
       "    </tr>\n",
       "    <tr>\n",
       "      <th>BTC</th>\n",
       "      <td>Bitcoin</td>\n",
       "      <td>SHA-256</td>\n",
       "      <td>True</td>\n",
       "      <td>PoW</td>\n",
       "      <td>1.792718e+07</td>\n",
       "      <td>21000000</td>\n",
       "    </tr>\n",
       "    <tr>\n",
       "      <th>ETH</th>\n",
       "      <td>Ethereum</td>\n",
       "      <td>Ethash</td>\n",
       "      <td>True</td>\n",
       "      <td>PoW</td>\n",
       "      <td>1.076842e+08</td>\n",
       "      <td>0</td>\n",
       "    </tr>\n",
       "    <tr>\n",
       "      <th>LTC</th>\n",
       "      <td>Litecoin</td>\n",
       "      <td>Scrypt</td>\n",
       "      <td>True</td>\n",
       "      <td>PoW</td>\n",
       "      <td>6.303924e+07</td>\n",
       "      <td>84000000</td>\n",
       "    </tr>\n",
       "  </tbody>\n",
       "</table>\n",
       "</div>"
      ],
      "text/plain": [
       "       CoinName Algorithm  IsTrading ProofType  TotalCoinsMined  \\\n",
       "42      42 Coin    Scrypt       True   PoW/PoS     4.199995e+01   \n",
       "365     365Coin       X11       True   PoW/PoS              NaN   \n",
       "404     404Coin    Scrypt       True   PoW/PoS     1.055185e+09   \n",
       "611   SixEleven   SHA-256       True       PoW              NaN   \n",
       "808         808   SHA-256       True   PoW/PoS     0.000000e+00   \n",
       "1337  EliteCoin       X13       True   PoW/PoS     2.927942e+10   \n",
       "2015  2015 coin       X11       True   PoW/PoS              NaN   \n",
       "BTC     Bitcoin   SHA-256       True       PoW     1.792718e+07   \n",
       "ETH    Ethereum    Ethash       True       PoW     1.076842e+08   \n",
       "LTC    Litecoin    Scrypt       True       PoW     6.303924e+07   \n",
       "\n",
       "     TotalCoinSupply  \n",
       "42                42  \n",
       "365       2300000000  \n",
       "404        532000000  \n",
       "611           611000  \n",
       "808                0  \n",
       "1337    314159265359  \n",
       "2015               0  \n",
       "BTC         21000000  \n",
       "ETH                0  \n",
       "LTC         84000000  "
      ]
     },
     "execution_count": 115,
     "metadata": {},
     "output_type": "execute_result"
    }
   ],
   "source": [
    "# Load the crypto_data.csv dataset.\n",
    "file_path = \"Resources/crypto_data.csv\"\n",
    "crypto_df = pd.read_csv(file_path, index_col = [0,])\n",
    "crypto_df.head(10)"
   ]
  },
  {
   "cell_type": "code",
   "execution_count": 116,
   "metadata": {},
   "outputs": [
    {
     "data": {
      "text/html": [
       "<div>\n",
       "<style scoped>\n",
       "    .dataframe tbody tr th:only-of-type {\n",
       "        vertical-align: middle;\n",
       "    }\n",
       "\n",
       "    .dataframe tbody tr th {\n",
       "        vertical-align: top;\n",
       "    }\n",
       "\n",
       "    .dataframe thead th {\n",
       "        text-align: right;\n",
       "    }\n",
       "</style>\n",
       "<table border=\"1\" class=\"dataframe\">\n",
       "  <thead>\n",
       "    <tr style=\"text-align: right;\">\n",
       "      <th></th>\n",
       "      <th>CoinName</th>\n",
       "      <th>Algorithm</th>\n",
       "      <th>IsTrading</th>\n",
       "      <th>ProofType</th>\n",
       "      <th>TotalCoinsMined</th>\n",
       "      <th>TotalCoinSupply</th>\n",
       "    </tr>\n",
       "  </thead>\n",
       "  <tbody>\n",
       "    <tr>\n",
       "      <th>42</th>\n",
       "      <td>42 Coin</td>\n",
       "      <td>Scrypt</td>\n",
       "      <td>1</td>\n",
       "      <td>PoW/PoS</td>\n",
       "      <td>4.199995e+01</td>\n",
       "      <td>42</td>\n",
       "    </tr>\n",
       "    <tr>\n",
       "      <th>365</th>\n",
       "      <td>365Coin</td>\n",
       "      <td>X11</td>\n",
       "      <td>1</td>\n",
       "      <td>PoW/PoS</td>\n",
       "      <td>NaN</td>\n",
       "      <td>2300000000</td>\n",
       "    </tr>\n",
       "    <tr>\n",
       "      <th>404</th>\n",
       "      <td>404Coin</td>\n",
       "      <td>Scrypt</td>\n",
       "      <td>1</td>\n",
       "      <td>PoW/PoS</td>\n",
       "      <td>1.055185e+09</td>\n",
       "      <td>532000000</td>\n",
       "    </tr>\n",
       "    <tr>\n",
       "      <th>611</th>\n",
       "      <td>SixEleven</td>\n",
       "      <td>SHA-256</td>\n",
       "      <td>1</td>\n",
       "      <td>PoW</td>\n",
       "      <td>NaN</td>\n",
       "      <td>611000</td>\n",
       "    </tr>\n",
       "    <tr>\n",
       "      <th>808</th>\n",
       "      <td>808</td>\n",
       "      <td>SHA-256</td>\n",
       "      <td>1</td>\n",
       "      <td>PoW/PoS</td>\n",
       "      <td>0.000000e+00</td>\n",
       "      <td>0</td>\n",
       "    </tr>\n",
       "    <tr>\n",
       "      <th>...</th>\n",
       "      <td>...</td>\n",
       "      <td>...</td>\n",
       "      <td>...</td>\n",
       "      <td>...</td>\n",
       "      <td>...</td>\n",
       "      <td>...</td>\n",
       "    </tr>\n",
       "    <tr>\n",
       "      <th>SERO</th>\n",
       "      <td>Super Zero</td>\n",
       "      <td>Ethash</td>\n",
       "      <td>1</td>\n",
       "      <td>PoW</td>\n",
       "      <td>NaN</td>\n",
       "      <td>1000000000</td>\n",
       "    </tr>\n",
       "    <tr>\n",
       "      <th>UOS</th>\n",
       "      <td>UOS</td>\n",
       "      <td>SHA-256</td>\n",
       "      <td>1</td>\n",
       "      <td>DPoI</td>\n",
       "      <td>NaN</td>\n",
       "      <td>1000000000</td>\n",
       "    </tr>\n",
       "    <tr>\n",
       "      <th>BDX</th>\n",
       "      <td>Beldex</td>\n",
       "      <td>CryptoNight</td>\n",
       "      <td>1</td>\n",
       "      <td>PoW</td>\n",
       "      <td>9.802226e+08</td>\n",
       "      <td>1400222610</td>\n",
       "    </tr>\n",
       "    <tr>\n",
       "      <th>ZEN</th>\n",
       "      <td>Horizen</td>\n",
       "      <td>Equihash</td>\n",
       "      <td>1</td>\n",
       "      <td>PoW</td>\n",
       "      <td>7.296538e+06</td>\n",
       "      <td>21000000</td>\n",
       "    </tr>\n",
       "    <tr>\n",
       "      <th>XBC</th>\n",
       "      <td>BitcoinPlus</td>\n",
       "      <td>Scrypt</td>\n",
       "      <td>1</td>\n",
       "      <td>PoS</td>\n",
       "      <td>1.283270e+05</td>\n",
       "      <td>1000000</td>\n",
       "    </tr>\n",
       "  </tbody>\n",
       "</table>\n",
       "<p>1144 rows × 6 columns</p>\n",
       "</div>"
      ],
      "text/plain": [
       "         CoinName    Algorithm  IsTrading ProofType  TotalCoinsMined  \\\n",
       "42        42 Coin       Scrypt          1   PoW/PoS     4.199995e+01   \n",
       "365       365Coin          X11          1   PoW/PoS              NaN   \n",
       "404       404Coin       Scrypt          1   PoW/PoS     1.055185e+09   \n",
       "611     SixEleven      SHA-256          1       PoW              NaN   \n",
       "808           808      SHA-256          1   PoW/PoS     0.000000e+00   \n",
       "...           ...          ...        ...       ...              ...   \n",
       "SERO   Super Zero       Ethash          1       PoW              NaN   \n",
       "UOS           UOS      SHA-256          1      DPoI              NaN   \n",
       "BDX        Beldex  CryptoNight          1       PoW     9.802226e+08   \n",
       "ZEN       Horizen     Equihash          1       PoW     7.296538e+06   \n",
       "XBC   BitcoinPlus       Scrypt          1       PoS     1.283270e+05   \n",
       "\n",
       "     TotalCoinSupply  \n",
       "42                42  \n",
       "365       2300000000  \n",
       "404        532000000  \n",
       "611           611000  \n",
       "808                0  \n",
       "...              ...  \n",
       "SERO      1000000000  \n",
       "UOS       1000000000  \n",
       "BDX       1400222610  \n",
       "ZEN         21000000  \n",
       "XBC          1000000  \n",
       "\n",
       "[1144 rows x 6 columns]"
      ]
     },
     "execution_count": 116,
     "metadata": {},
     "output_type": "execute_result"
    }
   ],
   "source": [
    "# Transform the boolean column\n",
    "def change_bool(IsTrading):\n",
    "    if IsTrading == True:\n",
    "        return 1\n",
    "    else:\n",
    "        return 0\n",
    "\n",
    "crypto_df[\"IsTrading\"] = crypto_df[\"IsTrading\"].apply(change_bool)\n",
    "\n",
    "\n",
    "\n",
    "# Keep all the cryptocurrencies that are being traded.\n",
    "crypto_df = crypto_df.loc[crypto_df.IsTrading == 1]\n",
    "crypto_df\n"
   ]
  },
  {
   "cell_type": "code",
   "execution_count": 117,
   "metadata": {},
   "outputs": [
    {
     "data": {
      "text/plain": [
       "0"
      ]
     },
     "execution_count": 117,
     "metadata": {},
     "output_type": "execute_result"
    }
   ],
   "source": [
    "# Keep all the cryptocurrencies that have a working algorithm.\n",
    "crypto_df[\"Algorithm\"].isnull().sum()"
   ]
  },
  {
   "cell_type": "code",
   "execution_count": 118,
   "metadata": {},
   "outputs": [
    {
     "data": {
      "text/html": [
       "<div>\n",
       "<style scoped>\n",
       "    .dataframe tbody tr th:only-of-type {\n",
       "        vertical-align: middle;\n",
       "    }\n",
       "\n",
       "    .dataframe tbody tr th {\n",
       "        vertical-align: top;\n",
       "    }\n",
       "\n",
       "    .dataframe thead th {\n",
       "        text-align: right;\n",
       "    }\n",
       "</style>\n",
       "<table border=\"1\" class=\"dataframe\">\n",
       "  <thead>\n",
       "    <tr style=\"text-align: right;\">\n",
       "      <th></th>\n",
       "      <th>CoinName</th>\n",
       "      <th>Algorithm</th>\n",
       "      <th>ProofType</th>\n",
       "      <th>TotalCoinsMined</th>\n",
       "      <th>TotalCoinSupply</th>\n",
       "    </tr>\n",
       "  </thead>\n",
       "  <tbody>\n",
       "    <tr>\n",
       "      <th>42</th>\n",
       "      <td>42 Coin</td>\n",
       "      <td>Scrypt</td>\n",
       "      <td>PoW/PoS</td>\n",
       "      <td>4.199995e+01</td>\n",
       "      <td>42</td>\n",
       "    </tr>\n",
       "    <tr>\n",
       "      <th>365</th>\n",
       "      <td>365Coin</td>\n",
       "      <td>X11</td>\n",
       "      <td>PoW/PoS</td>\n",
       "      <td>NaN</td>\n",
       "      <td>2300000000</td>\n",
       "    </tr>\n",
       "    <tr>\n",
       "      <th>404</th>\n",
       "      <td>404Coin</td>\n",
       "      <td>Scrypt</td>\n",
       "      <td>PoW/PoS</td>\n",
       "      <td>1.055185e+09</td>\n",
       "      <td>532000000</td>\n",
       "    </tr>\n",
       "    <tr>\n",
       "      <th>611</th>\n",
       "      <td>SixEleven</td>\n",
       "      <td>SHA-256</td>\n",
       "      <td>PoW</td>\n",
       "      <td>NaN</td>\n",
       "      <td>611000</td>\n",
       "    </tr>\n",
       "    <tr>\n",
       "      <th>808</th>\n",
       "      <td>808</td>\n",
       "      <td>SHA-256</td>\n",
       "      <td>PoW/PoS</td>\n",
       "      <td>0.000000e+00</td>\n",
       "      <td>0</td>\n",
       "    </tr>\n",
       "  </tbody>\n",
       "</table>\n",
       "</div>"
      ],
      "text/plain": [
       "      CoinName Algorithm ProofType  TotalCoinsMined TotalCoinSupply\n",
       "42     42 Coin    Scrypt   PoW/PoS     4.199995e+01              42\n",
       "365    365Coin       X11   PoW/PoS              NaN      2300000000\n",
       "404    404Coin    Scrypt   PoW/PoS     1.055185e+09       532000000\n",
       "611  SixEleven   SHA-256       PoW              NaN          611000\n",
       "808        808   SHA-256   PoW/PoS     0.000000e+00               0"
      ]
     },
     "execution_count": 118,
     "metadata": {},
     "output_type": "execute_result"
    }
   ],
   "source": [
    "# Remove the \"IsTrading\" column. \n",
    "crypto_df = crypto_df.drop(['IsTrading'], axis=1)\n",
    "crypto_df.head()\n"
   ]
  },
  {
   "cell_type": "code",
   "execution_count": 119,
   "metadata": {},
   "outputs": [
    {
     "data": {
      "text/html": [
       "<div>\n",
       "<style scoped>\n",
       "    .dataframe tbody tr th:only-of-type {\n",
       "        vertical-align: middle;\n",
       "    }\n",
       "\n",
       "    .dataframe tbody tr th {\n",
       "        vertical-align: top;\n",
       "    }\n",
       "\n",
       "    .dataframe thead th {\n",
       "        text-align: right;\n",
       "    }\n",
       "</style>\n",
       "<table border=\"1\" class=\"dataframe\">\n",
       "  <thead>\n",
       "    <tr style=\"text-align: right;\">\n",
       "      <th></th>\n",
       "      <th>CoinName</th>\n",
       "      <th>Algorithm</th>\n",
       "      <th>ProofType</th>\n",
       "      <th>TotalCoinsMined</th>\n",
       "      <th>TotalCoinSupply</th>\n",
       "    </tr>\n",
       "  </thead>\n",
       "  <tbody>\n",
       "    <tr>\n",
       "      <th>42</th>\n",
       "      <td>42 Coin</td>\n",
       "      <td>Scrypt</td>\n",
       "      <td>PoW/PoS</td>\n",
       "      <td>4.199995e+01</td>\n",
       "      <td>42</td>\n",
       "    </tr>\n",
       "    <tr>\n",
       "      <th>404</th>\n",
       "      <td>404Coin</td>\n",
       "      <td>Scrypt</td>\n",
       "      <td>PoW/PoS</td>\n",
       "      <td>1.055185e+09</td>\n",
       "      <td>532000000</td>\n",
       "    </tr>\n",
       "    <tr>\n",
       "      <th>808</th>\n",
       "      <td>808</td>\n",
       "      <td>SHA-256</td>\n",
       "      <td>PoW/PoS</td>\n",
       "      <td>0.000000e+00</td>\n",
       "      <td>0</td>\n",
       "    </tr>\n",
       "    <tr>\n",
       "      <th>1337</th>\n",
       "      <td>EliteCoin</td>\n",
       "      <td>X13</td>\n",
       "      <td>PoW/PoS</td>\n",
       "      <td>2.927942e+10</td>\n",
       "      <td>314159265359</td>\n",
       "    </tr>\n",
       "    <tr>\n",
       "      <th>BTC</th>\n",
       "      <td>Bitcoin</td>\n",
       "      <td>SHA-256</td>\n",
       "      <td>PoW</td>\n",
       "      <td>1.792718e+07</td>\n",
       "      <td>21000000</td>\n",
       "    </tr>\n",
       "    <tr>\n",
       "      <th>...</th>\n",
       "      <td>...</td>\n",
       "      <td>...</td>\n",
       "      <td>...</td>\n",
       "      <td>...</td>\n",
       "      <td>...</td>\n",
       "    </tr>\n",
       "    <tr>\n",
       "      <th>ZEPH</th>\n",
       "      <td>ZEPHYR</td>\n",
       "      <td>SHA-256</td>\n",
       "      <td>DPoS</td>\n",
       "      <td>2.000000e+09</td>\n",
       "      <td>2000000000</td>\n",
       "    </tr>\n",
       "    <tr>\n",
       "      <th>GAP</th>\n",
       "      <td>Gapcoin</td>\n",
       "      <td>Scrypt</td>\n",
       "      <td>PoW/PoS</td>\n",
       "      <td>1.493105e+07</td>\n",
       "      <td>250000000</td>\n",
       "    </tr>\n",
       "    <tr>\n",
       "      <th>BDX</th>\n",
       "      <td>Beldex</td>\n",
       "      <td>CryptoNight</td>\n",
       "      <td>PoW</td>\n",
       "      <td>9.802226e+08</td>\n",
       "      <td>1400222610</td>\n",
       "    </tr>\n",
       "    <tr>\n",
       "      <th>ZEN</th>\n",
       "      <td>Horizen</td>\n",
       "      <td>Equihash</td>\n",
       "      <td>PoW</td>\n",
       "      <td>7.296538e+06</td>\n",
       "      <td>21000000</td>\n",
       "    </tr>\n",
       "    <tr>\n",
       "      <th>XBC</th>\n",
       "      <td>BitcoinPlus</td>\n",
       "      <td>Scrypt</td>\n",
       "      <td>PoS</td>\n",
       "      <td>1.283270e+05</td>\n",
       "      <td>1000000</td>\n",
       "    </tr>\n",
       "  </tbody>\n",
       "</table>\n",
       "<p>685 rows × 5 columns</p>\n",
       "</div>"
      ],
      "text/plain": [
       "         CoinName    Algorithm ProofType  TotalCoinsMined TotalCoinSupply\n",
       "42        42 Coin       Scrypt   PoW/PoS     4.199995e+01              42\n",
       "404       404Coin       Scrypt   PoW/PoS     1.055185e+09       532000000\n",
       "808           808      SHA-256   PoW/PoS     0.000000e+00               0\n",
       "1337    EliteCoin          X13   PoW/PoS     2.927942e+10    314159265359\n",
       "BTC       Bitcoin      SHA-256       PoW     1.792718e+07        21000000\n",
       "...           ...          ...       ...              ...             ...\n",
       "ZEPH       ZEPHYR      SHA-256      DPoS     2.000000e+09      2000000000\n",
       "GAP       Gapcoin       Scrypt   PoW/PoS     1.493105e+07       250000000\n",
       "BDX        Beldex  CryptoNight       PoW     9.802226e+08      1400222610\n",
       "ZEN       Horizen     Equihash       PoW     7.296538e+06        21000000\n",
       "XBC   BitcoinPlus       Scrypt       PoS     1.283270e+05         1000000\n",
       "\n",
       "[685 rows x 5 columns]"
      ]
     },
     "execution_count": 119,
     "metadata": {},
     "output_type": "execute_result"
    }
   ],
   "source": [
    "# Remove rows that have at least 1 null value.\n",
    "crypto_df = crypto_df.dropna()\n",
    "crypto_df"
   ]
  },
  {
   "cell_type": "code",
   "execution_count": 120,
   "metadata": {},
   "outputs": [
    {
     "data": {
      "text/html": [
       "<div>\n",
       "<style scoped>\n",
       "    .dataframe tbody tr th:only-of-type {\n",
       "        vertical-align: middle;\n",
       "    }\n",
       "\n",
       "    .dataframe tbody tr th {\n",
       "        vertical-align: top;\n",
       "    }\n",
       "\n",
       "    .dataframe thead th {\n",
       "        text-align: right;\n",
       "    }\n",
       "</style>\n",
       "<table border=\"1\" class=\"dataframe\">\n",
       "  <thead>\n",
       "    <tr style=\"text-align: right;\">\n",
       "      <th></th>\n",
       "      <th>CoinName</th>\n",
       "      <th>Algorithm</th>\n",
       "      <th>ProofType</th>\n",
       "      <th>TotalCoinsMined</th>\n",
       "      <th>TotalCoinSupply</th>\n",
       "    </tr>\n",
       "  </thead>\n",
       "  <tbody>\n",
       "    <tr>\n",
       "      <th>42</th>\n",
       "      <td>42 Coin</td>\n",
       "      <td>Scrypt</td>\n",
       "      <td>PoW/PoS</td>\n",
       "      <td>4.199995e+01</td>\n",
       "      <td>42</td>\n",
       "    </tr>\n",
       "    <tr>\n",
       "      <th>404</th>\n",
       "      <td>404Coin</td>\n",
       "      <td>Scrypt</td>\n",
       "      <td>PoW/PoS</td>\n",
       "      <td>1.055185e+09</td>\n",
       "      <td>532000000</td>\n",
       "    </tr>\n",
       "    <tr>\n",
       "      <th>1337</th>\n",
       "      <td>EliteCoin</td>\n",
       "      <td>X13</td>\n",
       "      <td>PoW/PoS</td>\n",
       "      <td>2.927942e+10</td>\n",
       "      <td>314159265359</td>\n",
       "    </tr>\n",
       "    <tr>\n",
       "      <th>BTC</th>\n",
       "      <td>Bitcoin</td>\n",
       "      <td>SHA-256</td>\n",
       "      <td>PoW</td>\n",
       "      <td>1.792718e+07</td>\n",
       "      <td>21000000</td>\n",
       "    </tr>\n",
       "    <tr>\n",
       "      <th>ETH</th>\n",
       "      <td>Ethereum</td>\n",
       "      <td>Ethash</td>\n",
       "      <td>PoW</td>\n",
       "      <td>1.076842e+08</td>\n",
       "      <td>0</td>\n",
       "    </tr>\n",
       "    <tr>\n",
       "      <th>...</th>\n",
       "      <td>...</td>\n",
       "      <td>...</td>\n",
       "      <td>...</td>\n",
       "      <td>...</td>\n",
       "      <td>...</td>\n",
       "    </tr>\n",
       "    <tr>\n",
       "      <th>ZEPH</th>\n",
       "      <td>ZEPHYR</td>\n",
       "      <td>SHA-256</td>\n",
       "      <td>DPoS</td>\n",
       "      <td>2.000000e+09</td>\n",
       "      <td>2000000000</td>\n",
       "    </tr>\n",
       "    <tr>\n",
       "      <th>GAP</th>\n",
       "      <td>Gapcoin</td>\n",
       "      <td>Scrypt</td>\n",
       "      <td>PoW/PoS</td>\n",
       "      <td>1.493105e+07</td>\n",
       "      <td>250000000</td>\n",
       "    </tr>\n",
       "    <tr>\n",
       "      <th>BDX</th>\n",
       "      <td>Beldex</td>\n",
       "      <td>CryptoNight</td>\n",
       "      <td>PoW</td>\n",
       "      <td>9.802226e+08</td>\n",
       "      <td>1400222610</td>\n",
       "    </tr>\n",
       "    <tr>\n",
       "      <th>ZEN</th>\n",
       "      <td>Horizen</td>\n",
       "      <td>Equihash</td>\n",
       "      <td>PoW</td>\n",
       "      <td>7.296538e+06</td>\n",
       "      <td>21000000</td>\n",
       "    </tr>\n",
       "    <tr>\n",
       "      <th>XBC</th>\n",
       "      <td>BitcoinPlus</td>\n",
       "      <td>Scrypt</td>\n",
       "      <td>PoS</td>\n",
       "      <td>1.283270e+05</td>\n",
       "      <td>1000000</td>\n",
       "    </tr>\n",
       "  </tbody>\n",
       "</table>\n",
       "<p>532 rows × 5 columns</p>\n",
       "</div>"
      ],
      "text/plain": [
       "         CoinName    Algorithm ProofType  TotalCoinsMined TotalCoinSupply\n",
       "42        42 Coin       Scrypt   PoW/PoS     4.199995e+01              42\n",
       "404       404Coin       Scrypt   PoW/PoS     1.055185e+09       532000000\n",
       "1337    EliteCoin          X13   PoW/PoS     2.927942e+10    314159265359\n",
       "BTC       Bitcoin      SHA-256       PoW     1.792718e+07        21000000\n",
       "ETH      Ethereum       Ethash       PoW     1.076842e+08               0\n",
       "...           ...          ...       ...              ...             ...\n",
       "ZEPH       ZEPHYR      SHA-256      DPoS     2.000000e+09      2000000000\n",
       "GAP       Gapcoin       Scrypt   PoW/PoS     1.493105e+07       250000000\n",
       "BDX        Beldex  CryptoNight       PoW     9.802226e+08      1400222610\n",
       "ZEN       Horizen     Equihash       PoW     7.296538e+06        21000000\n",
       "XBC   BitcoinPlus       Scrypt       PoS     1.283270e+05         1000000\n",
       "\n",
       "[532 rows x 5 columns]"
      ]
     },
     "execution_count": 120,
     "metadata": {},
     "output_type": "execute_result"
    }
   ],
   "source": [
    "# Keep the rows where coins are mined.\n",
    "crypto_df = crypto_df[(crypto_df['TotalCoinsMined'] > 0.0)]\n",
    "crypto_df"
   ]
  },
  {
   "cell_type": "code",
   "execution_count": 121,
   "metadata": {},
   "outputs": [
    {
     "data": {
      "text/plain": [
       "42        42 Coin\n",
       "404       404Coin\n",
       "1337    EliteCoin\n",
       "BTC       Bitcoin\n",
       "ETH      Ethereum\n",
       "Name: CoinName, dtype: object"
      ]
     },
     "execution_count": 121,
     "metadata": {},
     "output_type": "execute_result"
    }
   ],
   "source": [
    "# Create a new DataFrame that holds only the cryptocurrencies names.\n",
    "crypto_names_df = crypto_df[\"CoinName\"]\n",
    "crypto_names_df.head()"
   ]
  },
  {
   "cell_type": "code",
   "execution_count": 122,
   "metadata": {},
   "outputs": [
    {
     "data": {
      "text/html": [
       "<div>\n",
       "<style scoped>\n",
       "    .dataframe tbody tr th:only-of-type {\n",
       "        vertical-align: middle;\n",
       "    }\n",
       "\n",
       "    .dataframe tbody tr th {\n",
       "        vertical-align: top;\n",
       "    }\n",
       "\n",
       "    .dataframe thead th {\n",
       "        text-align: right;\n",
       "    }\n",
       "</style>\n",
       "<table border=\"1\" class=\"dataframe\">\n",
       "  <thead>\n",
       "    <tr style=\"text-align: right;\">\n",
       "      <th></th>\n",
       "      <th>Algorithm</th>\n",
       "      <th>ProofType</th>\n",
       "      <th>TotalCoinsMined</th>\n",
       "      <th>TotalCoinSupply</th>\n",
       "    </tr>\n",
       "  </thead>\n",
       "  <tbody>\n",
       "    <tr>\n",
       "      <th>42</th>\n",
       "      <td>Scrypt</td>\n",
       "      <td>PoW/PoS</td>\n",
       "      <td>4.199995e+01</td>\n",
       "      <td>42</td>\n",
       "    </tr>\n",
       "    <tr>\n",
       "      <th>404</th>\n",
       "      <td>Scrypt</td>\n",
       "      <td>PoW/PoS</td>\n",
       "      <td>1.055185e+09</td>\n",
       "      <td>532000000</td>\n",
       "    </tr>\n",
       "    <tr>\n",
       "      <th>1337</th>\n",
       "      <td>X13</td>\n",
       "      <td>PoW/PoS</td>\n",
       "      <td>2.927942e+10</td>\n",
       "      <td>314159265359</td>\n",
       "    </tr>\n",
       "    <tr>\n",
       "      <th>BTC</th>\n",
       "      <td>SHA-256</td>\n",
       "      <td>PoW</td>\n",
       "      <td>1.792718e+07</td>\n",
       "      <td>21000000</td>\n",
       "    </tr>\n",
       "    <tr>\n",
       "      <th>ETH</th>\n",
       "      <td>Ethash</td>\n",
       "      <td>PoW</td>\n",
       "      <td>1.076842e+08</td>\n",
       "      <td>0</td>\n",
       "    </tr>\n",
       "    <tr>\n",
       "      <th>LTC</th>\n",
       "      <td>Scrypt</td>\n",
       "      <td>PoW</td>\n",
       "      <td>6.303924e+07</td>\n",
       "      <td>84000000</td>\n",
       "    </tr>\n",
       "    <tr>\n",
       "      <th>DASH</th>\n",
       "      <td>X11</td>\n",
       "      <td>PoW/PoS</td>\n",
       "      <td>9.031294e+06</td>\n",
       "      <td>22000000</td>\n",
       "    </tr>\n",
       "    <tr>\n",
       "      <th>XMR</th>\n",
       "      <td>CryptoNight-V7</td>\n",
       "      <td>PoW</td>\n",
       "      <td>1.720114e+07</td>\n",
       "      <td>0</td>\n",
       "    </tr>\n",
       "    <tr>\n",
       "      <th>ETC</th>\n",
       "      <td>Ethash</td>\n",
       "      <td>PoW</td>\n",
       "      <td>1.133597e+08</td>\n",
       "      <td>210000000</td>\n",
       "    </tr>\n",
       "    <tr>\n",
       "      <th>ZEC</th>\n",
       "      <td>Equihash</td>\n",
       "      <td>PoW</td>\n",
       "      <td>7.383056e+06</td>\n",
       "      <td>21000000</td>\n",
       "    </tr>\n",
       "  </tbody>\n",
       "</table>\n",
       "</div>"
      ],
      "text/plain": [
       "           Algorithm ProofType  TotalCoinsMined TotalCoinSupply\n",
       "42            Scrypt   PoW/PoS     4.199995e+01              42\n",
       "404           Scrypt   PoW/PoS     1.055185e+09       532000000\n",
       "1337             X13   PoW/PoS     2.927942e+10    314159265359\n",
       "BTC          SHA-256       PoW     1.792718e+07        21000000\n",
       "ETH           Ethash       PoW     1.076842e+08               0\n",
       "LTC           Scrypt       PoW     6.303924e+07        84000000\n",
       "DASH             X11   PoW/PoS     9.031294e+06        22000000\n",
       "XMR   CryptoNight-V7       PoW     1.720114e+07               0\n",
       "ETC           Ethash       PoW     1.133597e+08       210000000\n",
       "ZEC         Equihash       PoW     7.383056e+06        21000000"
      ]
     },
     "execution_count": 122,
     "metadata": {},
     "output_type": "execute_result"
    }
   ],
   "source": [
    "# Drop the 'CoinName' column since it's not going to be used on the clustering algorithm.\n",
    "crypto_df = crypto_df.drop(['CoinName'], axis=1)\n",
    "crypto_df.head(10)"
   ]
  },
  {
   "cell_type": "code",
   "execution_count": 123,
   "metadata": {},
   "outputs": [
    {
     "data": {
      "text/html": [
       "<div>\n",
       "<style scoped>\n",
       "    .dataframe tbody tr th:only-of-type {\n",
       "        vertical-align: middle;\n",
       "    }\n",
       "\n",
       "    .dataframe tbody tr th {\n",
       "        vertical-align: top;\n",
       "    }\n",
       "\n",
       "    .dataframe thead th {\n",
       "        text-align: right;\n",
       "    }\n",
       "</style>\n",
       "<table border=\"1\" class=\"dataframe\">\n",
       "  <thead>\n",
       "    <tr style=\"text-align: right;\">\n",
       "      <th></th>\n",
       "      <th>TotalCoinsMined</th>\n",
       "      <th>Algorithm_1GB AES Pattern Search</th>\n",
       "      <th>Algorithm_536</th>\n",
       "      <th>Algorithm_Argon2d</th>\n",
       "      <th>Algorithm_BLAKE256</th>\n",
       "      <th>Algorithm_Blake</th>\n",
       "      <th>Algorithm_Blake2S</th>\n",
       "      <th>Algorithm_Blake2b</th>\n",
       "      <th>Algorithm_C11</th>\n",
       "      <th>Algorithm_Cloverhash</th>\n",
       "      <th>...</th>\n",
       "      <th>TotalCoinSupply_91388946</th>\n",
       "      <th>TotalCoinSupply_92000000000</th>\n",
       "      <th>TotalCoinSupply_9354000</th>\n",
       "      <th>TotalCoinSupply_9507271</th>\n",
       "      <th>TotalCoinSupply_9736000</th>\n",
       "      <th>TotalCoinSupply_98000000</th>\n",
       "      <th>TotalCoinSupply_98100000000</th>\n",
       "      <th>TotalCoinSupply_990000000000</th>\n",
       "      <th>TotalCoinSupply_999481516</th>\n",
       "      <th>TotalCoinSupply_9999999</th>\n",
       "    </tr>\n",
       "  </thead>\n",
       "  <tbody>\n",
       "    <tr>\n",
       "      <th>42</th>\n",
       "      <td>4.199995e+01</td>\n",
       "      <td>0</td>\n",
       "      <td>0</td>\n",
       "      <td>0</td>\n",
       "      <td>0</td>\n",
       "      <td>0</td>\n",
       "      <td>0</td>\n",
       "      <td>0</td>\n",
       "      <td>0</td>\n",
       "      <td>0</td>\n",
       "      <td>...</td>\n",
       "      <td>0</td>\n",
       "      <td>0</td>\n",
       "      <td>0</td>\n",
       "      <td>0</td>\n",
       "      <td>0</td>\n",
       "      <td>0</td>\n",
       "      <td>0</td>\n",
       "      <td>0</td>\n",
       "      <td>0</td>\n",
       "      <td>0</td>\n",
       "    </tr>\n",
       "    <tr>\n",
       "      <th>404</th>\n",
       "      <td>1.055185e+09</td>\n",
       "      <td>0</td>\n",
       "      <td>0</td>\n",
       "      <td>0</td>\n",
       "      <td>0</td>\n",
       "      <td>0</td>\n",
       "      <td>0</td>\n",
       "      <td>0</td>\n",
       "      <td>0</td>\n",
       "      <td>0</td>\n",
       "      <td>...</td>\n",
       "      <td>0</td>\n",
       "      <td>0</td>\n",
       "      <td>0</td>\n",
       "      <td>0</td>\n",
       "      <td>0</td>\n",
       "      <td>0</td>\n",
       "      <td>0</td>\n",
       "      <td>0</td>\n",
       "      <td>0</td>\n",
       "      <td>0</td>\n",
       "    </tr>\n",
       "    <tr>\n",
       "      <th>1337</th>\n",
       "      <td>2.927942e+10</td>\n",
       "      <td>0</td>\n",
       "      <td>0</td>\n",
       "      <td>0</td>\n",
       "      <td>0</td>\n",
       "      <td>0</td>\n",
       "      <td>0</td>\n",
       "      <td>0</td>\n",
       "      <td>0</td>\n",
       "      <td>0</td>\n",
       "      <td>...</td>\n",
       "      <td>0</td>\n",
       "      <td>0</td>\n",
       "      <td>0</td>\n",
       "      <td>0</td>\n",
       "      <td>0</td>\n",
       "      <td>0</td>\n",
       "      <td>0</td>\n",
       "      <td>0</td>\n",
       "      <td>0</td>\n",
       "      <td>0</td>\n",
       "    </tr>\n",
       "    <tr>\n",
       "      <th>BTC</th>\n",
       "      <td>1.792718e+07</td>\n",
       "      <td>0</td>\n",
       "      <td>0</td>\n",
       "      <td>0</td>\n",
       "      <td>0</td>\n",
       "      <td>0</td>\n",
       "      <td>0</td>\n",
       "      <td>0</td>\n",
       "      <td>0</td>\n",
       "      <td>0</td>\n",
       "      <td>...</td>\n",
       "      <td>0</td>\n",
       "      <td>0</td>\n",
       "      <td>0</td>\n",
       "      <td>0</td>\n",
       "      <td>0</td>\n",
       "      <td>0</td>\n",
       "      <td>0</td>\n",
       "      <td>0</td>\n",
       "      <td>0</td>\n",
       "      <td>0</td>\n",
       "    </tr>\n",
       "    <tr>\n",
       "      <th>ETH</th>\n",
       "      <td>1.076842e+08</td>\n",
       "      <td>0</td>\n",
       "      <td>0</td>\n",
       "      <td>0</td>\n",
       "      <td>0</td>\n",
       "      <td>0</td>\n",
       "      <td>0</td>\n",
       "      <td>0</td>\n",
       "      <td>0</td>\n",
       "      <td>0</td>\n",
       "      <td>...</td>\n",
       "      <td>0</td>\n",
       "      <td>0</td>\n",
       "      <td>0</td>\n",
       "      <td>0</td>\n",
       "      <td>0</td>\n",
       "      <td>0</td>\n",
       "      <td>0</td>\n",
       "      <td>0</td>\n",
       "      <td>0</td>\n",
       "      <td>0</td>\n",
       "    </tr>\n",
       "    <tr>\n",
       "      <th>LTC</th>\n",
       "      <td>6.303924e+07</td>\n",
       "      <td>0</td>\n",
       "      <td>0</td>\n",
       "      <td>0</td>\n",
       "      <td>0</td>\n",
       "      <td>0</td>\n",
       "      <td>0</td>\n",
       "      <td>0</td>\n",
       "      <td>0</td>\n",
       "      <td>0</td>\n",
       "      <td>...</td>\n",
       "      <td>0</td>\n",
       "      <td>0</td>\n",
       "      <td>0</td>\n",
       "      <td>0</td>\n",
       "      <td>0</td>\n",
       "      <td>0</td>\n",
       "      <td>0</td>\n",
       "      <td>0</td>\n",
       "      <td>0</td>\n",
       "      <td>0</td>\n",
       "    </tr>\n",
       "    <tr>\n",
       "      <th>DASH</th>\n",
       "      <td>9.031294e+06</td>\n",
       "      <td>0</td>\n",
       "      <td>0</td>\n",
       "      <td>0</td>\n",
       "      <td>0</td>\n",
       "      <td>0</td>\n",
       "      <td>0</td>\n",
       "      <td>0</td>\n",
       "      <td>0</td>\n",
       "      <td>0</td>\n",
       "      <td>...</td>\n",
       "      <td>0</td>\n",
       "      <td>0</td>\n",
       "      <td>0</td>\n",
       "      <td>0</td>\n",
       "      <td>0</td>\n",
       "      <td>0</td>\n",
       "      <td>0</td>\n",
       "      <td>0</td>\n",
       "      <td>0</td>\n",
       "      <td>0</td>\n",
       "    </tr>\n",
       "    <tr>\n",
       "      <th>XMR</th>\n",
       "      <td>1.720114e+07</td>\n",
       "      <td>0</td>\n",
       "      <td>0</td>\n",
       "      <td>0</td>\n",
       "      <td>0</td>\n",
       "      <td>0</td>\n",
       "      <td>0</td>\n",
       "      <td>0</td>\n",
       "      <td>0</td>\n",
       "      <td>0</td>\n",
       "      <td>...</td>\n",
       "      <td>0</td>\n",
       "      <td>0</td>\n",
       "      <td>0</td>\n",
       "      <td>0</td>\n",
       "      <td>0</td>\n",
       "      <td>0</td>\n",
       "      <td>0</td>\n",
       "      <td>0</td>\n",
       "      <td>0</td>\n",
       "      <td>0</td>\n",
       "    </tr>\n",
       "    <tr>\n",
       "      <th>ETC</th>\n",
       "      <td>1.133597e+08</td>\n",
       "      <td>0</td>\n",
       "      <td>0</td>\n",
       "      <td>0</td>\n",
       "      <td>0</td>\n",
       "      <td>0</td>\n",
       "      <td>0</td>\n",
       "      <td>0</td>\n",
       "      <td>0</td>\n",
       "      <td>0</td>\n",
       "      <td>...</td>\n",
       "      <td>0</td>\n",
       "      <td>0</td>\n",
       "      <td>0</td>\n",
       "      <td>0</td>\n",
       "      <td>0</td>\n",
       "      <td>0</td>\n",
       "      <td>0</td>\n",
       "      <td>0</td>\n",
       "      <td>0</td>\n",
       "      <td>0</td>\n",
       "    </tr>\n",
       "    <tr>\n",
       "      <th>ZEC</th>\n",
       "      <td>7.383056e+06</td>\n",
       "      <td>0</td>\n",
       "      <td>0</td>\n",
       "      <td>0</td>\n",
       "      <td>0</td>\n",
       "      <td>0</td>\n",
       "      <td>0</td>\n",
       "      <td>0</td>\n",
       "      <td>0</td>\n",
       "      <td>0</td>\n",
       "      <td>...</td>\n",
       "      <td>0</td>\n",
       "      <td>0</td>\n",
       "      <td>0</td>\n",
       "      <td>0</td>\n",
       "      <td>0</td>\n",
       "      <td>0</td>\n",
       "      <td>0</td>\n",
       "      <td>0</td>\n",
       "      <td>0</td>\n",
       "      <td>0</td>\n",
       "    </tr>\n",
       "  </tbody>\n",
       "</table>\n",
       "<p>10 rows × 377 columns</p>\n",
       "</div>"
      ],
      "text/plain": [
       "      TotalCoinsMined  Algorithm_1GB AES Pattern Search  Algorithm_536  \\\n",
       "42       4.199995e+01                                 0              0   \n",
       "404      1.055185e+09                                 0              0   \n",
       "1337     2.927942e+10                                 0              0   \n",
       "BTC      1.792718e+07                                 0              0   \n",
       "ETH      1.076842e+08                                 0              0   \n",
       "LTC      6.303924e+07                                 0              0   \n",
       "DASH     9.031294e+06                                 0              0   \n",
       "XMR      1.720114e+07                                 0              0   \n",
       "ETC      1.133597e+08                                 0              0   \n",
       "ZEC      7.383056e+06                                 0              0   \n",
       "\n",
       "      Algorithm_Argon2d  Algorithm_BLAKE256  Algorithm_Blake  \\\n",
       "42                    0                   0                0   \n",
       "404                   0                   0                0   \n",
       "1337                  0                   0                0   \n",
       "BTC                   0                   0                0   \n",
       "ETH                   0                   0                0   \n",
       "LTC                   0                   0                0   \n",
       "DASH                  0                   0                0   \n",
       "XMR                   0                   0                0   \n",
       "ETC                   0                   0                0   \n",
       "ZEC                   0                   0                0   \n",
       "\n",
       "      Algorithm_Blake2S  Algorithm_Blake2b  Algorithm_C11  \\\n",
       "42                    0                  0              0   \n",
       "404                   0                  0              0   \n",
       "1337                  0                  0              0   \n",
       "BTC                   0                  0              0   \n",
       "ETH                   0                  0              0   \n",
       "LTC                   0                  0              0   \n",
       "DASH                  0                  0              0   \n",
       "XMR                   0                  0              0   \n",
       "ETC                   0                  0              0   \n",
       "ZEC                   0                  0              0   \n",
       "\n",
       "      Algorithm_Cloverhash  ...  TotalCoinSupply_91388946  \\\n",
       "42                       0  ...                         0   \n",
       "404                      0  ...                         0   \n",
       "1337                     0  ...                         0   \n",
       "BTC                      0  ...                         0   \n",
       "ETH                      0  ...                         0   \n",
       "LTC                      0  ...                         0   \n",
       "DASH                     0  ...                         0   \n",
       "XMR                      0  ...                         0   \n",
       "ETC                      0  ...                         0   \n",
       "ZEC                      0  ...                         0   \n",
       "\n",
       "      TotalCoinSupply_92000000000  TotalCoinSupply_9354000  \\\n",
       "42                              0                        0   \n",
       "404                             0                        0   \n",
       "1337                            0                        0   \n",
       "BTC                             0                        0   \n",
       "ETH                             0                        0   \n",
       "LTC                             0                        0   \n",
       "DASH                            0                        0   \n",
       "XMR                             0                        0   \n",
       "ETC                             0                        0   \n",
       "ZEC                             0                        0   \n",
       "\n",
       "      TotalCoinSupply_9507271  TotalCoinSupply_9736000  \\\n",
       "42                          0                        0   \n",
       "404                         0                        0   \n",
       "1337                        0                        0   \n",
       "BTC                         0                        0   \n",
       "ETH                         0                        0   \n",
       "LTC                         0                        0   \n",
       "DASH                        0                        0   \n",
       "XMR                         0                        0   \n",
       "ETC                         0                        0   \n",
       "ZEC                         0                        0   \n",
       "\n",
       "      TotalCoinSupply_98000000  TotalCoinSupply_98100000000  \\\n",
       "42                           0                            0   \n",
       "404                          0                            0   \n",
       "1337                         0                            0   \n",
       "BTC                          0                            0   \n",
       "ETH                          0                            0   \n",
       "LTC                          0                            0   \n",
       "DASH                         0                            0   \n",
       "XMR                          0                            0   \n",
       "ETC                          0                            0   \n",
       "ZEC                          0                            0   \n",
       "\n",
       "      TotalCoinSupply_990000000000  TotalCoinSupply_999481516  \\\n",
       "42                               0                          0   \n",
       "404                              0                          0   \n",
       "1337                             0                          0   \n",
       "BTC                              0                          0   \n",
       "ETH                              0                          0   \n",
       "LTC                              0                          0   \n",
       "DASH                             0                          0   \n",
       "XMR                              0                          0   \n",
       "ETC                              0                          0   \n",
       "ZEC                              0                          0   \n",
       "\n",
       "      TotalCoinSupply_9999999  \n",
       "42                          0  \n",
       "404                         0  \n",
       "1337                        0  \n",
       "BTC                         0  \n",
       "ETH                         0  \n",
       "LTC                         0  \n",
       "DASH                        0  \n",
       "XMR                         0  \n",
       "ETC                         0  \n",
       "ZEC                         0  \n",
       "\n",
       "[10 rows x 377 columns]"
      ]
     },
     "execution_count": 123,
     "metadata": {},
     "output_type": "execute_result"
    }
   ],
   "source": [
    "# Use get_dummies() to create variables for text features.\n",
    "X = pd.get_dummies(crypto_df)\n",
    "X.head(10)"
   ]
  },
  {
   "cell_type": "code",
   "execution_count": 124,
   "metadata": {},
   "outputs": [
    {
     "data": {
      "text/plain": [
       "array([[-0.11710817, -0.0433963 , -0.0433963 , ..., -0.0433963 ,\n",
       "        -0.0433963 , -0.0433963 ],\n",
       "       [-0.09396955, -0.0433963 , -0.0433963 , ..., -0.0433963 ,\n",
       "        -0.0433963 , -0.0433963 ],\n",
       "       [ 0.52494561, -0.0433963 , -0.0433963 , ..., -0.0433963 ,\n",
       "        -0.0433963 , -0.0433963 ],\n",
       "       ...,\n",
       "       [-0.09561336, -0.0433963 , -0.0433963 , ..., -0.0433963 ,\n",
       "        -0.0433963 , -0.0433963 ],\n",
       "       [-0.11694817, -0.0433963 , -0.0433963 , ..., -0.0433963 ,\n",
       "        -0.0433963 , -0.0433963 ],\n",
       "       [-0.11710536, -0.0433963 , -0.0433963 , ..., -0.0433963 ,\n",
       "        -0.0433963 , -0.0433963 ]])"
      ]
     },
     "execution_count": 124,
     "metadata": {},
     "output_type": "execute_result"
    }
   ],
   "source": [
    "# Standardize the data with StandardScaler().\n",
    "crypto_scaled = StandardScaler().fit_transform(X)\n",
    "crypto_scaled"
   ]
  },
  {
   "cell_type": "markdown",
   "metadata": {},
   "source": [
    "### Deliverable 2: Reducing Data Dimensions Using PCA"
   ]
  },
  {
   "cell_type": "code",
   "execution_count": 125,
   "metadata": {},
   "outputs": [
    {
     "data": {
      "text/plain": [
       "array([[-0.30080782, -0.09142229, -0.01510123],\n",
       "       [-0.26935886, -0.07925558, -0.00751424],\n",
       "       [ 0.33271   ,  0.09748895, -0.06055324],\n",
       "       ...,\n",
       "       [-0.16351825, -0.35207483, -0.12856895],\n",
       "       [-0.29003633, -0.24519293, -0.0660165 ],\n",
       "       [-0.30596763, -0.07191016, -0.02010592]])"
      ]
     },
     "execution_count": 125,
     "metadata": {},
     "output_type": "execute_result"
    }
   ],
   "source": [
    "# Using PCA to reduce dimension to three principal components.\n",
    "\n",
    "\n",
    "pca = PCA(n_components=3)\n",
    "\n",
    "crypto_pca = pca.fit_transform(crypto_scaled)\n",
    "\n",
    "crypto_pca"
   ]
  },
  {
   "cell_type": "code",
   "execution_count": 126,
   "metadata": {},
   "outputs": [
    {
     "data": {
      "text/plain": [
       "Index(['42', '404', '1337', 'BTC', 'ETH', 'LTC', 'DASH', 'XMR', 'ETC', 'ZEC',\n",
       "       ...\n",
       "       'TCH', 'WAVES', 'PART', 'BTT', 'NXT', 'ZEPH', 'GAP', 'BDX', 'ZEN',\n",
       "       'XBC'],\n",
       "      dtype='object', length=532)"
      ]
     },
     "execution_count": 126,
     "metadata": {},
     "output_type": "execute_result"
    }
   ],
   "source": [
    "# Index\n",
    "n = crypto_df.index\n",
    "n"
   ]
  },
  {
   "cell_type": "code",
   "execution_count": 127,
   "metadata": {},
   "outputs": [
    {
     "data": {
      "text/html": [
       "<div>\n",
       "<style scoped>\n",
       "    .dataframe tbody tr th:only-of-type {\n",
       "        vertical-align: middle;\n",
       "    }\n",
       "\n",
       "    .dataframe tbody tr th {\n",
       "        vertical-align: top;\n",
       "    }\n",
       "\n",
       "    .dataframe thead th {\n",
       "        text-align: right;\n",
       "    }\n",
       "</style>\n",
       "<table border=\"1\" class=\"dataframe\">\n",
       "  <thead>\n",
       "    <tr style=\"text-align: right;\">\n",
       "      <th></th>\n",
       "      <th>PC 1</th>\n",
       "      <th>PC 2</th>\n",
       "      <th>PC 3</th>\n",
       "    </tr>\n",
       "  </thead>\n",
       "  <tbody>\n",
       "    <tr>\n",
       "      <th>42</th>\n",
       "      <td>-0.300808</td>\n",
       "      <td>-0.091422</td>\n",
       "      <td>-0.015101</td>\n",
       "    </tr>\n",
       "    <tr>\n",
       "      <th>404</th>\n",
       "      <td>-0.269359</td>\n",
       "      <td>-0.079256</td>\n",
       "      <td>-0.007514</td>\n",
       "    </tr>\n",
       "    <tr>\n",
       "      <th>1337</th>\n",
       "      <td>0.332710</td>\n",
       "      <td>0.097489</td>\n",
       "      <td>-0.060553</td>\n",
       "    </tr>\n",
       "    <tr>\n",
       "      <th>BTC</th>\n",
       "      <td>-0.289515</td>\n",
       "      <td>-0.229963</td>\n",
       "      <td>-0.102413</td>\n",
       "    </tr>\n",
       "    <tr>\n",
       "      <th>ETH</th>\n",
       "      <td>-0.115932</td>\n",
       "      <td>-0.257221</td>\n",
       "      <td>-0.104351</td>\n",
       "    </tr>\n",
       "    <tr>\n",
       "      <th>LTC</th>\n",
       "      <td>-0.346054</td>\n",
       "      <td>-0.272873</td>\n",
       "      <td>-0.025363</td>\n",
       "    </tr>\n",
       "    <tr>\n",
       "      <th>DASH</th>\n",
       "      <td>-0.217099</td>\n",
       "      <td>0.002101</td>\n",
       "      <td>-0.107560</td>\n",
       "    </tr>\n",
       "    <tr>\n",
       "      <th>XMR</th>\n",
       "      <td>-0.044022</td>\n",
       "      <td>-0.280218</td>\n",
       "      <td>-0.104707</td>\n",
       "    </tr>\n",
       "    <tr>\n",
       "      <th>ETC</th>\n",
       "      <td>-0.252605</td>\n",
       "      <td>-0.268470</td>\n",
       "      <td>-0.156570</td>\n",
       "    </tr>\n",
       "    <tr>\n",
       "      <th>ZEC</th>\n",
       "      <td>-0.290035</td>\n",
       "      <td>-0.245193</td>\n",
       "      <td>-0.066016</td>\n",
       "    </tr>\n",
       "  </tbody>\n",
       "</table>\n",
       "</div>"
      ],
      "text/plain": [
       "          PC 1      PC 2      PC 3\n",
       "42   -0.300808 -0.091422 -0.015101\n",
       "404  -0.269359 -0.079256 -0.007514\n",
       "1337  0.332710  0.097489 -0.060553\n",
       "BTC  -0.289515 -0.229963 -0.102413\n",
       "ETH  -0.115932 -0.257221 -0.104351\n",
       "LTC  -0.346054 -0.272873 -0.025363\n",
       "DASH -0.217099  0.002101 -0.107560\n",
       "XMR  -0.044022 -0.280218 -0.104707\n",
       "ETC  -0.252605 -0.268470 -0.156570\n",
       "ZEC  -0.290035 -0.245193 -0.066016"
      ]
     },
     "execution_count": 127,
     "metadata": {},
     "output_type": "execute_result"
    }
   ],
   "source": [
    "# Create a DataFrame with the three principal components.\n",
    "pcs_df = pd.DataFrame(\n",
    "    data=crypto_pca, columns=[\"PC 1\", \"PC 2\", \"PC 3\"]\n",
    ")\n",
    "pcs_df = pcs_df.set_index(n)\n",
    "\n",
    "pcs_df.head(10)"
   ]
  },
  {
   "cell_type": "markdown",
   "metadata": {},
   "source": [
    "### Deliverable 3: Clustering Crytocurrencies Using K-Means\n",
    "\n",
    "#### Finding the Best Value for `k` Using the Elbow Curve"
   ]
  },
  {
   "cell_type": "code",
   "execution_count": 128,
   "metadata": {},
   "outputs": [
    {
     "data": {},
     "metadata": {},
     "output_type": "display_data"
    },
    {
     "data": {
      "application/vnd.holoviews_exec.v0+json": "",
      "text/html": [
       "<div id='1998'>\n",
       "\n",
       "\n",
       "\n",
       "\n",
       "\n",
       "  <div class=\"bk-root\" id=\"12abd402-0a52-4f94-b9e3-321fc3990cd8\" data-root-id=\"1998\"></div>\n",
       "</div>\n",
       "<script type=\"application/javascript\">(function(root) {\n",
       "  function embed_document(root) {\n",
       "    var docs_json = {\"aa05fed2-8427-43d1-a14f-a130ecd1351a\":{\"roots\":{\"references\":[{\"attributes\":{\"text\":\"Elbow Curve\",\"text_color\":{\"value\":\"black\"},\"text_font_size\":{\"value\":\"12pt\"}},\"id\":\"2004\",\"type\":\"Title\"},{\"attributes\":{},\"id\":\"2020\",\"type\":\"SaveTool\"},{\"attributes\":{\"children\":[{\"id\":\"1999\"},{\"id\":\"2003\"},{\"id\":\"2062\"}],\"margin\":[0,0,0,0],\"name\":\"Row03727\",\"tags\":[\"embedded\"]},\"id\":\"1998\",\"type\":\"Row\"},{\"attributes\":{\"ticks\":[1,2,3,4,5,6,7,8,9,10]},\"id\":\"2041\",\"type\":\"FixedTicker\"},{\"attributes\":{},\"id\":\"2021\",\"type\":\"PanTool\"},{\"attributes\":{\"below\":[{\"id\":\"2012\"}],\"center\":[{\"id\":\"2015\"},{\"id\":\"2019\"}],\"left\":[{\"id\":\"2016\"}],\"margin\":[5,5,5,5],\"min_border_bottom\":10,\"min_border_left\":10,\"min_border_right\":10,\"min_border_top\":10,\"plot_height\":300,\"plot_width\":700,\"renderers\":[{\"id\":\"2039\"}],\"sizing_mode\":\"fixed\",\"title\":{\"id\":\"2004\"},\"toolbar\":{\"id\":\"2026\"},\"x_range\":{\"id\":\"2000\"},\"x_scale\":{\"id\":\"2008\"},\"y_range\":{\"id\":\"2001\"},\"y_scale\":{\"id\":\"2010\"}},\"id\":\"2003\",\"subtype\":\"Figure\",\"type\":\"Plot\"},{\"attributes\":{},\"id\":\"2024\",\"type\":\"ResetTool\"},{\"attributes\":{},\"id\":\"2022\",\"type\":\"WheelZoomTool\"},{\"attributes\":{\"source\":{\"id\":\"2033\"}},\"id\":\"2040\",\"type\":\"CDSView\"},{\"attributes\":{\"overlay\":{\"id\":\"2025\"}},\"id\":\"2023\",\"type\":\"BoxZoomTool\"},{\"attributes\":{\"axis\":{\"id\":\"2012\"},\"grid_line_color\":null,\"ticker\":null},\"id\":\"2015\",\"type\":\"Grid\"},{\"attributes\":{\"margin\":[5,5,5,5],\"name\":\"HSpacer03731\",\"sizing_mode\":\"stretch_width\"},\"id\":\"1999\",\"type\":\"Spacer\"},{\"attributes\":{},\"id\":\"2008\",\"type\":\"LinearScale\"},{\"attributes\":{\"end\":10.0,\"reset_end\":10.0,\"reset_start\":1.0,\"start\":1.0,\"tags\":[[[\"k\",\"k\",null]]]},\"id\":\"2000\",\"type\":\"Range1d\"},{\"attributes\":{\"axis_label\":\"inertia\",\"bounds\":\"auto\",\"formatter\":{\"id\":\"2046\"},\"major_label_orientation\":\"horizontal\",\"ticker\":{\"id\":\"2017\"}},\"id\":\"2016\",\"type\":\"LinearAxis\"},{\"attributes\":{\"axis_label\":\"k\",\"bounds\":\"auto\",\"formatter\":{\"id\":\"2042\"},\"major_label_orientation\":\"horizontal\",\"ticker\":{\"id\":\"2041\"}},\"id\":\"2012\",\"type\":\"LinearAxis\"},{\"attributes\":{},\"id\":\"2010\",\"type\":\"LinearScale\"},{\"attributes\":{},\"id\":\"2046\",\"type\":\"BasicTickFormatter\"},{\"attributes\":{\"end\":5355.230068477803,\"reset_end\":5355.230068477803,\"reset_start\":-448.60869281516807,\"start\":-448.60869281516807,\"tags\":[[[\"inertia\",\"inertia\",null]]]},\"id\":\"2001\",\"type\":\"Range1d\"},{\"attributes\":{},\"id\":\"2042\",\"type\":\"BasicTickFormatter\"},{\"attributes\":{},\"id\":\"2053\",\"type\":\"UnionRenderers\"},{\"attributes\":{\"callback\":null,\"renderers\":[{\"id\":\"2039\"}],\"tags\":[\"hv_created\"],\"tooltips\":[[\"k\",\"@{k}\"],[\"inertia\",\"@{inertia}\"]]},\"id\":\"2002\",\"type\":\"HoverTool\"},{\"attributes\":{},\"id\":\"2017\",\"type\":\"BasicTicker\"},{\"attributes\":{\"axis\":{\"id\":\"2016\"},\"dimension\":1,\"grid_line_color\":null,\"ticker\":null},\"id\":\"2019\",\"type\":\"Grid\"},{\"attributes\":{\"active_drag\":\"auto\",\"active_inspect\":\"auto\",\"active_multi\":null,\"active_scroll\":\"auto\",\"active_tap\":\"auto\",\"tools\":[{\"id\":\"2002\"},{\"id\":\"2020\"},{\"id\":\"2021\"},{\"id\":\"2022\"},{\"id\":\"2023\"},{\"id\":\"2024\"}]},\"id\":\"2026\",\"type\":\"Toolbar\"},{\"attributes\":{\"data_source\":{\"id\":\"2033\"},\"glyph\":{\"id\":\"2036\"},\"hover_glyph\":null,\"muted_glyph\":{\"id\":\"2038\"},\"nonselection_glyph\":{\"id\":\"2037\"},\"selection_glyph\":null,\"view\":{\"id\":\"2040\"}},\"id\":\"2039\",\"type\":\"GlyphRenderer\"},{\"attributes\":{\"line_color\":\"#30a2da\",\"line_width\":2,\"x\":{\"field\":\"k\"},\"y\":{\"field\":\"inertia\"}},\"id\":\"2036\",\"type\":\"Line\"},{\"attributes\":{\"margin\":[5,5,5,5],\"name\":\"HSpacer03732\",\"sizing_mode\":\"stretch_width\"},\"id\":\"2062\",\"type\":\"Spacer\"},{\"attributes\":{\"bottom_units\":\"screen\",\"fill_alpha\":0.5,\"fill_color\":\"lightgrey\",\"left_units\":\"screen\",\"level\":\"overlay\",\"line_alpha\":1.0,\"line_color\":\"black\",\"line_dash\":[4,4],\"line_width\":2,\"right_units\":\"screen\",\"top_units\":\"screen\"},\"id\":\"2025\",\"type\":\"BoxAnnotation\"},{\"attributes\":{\"data\":{\"inertia\":{\"__ndarray__\":\"d+6tq5MHs0CJIQEV6cSpQAslympRxJ1AeRh6nx7Kh0DsP6Wn5fl7QFqzNzOu3m5AI3XmRpWFVECAq1v3yW5KQOaifyYYyERAa4rjZbOFQUA=\",\"dtype\":\"float64\",\"order\":\"little\",\"shape\":[10]},\"k\":[1,2,3,4,5,6,7,8,9,10]},\"selected\":{\"id\":\"2034\"},\"selection_policy\":{\"id\":\"2053\"}},\"id\":\"2033\",\"type\":\"ColumnDataSource\"},{\"attributes\":{\"line_alpha\":0.2,\"line_color\":\"#30a2da\",\"line_width\":2,\"x\":{\"field\":\"k\"},\"y\":{\"field\":\"inertia\"}},\"id\":\"2038\",\"type\":\"Line\"},{\"attributes\":{\"line_alpha\":0.1,\"line_color\":\"#30a2da\",\"line_width\":2,\"x\":{\"field\":\"k\"},\"y\":{\"field\":\"inertia\"}},\"id\":\"2037\",\"type\":\"Line\"},{\"attributes\":{},\"id\":\"2034\",\"type\":\"Selection\"}],\"root_ids\":[\"1998\"]},\"title\":\"Bokeh Application\",\"version\":\"2.2.3\"}};\n",
       "    var render_items = [{\"docid\":\"aa05fed2-8427-43d1-a14f-a130ecd1351a\",\"root_ids\":[\"1998\"],\"roots\":{\"1998\":\"12abd402-0a52-4f94-b9e3-321fc3990cd8\"}}];\n",
       "    root.Bokeh.embed.embed_items_notebook(docs_json, render_items);\n",
       "  }\n",
       "  if (root.Bokeh !== undefined && root.Bokeh.Panel !== undefined) {\n",
       "    embed_document(root);\n",
       "  } else {\n",
       "    var attempts = 0;\n",
       "    var timer = setInterval(function(root) {\n",
       "      if (root.Bokeh !== undefined && root.Bokeh.Panel !== undefined) {\n",
       "        clearInterval(timer);\n",
       "        embed_document(root);\n",
       "      } else if (document.readyState == \"complete\") {\n",
       "        attempts++;\n",
       "        if (attempts > 100) {\n",
       "          clearInterval(timer);\n",
       "          console.log(\"Bokeh: ERROR: Unable to run BokehJS code because BokehJS library is missing\");\n",
       "        }\n",
       "      }\n",
       "    }, 10, root)\n",
       "  }\n",
       "})(window);</script>"
      ],
      "text/plain": [
       ":Curve   [k]   (inertia)"
      ]
     },
     "execution_count": 128,
     "metadata": {
      "application/vnd.holoviews_exec.v0+json": {
       "id": "1998"
      }
     },
     "output_type": "execute_result"
    }
   ],
   "source": [
    "# Create an elbow curve to find the best value for K.\n",
    "inertia = []\n",
    "k = list(range(1, 11))\n",
    "\n",
    "for i in k:\n",
    "    \n",
    "    km = KMeans(n_clusters=i, random_state=0)\n",
    "    km.fit(pcs_df)\n",
    "    inertia.append(km.inertia_)\n",
    "    \n",
    "    \n",
    "# Create elbow curve using hvPlot\n",
    "elbow_data = {\"k\": k, \"inertia\": inertia}\n",
    "df_elbow = pd.DataFrame(elbow_data)\n",
    "df_elbow.hvplot.line(x=\"k\", y=\"inertia\", xticks=k, title=\"Elbow Curve\")\n"
   ]
  },
  {
   "cell_type": "markdown",
   "metadata": {},
   "source": [
    "Running K-Means with `k=4`"
   ]
  },
  {
   "cell_type": "code",
   "execution_count": 129,
   "metadata": {},
   "outputs": [
    {
     "data": {
      "text/plain": [
       "array([0, 0, 0, 0, 0, 0, 0, 0, 0, 0, 0, 0, 0, 0, 0, 0, 0, 0, 0, 0, 0, 0,\n",
       "       0, 0, 0, 0, 0, 0, 0, 0, 0, 0, 0, 0, 0, 0, 0, 0, 0, 0, 0, 0, 0, 0,\n",
       "       0, 0, 0, 0, 0, 0, 0, 0, 0, 0, 0, 0, 0, 0, 0, 0, 0, 0, 0, 0, 0, 0,\n",
       "       0, 0, 0, 0, 0, 0, 0, 0, 0, 0, 0, 0, 0, 0, 0, 0, 0, 0, 0, 0, 0, 0,\n",
       "       0, 0, 0, 0, 0, 0, 0, 0, 0, 0, 0, 0, 0, 0, 0, 0, 0, 0, 0, 0, 0, 0,\n",
       "       0, 0, 0, 0, 0, 0, 0, 0, 0, 0, 0, 0, 0, 0, 0, 0, 0, 0, 0, 0, 0, 0,\n",
       "       0, 0, 0, 0, 0, 0, 0, 0, 0, 0, 0, 0, 0, 0, 0, 0, 0, 0, 0, 0, 0, 0,\n",
       "       0, 0, 0, 0, 0, 0, 0, 0, 0, 0, 0, 0, 0, 0, 0, 0, 0, 0, 0, 0, 0, 0,\n",
       "       0, 0, 0, 0, 0, 0, 0, 0, 0, 0, 0, 0, 0, 0, 0, 0, 0, 0, 0, 0, 0, 0,\n",
       "       0, 0, 0, 0, 0, 0, 0, 0, 0, 0, 0, 0, 0, 0, 0, 0, 0, 0, 0, 0, 0, 0,\n",
       "       0, 0, 0, 0, 0, 0, 0, 0, 0, 0, 0, 0, 0, 0, 0, 0, 0, 0, 0, 0, 0, 0,\n",
       "       0, 0, 0, 0, 0, 0, 0, 0, 0, 0, 0, 0, 0, 0, 0, 0, 0, 0, 0, 0, 0, 0,\n",
       "       0, 0, 0, 0, 0, 0, 0, 0, 0, 0, 0, 0, 0, 0, 0, 0, 0, 0, 0, 0, 0, 0,\n",
       "       0, 0, 0, 0, 0, 0, 0, 0, 0, 0, 0, 0, 0, 0, 0, 0, 0, 0, 0, 0, 0, 0,\n",
       "       0, 0, 0, 0, 0, 0, 0, 0, 0, 0, 0, 0, 0, 0, 0, 0, 0, 0, 0, 0, 0, 0,\n",
       "       0, 0, 0, 0, 0, 0, 0, 0, 0, 0, 0, 0, 0, 0, 0, 0, 0, 0, 0, 0, 0, 0,\n",
       "       0, 0, 0, 0, 0, 0, 0, 0, 0, 0, 0, 0, 0, 0, 0, 0, 0, 0, 0, 0, 0, 0,\n",
       "       0, 0, 0, 0, 3, 1, 0, 0, 0, 0, 1, 0, 0, 0, 0, 0, 0, 0, 0, 0, 0, 0,\n",
       "       0, 0, 0, 0, 0, 0, 0, 0, 0, 0, 0, 0, 0, 0, 0, 0, 0, 0, 0, 0, 0, 0,\n",
       "       0, 0, 0, 0, 0, 0, 0, 0, 0, 0, 0, 0, 0, 0, 0, 0, 0, 0, 0, 0, 0, 0,\n",
       "       0, 0, 0, 0, 0, 0, 0, 0, 0, 0, 0, 0, 0, 0, 0, 0, 0, 0, 0, 0, 0, 0,\n",
       "       0, 0, 0, 0, 0, 0, 0, 0, 0, 0, 0, 0, 0, 0, 0, 0, 0, 0, 0, 0, 0, 0,\n",
       "       0, 0, 0, 0, 0, 0, 0, 0, 0, 0, 0, 0, 0, 0, 0, 0, 0, 0, 0, 0, 0, 0,\n",
       "       0, 0, 0, 0, 0, 0, 0, 0, 0, 0, 0, 0, 0, 0, 0, 0, 0, 0, 0, 2, 0, 0,\n",
       "       0, 0, 0, 0])"
      ]
     },
     "execution_count": 129,
     "metadata": {},
     "output_type": "execute_result"
    }
   ],
   "source": [
    "# Initialize the K-Means model.\n",
    "model = KMeans(n_clusters=4, random_state=5)\n",
    "\n",
    "# Fit the model\n",
    "model.fit(pcs_df)\n",
    "\n",
    "# Predict clusters\n",
    "predictions = model.predict(pcs_df)\n",
    "\n",
    "predictions"
   ]
  },
  {
   "cell_type": "code",
   "execution_count": 130,
   "metadata": {},
   "outputs": [
    {
     "name": "stdout",
     "output_type": "stream",
     "text": [
      "(532, 9)\n"
     ]
    },
    {
     "data": {
      "text/html": [
       "<div>\n",
       "<style scoped>\n",
       "    .dataframe tbody tr th:only-of-type {\n",
       "        vertical-align: middle;\n",
       "    }\n",
       "\n",
       "    .dataframe tbody tr th {\n",
       "        vertical-align: top;\n",
       "    }\n",
       "\n",
       "    .dataframe thead th {\n",
       "        text-align: right;\n",
       "    }\n",
       "</style>\n",
       "<table border=\"1\" class=\"dataframe\">\n",
       "  <thead>\n",
       "    <tr style=\"text-align: right;\">\n",
       "      <th></th>\n",
       "      <th>Algorithm</th>\n",
       "      <th>ProofType</th>\n",
       "      <th>TotalCoinsMined</th>\n",
       "      <th>TotalCoinSupply</th>\n",
       "      <th>PC 1</th>\n",
       "      <th>PC 2</th>\n",
       "      <th>PC 3</th>\n",
       "      <th>CoinName</th>\n",
       "      <th>class</th>\n",
       "    </tr>\n",
       "  </thead>\n",
       "  <tbody>\n",
       "    <tr>\n",
       "      <th>42</th>\n",
       "      <td>Scrypt</td>\n",
       "      <td>PoW/PoS</td>\n",
       "      <td>4.199995e+01</td>\n",
       "      <td>42</td>\n",
       "      <td>-0.300808</td>\n",
       "      <td>-0.091422</td>\n",
       "      <td>-0.015101</td>\n",
       "      <td>42 Coin</td>\n",
       "      <td>0</td>\n",
       "    </tr>\n",
       "    <tr>\n",
       "      <th>404</th>\n",
       "      <td>Scrypt</td>\n",
       "      <td>PoW/PoS</td>\n",
       "      <td>1.055185e+09</td>\n",
       "      <td>532000000</td>\n",
       "      <td>-0.269359</td>\n",
       "      <td>-0.079256</td>\n",
       "      <td>-0.007514</td>\n",
       "      <td>404Coin</td>\n",
       "      <td>0</td>\n",
       "    </tr>\n",
       "    <tr>\n",
       "      <th>1337</th>\n",
       "      <td>X13</td>\n",
       "      <td>PoW/PoS</td>\n",
       "      <td>2.927942e+10</td>\n",
       "      <td>314159265359</td>\n",
       "      <td>0.332710</td>\n",
       "      <td>0.097489</td>\n",
       "      <td>-0.060553</td>\n",
       "      <td>EliteCoin</td>\n",
       "      <td>0</td>\n",
       "    </tr>\n",
       "    <tr>\n",
       "      <th>BTC</th>\n",
       "      <td>SHA-256</td>\n",
       "      <td>PoW</td>\n",
       "      <td>1.792718e+07</td>\n",
       "      <td>21000000</td>\n",
       "      <td>-0.289515</td>\n",
       "      <td>-0.229963</td>\n",
       "      <td>-0.102413</td>\n",
       "      <td>Bitcoin</td>\n",
       "      <td>0</td>\n",
       "    </tr>\n",
       "    <tr>\n",
       "      <th>ETH</th>\n",
       "      <td>Ethash</td>\n",
       "      <td>PoW</td>\n",
       "      <td>1.076842e+08</td>\n",
       "      <td>0</td>\n",
       "      <td>-0.115932</td>\n",
       "      <td>-0.257221</td>\n",
       "      <td>-0.104351</td>\n",
       "      <td>Ethereum</td>\n",
       "      <td>0</td>\n",
       "    </tr>\n",
       "    <tr>\n",
       "      <th>LTC</th>\n",
       "      <td>Scrypt</td>\n",
       "      <td>PoW</td>\n",
       "      <td>6.303924e+07</td>\n",
       "      <td>84000000</td>\n",
       "      <td>-0.346054</td>\n",
       "      <td>-0.272873</td>\n",
       "      <td>-0.025363</td>\n",
       "      <td>Litecoin</td>\n",
       "      <td>0</td>\n",
       "    </tr>\n",
       "    <tr>\n",
       "      <th>DASH</th>\n",
       "      <td>X11</td>\n",
       "      <td>PoW/PoS</td>\n",
       "      <td>9.031294e+06</td>\n",
       "      <td>22000000</td>\n",
       "      <td>-0.217099</td>\n",
       "      <td>0.002101</td>\n",
       "      <td>-0.107560</td>\n",
       "      <td>Dash</td>\n",
       "      <td>0</td>\n",
       "    </tr>\n",
       "    <tr>\n",
       "      <th>XMR</th>\n",
       "      <td>CryptoNight-V7</td>\n",
       "      <td>PoW</td>\n",
       "      <td>1.720114e+07</td>\n",
       "      <td>0</td>\n",
       "      <td>-0.044022</td>\n",
       "      <td>-0.280218</td>\n",
       "      <td>-0.104707</td>\n",
       "      <td>Monero</td>\n",
       "      <td>0</td>\n",
       "    </tr>\n",
       "    <tr>\n",
       "      <th>ETC</th>\n",
       "      <td>Ethash</td>\n",
       "      <td>PoW</td>\n",
       "      <td>1.133597e+08</td>\n",
       "      <td>210000000</td>\n",
       "      <td>-0.252605</td>\n",
       "      <td>-0.268470</td>\n",
       "      <td>-0.156570</td>\n",
       "      <td>Ethereum Classic</td>\n",
       "      <td>0</td>\n",
       "    </tr>\n",
       "    <tr>\n",
       "      <th>ZEC</th>\n",
       "      <td>Equihash</td>\n",
       "      <td>PoW</td>\n",
       "      <td>7.383056e+06</td>\n",
       "      <td>21000000</td>\n",
       "      <td>-0.290035</td>\n",
       "      <td>-0.245193</td>\n",
       "      <td>-0.066016</td>\n",
       "      <td>ZCash</td>\n",
       "      <td>0</td>\n",
       "    </tr>\n",
       "  </tbody>\n",
       "</table>\n",
       "</div>"
      ],
      "text/plain": [
       "           Algorithm ProofType  TotalCoinsMined TotalCoinSupply      PC 1  \\\n",
       "42            Scrypt   PoW/PoS     4.199995e+01              42 -0.300808   \n",
       "404           Scrypt   PoW/PoS     1.055185e+09       532000000 -0.269359   \n",
       "1337             X13   PoW/PoS     2.927942e+10    314159265359  0.332710   \n",
       "BTC          SHA-256       PoW     1.792718e+07        21000000 -0.289515   \n",
       "ETH           Ethash       PoW     1.076842e+08               0 -0.115932   \n",
       "LTC           Scrypt       PoW     6.303924e+07        84000000 -0.346054   \n",
       "DASH             X11   PoW/PoS     9.031294e+06        22000000 -0.217099   \n",
       "XMR   CryptoNight-V7       PoW     1.720114e+07               0 -0.044022   \n",
       "ETC           Ethash       PoW     1.133597e+08       210000000 -0.252605   \n",
       "ZEC         Equihash       PoW     7.383056e+06        21000000 -0.290035   \n",
       "\n",
       "          PC 2      PC 3          CoinName  class  \n",
       "42   -0.091422 -0.015101           42 Coin      0  \n",
       "404  -0.079256 -0.007514           404Coin      0  \n",
       "1337  0.097489 -0.060553         EliteCoin      0  \n",
       "BTC  -0.229963 -0.102413           Bitcoin      0  \n",
       "ETH  -0.257221 -0.104351          Ethereum      0  \n",
       "LTC  -0.272873 -0.025363          Litecoin      0  \n",
       "DASH  0.002101 -0.107560              Dash      0  \n",
       "XMR  -0.280218 -0.104707            Monero      0  \n",
       "ETC  -0.268470 -0.156570  Ethereum Classic      0  \n",
       "ZEC  -0.245193 -0.066016             ZCash      0  "
      ]
     },
     "execution_count": 130,
     "metadata": {},
     "output_type": "execute_result"
    }
   ],
   "source": [
    "# Create a new DataFrame including predicted clusters and cryptocurrencies features.\n",
    "# Concatentate the crypto_df and pcs_df DataFrames on the same columns.\n",
    "clustered_df = crypto_df.join(pcs_df, how = \"inner\")\n",
    "\n",
    "#  Add a new column, \"CoinName\" to the clustered_df DataFrame that holds the names of the cryptocurrencies. \n",
    "clustered_df[\"CoinName\"] = crypto_names_df\n",
    "\n",
    "#  Add a new column, \"Class\" to the clustered_df DataFrame that holds the predictions.\n",
    "clustered_df[\"class\"] = model.labels_\n",
    "\n",
    "# Print the shape of the clustered_df\n",
    "print(clustered_df.shape)\n",
    "clustered_df.head(10)"
   ]
  },
  {
   "cell_type": "markdown",
   "metadata": {},
   "source": [
    "### Deliverable 4: Visualizing Cryptocurrencies Results\n",
    "\n",
    "#### 3D-Scatter with Clusters"
   ]
  },
  {
   "cell_type": "code",
   "execution_count": 131,
   "metadata": {},
   "outputs": [
    {
     "data": {
      "application/vnd.plotly.v1+json": {
       "config": {
        "plotlyServerURL": "https://plot.ly"
       },
       "data": [
        {
         "customdata": [
          [
           "Scrypt"
          ],
          [
           "Scrypt"
          ],
          [
           "X13"
          ],
          [
           "SHA-256"
          ],
          [
           "Ethash"
          ],
          [
           "Scrypt"
          ],
          [
           "X11"
          ],
          [
           "CryptoNight-V7"
          ],
          [
           "Ethash"
          ],
          [
           "Equihash"
          ],
          [
           "SHA-512"
          ],
          [
           "Multiple"
          ],
          [
           "SHA-256"
          ],
          [
           "SHA-256"
          ],
          [
           "Scrypt"
          ],
          [
           "X15"
          ],
          [
           "X11"
          ],
          [
           "Scrypt"
          ],
          [
           "Scrypt"
          ],
          [
           "Scrypt"
          ],
          [
           "Multiple"
          ],
          [
           "Scrypt"
          ],
          [
           "SHA-256"
          ],
          [
           "Scrypt"
          ],
          [
           "Scrypt"
          ],
          [
           "Scrypt"
          ],
          [
           "Quark"
          ],
          [
           "Groestl"
          ],
          [
           "Scrypt"
          ],
          [
           "Scrypt"
          ],
          [
           "Scrypt"
          ],
          [
           "Scrypt"
          ],
          [
           "Scrypt"
          ],
          [
           "X11"
          ],
          [
           "Scrypt"
          ],
          [
           "Groestl"
          ],
          [
           "Multiple"
          ],
          [
           "SHA-256"
          ],
          [
           "Scrypt"
          ],
          [
           "Scrypt"
          ],
          [
           "Scrypt"
          ],
          [
           "Scrypt"
          ],
          [
           "PoS"
          ],
          [
           "Scrypt"
          ],
          [
           "Scrypt"
          ],
          [
           "NeoScrypt"
          ],
          [
           "Scrypt"
          ],
          [
           "Scrypt"
          ],
          [
           "Scrypt"
          ],
          [
           "Scrypt"
          ],
          [
           "X11"
          ],
          [
           "Scrypt"
          ],
          [
           "X11"
          ],
          [
           "SHA-256"
          ],
          [
           "Scrypt"
          ],
          [
           "Scrypt"
          ],
          [
           "Scrypt"
          ],
          [
           "SHA3"
          ],
          [
           "Scrypt"
          ],
          [
           "HybridScryptHash256"
          ],
          [
           "Scrypt"
          ],
          [
           "Scrypt"
          ],
          [
           "SHA-256"
          ],
          [
           "Scrypt"
          ],
          [
           "X13"
          ],
          [
           "Scrypt"
          ],
          [
           "SHA-256"
          ],
          [
           "Scrypt"
          ],
          [
           "X13"
          ],
          [
           "NeoScrypt"
          ],
          [
           "Scrypt"
          ],
          [
           "Scrypt"
          ],
          [
           "Scrypt"
          ],
          [
           "Scrypt"
          ],
          [
           "Scrypt"
          ],
          [
           "Scrypt"
          ],
          [
           "X11"
          ],
          [
           "X11"
          ],
          [
           "SHA-256"
          ],
          [
           "Multiple"
          ],
          [
           "SHA-256"
          ],
          [
           "PHI1612"
          ],
          [
           "X11"
          ],
          [
           "SHA-256"
          ],
          [
           "SHA-256"
          ],
          [
           "SHA-256"
          ],
          [
           "X11"
          ],
          [
           "Scrypt"
          ],
          [
           "Scrypt"
          ],
          [
           "Scrypt"
          ],
          [
           "Scrypt"
          ],
          [
           "Lyra2REv2"
          ],
          [
           "Scrypt"
          ],
          [
           "X11"
          ],
          [
           "Multiple"
          ],
          [
           "SHA-256"
          ],
          [
           "X13"
          ],
          [
           "Scrypt"
          ],
          [
           "CryptoNight"
          ],
          [
           "CryptoNight"
          ],
          [
           "Shabal256"
          ],
          [
           "Counterparty"
          ],
          [
           "Scrypt"
          ],
          [
           "SHA-256"
          ],
          [
           "Groestl"
          ],
          [
           "Scrypt"
          ],
          [
           "Scrypt"
          ],
          [
           "Scrypt"
          ],
          [
           "X13"
          ],
          [
           "Scrypt"
          ],
          [
           "Scrypt"
          ],
          [
           "Scrypt"
          ],
          [
           "Scrypt"
          ],
          [
           "X13"
          ],
          [
           "Scrypt"
          ],
          [
           "Stanford Folding"
          ],
          [
           "X11"
          ],
          [
           "Multiple"
          ],
          [
           "QuBit"
          ],
          [
           "Scrypt"
          ],
          [
           "Scrypt"
          ],
          [
           "Scrypt"
          ],
          [
           "M7 POW"
          ],
          [
           "Scrypt"
          ],
          [
           "SHA-256"
          ],
          [
           "Scrypt"
          ],
          [
           "X11"
          ],
          [
           "SHA3"
          ],
          [
           "X11"
          ],
          [
           "Lyra2RE"
          ],
          [
           "SHA-256"
          ],
          [
           "QUAIT"
          ],
          [
           "X11"
          ],
          [
           "X11"
          ],
          [
           "Scrypt"
          ],
          [
           "Scrypt"
          ],
          [
           "Scrypt"
          ],
          [
           "Ethash"
          ],
          [
           "X13"
          ],
          [
           "Blake2b"
          ],
          [
           "SHA-256"
          ],
          [
           "X15"
          ],
          [
           "X11"
          ],
          [
           "SHA-256"
          ],
          [
           "BLAKE256"
          ],
          [
           "Scrypt"
          ],
          [
           "1GB AES Pattern Search"
          ],
          [
           "SHA-256"
          ],
          [
           "X11"
          ],
          [
           "Scrypt"
          ],
          [
           "SHA-256"
          ],
          [
           "SHA-256"
          ],
          [
           "NIST5"
          ],
          [
           "Scrypt"
          ],
          [
           "Scrypt"
          ],
          [
           "X11"
          ],
          [
           "Dagger"
          ],
          [
           "Scrypt"
          ],
          [
           "X11GOST"
          ],
          [
           "X11"
          ],
          [
           "Scrypt"
          ],
          [
           "SHA-256"
          ],
          [
           "Scrypt"
          ],
          [
           "PoS"
          ],
          [
           "Scrypt"
          ],
          [
           "X11"
          ],
          [
           "X11"
          ],
          [
           "SHA-256"
          ],
          [
           "SHA-256"
          ],
          [
           "NIST5"
          ],
          [
           "X11"
          ],
          [
           "Scrypt"
          ],
          [
           "POS 3.0"
          ],
          [
           "Scrypt"
          ],
          [
           "Scrypt"
          ],
          [
           "Scrypt"
          ],
          [
           "X13"
          ],
          [
           "X11"
          ],
          [
           "X11"
          ],
          [
           "Equihash"
          ],
          [
           "X11"
          ],
          [
           "Scrypt"
          ],
          [
           "CryptoNight"
          ],
          [
           "SHA-256"
          ],
          [
           "SHA-256"
          ],
          [
           "X11"
          ],
          [
           "Scrypt"
          ],
          [
           "Multiple"
          ],
          [
           "Scrypt"
          ],
          [
           "Scrypt"
          ],
          [
           "Scrypt"
          ],
          [
           "SHA-256"
          ],
          [
           "Scrypt"
          ],
          [
           "Scrypt"
          ],
          [
           "SHA-256D"
          ],
          [
           "PoS"
          ],
          [
           "Scrypt"
          ],
          [
           "X11"
          ],
          [
           "Lyra2Z"
          ],
          [
           "PoS"
          ],
          [
           "X13"
          ],
          [
           "X14"
          ],
          [
           "PoS"
          ],
          [
           "SHA-256D"
          ],
          [
           "Ethash"
          ],
          [
           "Equihash"
          ],
          [
           "DPoS"
          ],
          [
           "X11"
          ],
          [
           "Scrypt"
          ],
          [
           "X11"
          ],
          [
           "X13"
          ],
          [
           "X11"
          ],
          [
           "PoS"
          ],
          [
           "Scrypt"
          ],
          [
           "Scrypt"
          ],
          [
           "X11"
          ],
          [
           "PoS"
          ],
          [
           "X11"
          ],
          [
           "SHA-256"
          ],
          [
           "Scrypt"
          ],
          [
           "X11"
          ],
          [
           "Scrypt"
          ],
          [
           "Scrypt"
          ],
          [
           "X11"
          ],
          [
           "CryptoNight"
          ],
          [
           "Scrypt"
          ],
          [
           "Scrypt"
          ],
          [
           "Scrypt"
          ],
          [
           "Scrypt"
          ],
          [
           "Quark"
          ],
          [
           "QuBit"
          ],
          [
           "Scrypt"
          ],
          [
           "CryptoNight"
          ],
          [
           "Lyra2RE"
          ],
          [
           "Scrypt"
          ],
          [
           "SHA-256"
          ],
          [
           "X11"
          ],
          [
           "Scrypt"
          ],
          [
           "X11"
          ],
          [
           "Scrypt"
          ],
          [
           "CryptoNight-V7"
          ],
          [
           "Scrypt"
          ],
          [
           "Scrypt"
          ],
          [
           "Scrypt"
          ],
          [
           "X13"
          ],
          [
           "X11"
          ],
          [
           "Equihash"
          ],
          [
           "Scrypt"
          ],
          [
           "Scrypt"
          ],
          [
           "Lyra2RE"
          ],
          [
           "Scrypt"
          ],
          [
           "Dagger-Hashimoto"
          ],
          [
           "X11"
          ],
          [
           "Blake2S"
          ],
          [
           "X11"
          ],
          [
           "Scrypt"
          ],
          [
           "PoS"
          ],
          [
           "X11"
          ],
          [
           "NIST5"
          ],
          [
           "PoS"
          ],
          [
           "X11"
          ],
          [
           "Scrypt"
          ],
          [
           "Scrypt"
          ],
          [
           "Scrypt"
          ],
          [
           "SHA-256"
          ],
          [
           "X11"
          ],
          [
           "Scrypt"
          ],
          [
           "Scrypt"
          ],
          [
           "SHA-256"
          ],
          [
           "PoS"
          ],
          [
           "Scrypt"
          ],
          [
           "X15"
          ],
          [
           "SHA-256"
          ],
          [
           "Scrypt"
          ],
          [
           "POS 3.0"
          ],
          [
           "CryptoNight-V7"
          ],
          [
           "536"
          ],
          [
           "Argon2d"
          ],
          [
           "Blake2b"
          ],
          [
           "Cloverhash"
          ],
          [
           "CryptoNight"
          ],
          [
           "NIST5"
          ],
          [
           "X11"
          ],
          [
           "NIST5"
          ],
          [
           "Skein"
          ],
          [
           "Scrypt"
          ],
          [
           "X13"
          ],
          [
           "Scrypt"
          ],
          [
           "X11"
          ],
          [
           "X11"
          ],
          [
           "Scrypt"
          ],
          [
           "CryptoNight"
          ],
          [
           "X13"
          ],
          [
           "Time Travel"
          ],
          [
           "Scrypt"
          ],
          [
           "Keccak"
          ],
          [
           "SkunkHash v2 Raptor"
          ],
          [
           "X11"
          ],
          [
           "Skein"
          ],
          [
           "SHA-256"
          ],
          [
           "X11"
          ],
          [
           "Scrypt"
          ],
          [
           "VeChainThor Authority"
          ],
          [
           "Scrypt"
          ],
          [
           "PoS"
          ],
          [
           "Scrypt"
          ],
          [
           "Scrypt"
          ],
          [
           "Scrypt"
          ],
          [
           "Scrypt"
          ],
          [
           "Scrypt"
          ],
          [
           "Scrypt"
          ],
          [
           "Scrypt"
          ],
          [
           "CryptoNight"
          ],
          [
           "SHA-512"
          ],
          [
           "Ouroboros"
          ],
          [
           "X11"
          ],
          [
           "Equihash"
          ],
          [
           "NeoScrypt"
          ],
          [
           "X11"
          ],
          [
           "Scrypt"
          ],
          [
           "NeoScrypt"
          ],
          [
           "Lyra2REv2"
          ],
          [
           "Equihash"
          ],
          [
           "Scrypt"
          ],
          [
           "SHA-256"
          ],
          [
           "NIST5"
          ],
          [
           "PHI1612"
          ],
          [
           "Dagger"
          ],
          [
           "Scrypt"
          ],
          [
           "Quark"
          ],
          [
           "Scrypt"
          ],
          [
           "POS 2.0"
          ],
          [
           "Scrypt"
          ],
          [
           "SHA-256"
          ],
          [
           "X11"
          ],
          [
           "NeoScrypt"
          ],
          [
           "Ethash"
          ],
          [
           "NeoScrypt"
          ],
          [
           "X11"
          ],
          [
           "DPoS"
          ],
          [
           "NIST5"
          ],
          [
           "X13"
          ],
          [
           "Multiple"
          ],
          [
           "Scrypt"
          ],
          [
           "CryptoNight"
          ],
          [
           "CryptoNight"
          ],
          [
           "Ethash"
          ],
          [
           "NIST5"
          ],
          [
           "Quark"
          ],
          [
           "X11"
          ],
          [
           "CryptoNight-V7"
          ],
          [
           "Scrypt"
          ],
          [
           "Scrypt"
          ],
          [
           "Scrypt"
          ],
          [
           "X11"
          ],
          [
           "BLAKE256"
          ],
          [
           "X11"
          ],
          [
           "NeoScrypt"
          ],
          [
           "Quark"
          ],
          [
           "NeoScrypt"
          ],
          [
           "Scrypt"
          ],
          [
           "Scrypt"
          ],
          [
           "Scrypt"
          ],
          [
           "X11"
          ],
          [
           "X11"
          ],
          [
           "SHA-256"
          ],
          [
           "C11"
          ],
          [
           "POS 3.0"
          ],
          [
           "Ethash"
          ],
          [
           "Scrypt"
          ],
          [
           "CryptoNight"
          ],
          [
           "SkunkHash"
          ],
          [
           "Scrypt"
          ],
          [
           "CryptoNight"
          ],
          [
           "Scrypt"
          ],
          [
           "Dagger"
          ],
          [
           "Lyra2REv2"
          ],
          [
           "X13"
          ],
          [
           "Scrypt"
          ],
          [
           "Scrypt"
          ],
          [
           "X11"
          ],
          [
           "C11"
          ],
          [
           "X11"
          ],
          [
           "XEVAN"
          ],
          [
           "Scrypt"
          ],
          [
           "VBFT"
          ],
          [
           "Ethash"
          ],
          [
           "CryptoNight"
          ],
          [
           "Scrypt"
          ],
          [
           "IMesh"
          ],
          [
           "NIST5"
          ],
          [
           "Scrypt"
          ],
          [
           "Scrypt"
          ],
          [
           "Equihash"
          ],
          [
           "Scrypt"
          ],
          [
           "Lyra2Z"
          ],
          [
           "Green Protocol"
          ],
          [
           "PoS"
          ],
          [
           "Scrypt"
          ],
          [
           "Semux BFT consensus"
          ],
          [
           "X11"
          ],
          [
           "Quark"
          ],
          [
           "PoS"
          ],
          [
           "CryptoNight"
          ],
          [
           "X16R"
          ],
          [
           "Scrypt"
          ],
          [
           "NIST5"
          ],
          [
           "Lyra2RE"
          ],
          [
           "XEVAN"
          ],
          [
           "Tribus"
          ],
          [
           "Scrypt"
          ],
          [
           "Lyra2Z"
          ],
          [
           "CryptoNight"
          ],
          [
           "CryptoNight Heavy"
          ],
          [
           "CryptoNight"
          ],
          [
           "Scrypt"
          ],
          [
           "Scrypt"
          ],
          [
           "Jump Consistent Hash"
          ],
          [
           "SHA-256D"
          ],
          [
           "CryptoNight"
          ],
          [
           "Scrypt"
          ],
          [
           "X15"
          ],
          [
           "Scrypt"
          ],
          [
           "Quark"
          ],
          [
           "SHA-256"
          ],
          [
           "DPoS"
          ],
          [
           "X16R"
          ],
          [
           "HMQ1725"
          ],
          [
           "X11"
          ],
          [
           "X16R"
          ],
          [
           "Quark"
          ],
          [
           "Quark"
          ],
          [
           "Scrypt"
          ],
          [
           "Lyra2REv2"
          ],
          [
           "Quark"
          ],
          [
           "Scrypt"
          ],
          [
           "Scrypt"
          ],
          [
           "CryptoNight-V7"
          ],
          [
           "Cryptonight-GPU"
          ],
          [
           "XEVAN"
          ],
          [
           "CryptoNight Heavy"
          ],
          [
           "X11"
          ],
          [
           "X11"
          ],
          [
           "Scrypt"
          ],
          [
           "PoS"
          ],
          [
           "SHA-256"
          ],
          [
           "Keccak"
          ],
          [
           "X11"
          ],
          [
           "X11"
          ],
          [
           "Scrypt"
          ],
          [
           "SHA-512"
          ],
          [
           "X16R"
          ],
          [
           "ECC 256K1"
          ],
          [
           "Equihash"
          ],
          [
           "XEVAN"
          ],
          [
           "Lyra2Z"
          ],
          [
           "SHA-256"
          ],
          [
           "XEVAN"
          ],
          [
           "X11"
          ],
          [
           "CryptoNight"
          ],
          [
           "Quark"
          ],
          [
           "Blake"
          ],
          [
           "Blake"
          ],
          [
           "Equihash"
          ],
          [
           "Exosis"
          ],
          [
           "Scrypt"
          ],
          [
           "Scrypt"
          ],
          [
           "Equihash"
          ],
          [
           "Quark"
          ],
          [
           "Equihash"
          ],
          [
           "Quark"
          ],
          [
           "Scrypt"
          ],
          [
           "QuBit"
          ],
          [
           "X11"
          ],
          [
           "Scrypt"
          ],
          [
           "XEVAN"
          ],
          [
           "SHA-256D"
          ],
          [
           "X11"
          ],
          [
           "SHA-256"
          ],
          [
           "X13"
          ],
          [
           "SHA-256"
          ],
          [
           "X11"
          ],
          [
           "DPoS"
          ],
          [
           "Scrypt"
          ],
          [
           "Scrypt"
          ],
          [
           "X11"
          ],
          [
           "NeoScrypt"
          ],
          [
           "Scrypt"
          ],
          [
           "Blake"
          ],
          [
           "Scrypt"
          ],
          [
           "SHA-256"
          ],
          [
           "Scrypt"
          ],
          [
           "X11"
          ],
          [
           "Scrypt"
          ],
          [
           "Scrypt"
          ],
          [
           "SHA-256"
          ],
          [
           "X11"
          ],
          [
           "SHA-256"
          ],
          [
           "Scrypt"
          ],
          [
           "Scrypt"
          ],
          [
           "Scrypt"
          ],
          [
           "Groestl"
          ],
          [
           "X11"
          ],
          [
           "Scrypt"
          ],
          [
           "PoS"
          ],
          [
           "Scrypt"
          ],
          [
           "Scrypt"
          ],
          [
           "X11"
          ],
          [
           "SHA-256"
          ],
          [
           "DPoS"
          ],
          [
           "Scrypt"
          ],
          [
           "Scrypt"
          ],
          [
           "NeoScrypt"
          ],
          [
           "Multiple"
          ],
          [
           "X13"
          ],
          [
           "Equihash+Scrypt"
          ],
          [
           "DPoS"
          ],
          [
           "Ethash"
          ],
          [
           "DPoS"
          ],
          [
           "SHA-256"
          ],
          [
           "Leased POS"
          ],
          [
           "PoS"
          ],
          [
           "PoS"
          ],
          [
           "SHA-256"
          ],
          [
           "Scrypt"
          ],
          [
           "CryptoNight"
          ],
          [
           "Equihash"
          ],
          [
           "Scrypt"
          ]
         ],
         "hovertemplate": "<b>%{hovertext}</b><br><br>class=%{marker.color}<br>PC 1=%{x}<br>PC 2=%{y}<br>PC 3=%{z}<br>Algorithm=%{customdata[0]}<extra></extra>",
         "hovertext": [
          "42 Coin",
          "404Coin",
          "EliteCoin",
          "Bitcoin",
          "Ethereum",
          "Litecoin",
          "Dash",
          "Monero",
          "Ethereum Classic",
          "ZCash",
          "Bitshares",
          "DigiByte",
          "BitcoinDark",
          "PayCoin",
          "ProsperCoin",
          "KoboCoin",
          "Spreadcoin",
          "Argentum",
          "Aurora Coin",
          "BlueCoin",
          "MyriadCoin",
          "MoonCoin",
          "ZetaCoin",
          "SexCoin",
          "Quatloo",
          "EnergyCoin",
          "QuarkCoin",
          "Riecoin",
          "Digitalcoin ",
          "BitBar",
          "Catcoin",
          "CryptoBullion",
          "CannaCoin",
          "CryptCoin",
          "CasinoCoin",
          "Diamond",
          "Verge",
          "DevCoin",
          "EarthCoin",
          "E-Gulden",
          "Einsteinium",
          "Emerald",
          "Exclusive Coin",
          "FlutterCoin",
          "Franko",
          "FeatherCoin",
          "GrandCoin",
          "GlobalCoin",
          "GoldCoin",
          "HoboNickels",
          "HyperStake",
          "Infinite Coin",
          "IOCoin",
          "IXcoin",
          "KrugerCoin",
          "LuckyCoin",
          "Litebar ",
          "MaxCoin",
          "MegaCoin",
          "MediterraneanCoin",
          "MintCoin",
          "MinCoin",
          "MazaCoin",
          "Nautilus Coin",
          "NavCoin",
          "NobleCoin",
          "Namecoin",
          "NyanCoin",
          "OpalCoin",
          "Orbitcoin",
          "PotCoin",
          "PhoenixCoin",
          "Reddcoin",
          "RonPaulCoin",
          "StableCoin",
          "SmartCoin",
          "SuperCoin",
          "SyncCoin",
          "SysCoin",
          "TeslaCoin",
          "TigerCoin",
          "TittieCoin",
          "TorCoin",
          "TerraCoin",
          "UnbreakableCoin",
          "Unobtanium",
          "UroCoin",
          "UnitaryStatus Dollar",
          "UltraCoin",
          "ViaCoin",
          "VeriCoin",
          "Vertcoin",
          "WorldCoin",
          "X11 Coin",
          "Crypti",
          "JouleCoin",
          "StealthCoin",
          "ZCC Coin",
          "ByteCoin",
          "DigitalNote ",
          "BurstCoin",
          "StorjCoin",
          "MonaCoin",
          "Neutron",
          "FairCoin",
          "Gulden",
          "RubyCoin",
          "PesetaCoin",
          "Kore",
          "Wild Beast Coin",
          "Dnotes",
          "Flo",
          "8BIT Coin",
          "Sativa Coin",
          "ArtByte",
          "Folding Coin",
          "Ucoin",
          "Unitus",
          "CypherPunkCoin",
          "OmniCron",
          "Vtorrent",
          "GreenCoin",
          "Cryptonite",
          "MasterCoin",
          "SoonCoin",
          "1Credit",
          "IslaCoin",
          "Nexus",
          "MarsCoin ",
          "Crypto",
          "Anarchists Prime",
          "Droidz",
          "BowsCoin",
          "Squall Coin",
          "Song Coin",
          "BitZeny",
          "Diggits",
          "Expanse",
          "Paycon",
          "Siacoin",
          "Emercoin",
          "EverGreenCoin",
          "MindCoin",
          "I0coin",
          "Decred",
          "Revolution VR",
          "HOdlcoin",
          "EDRCoin",
          "Hitcoin",
          "Gamecredits",
          "DubaiCoin",
          "CarpeDiemCoin",
          "PWR Coin",
          "BillaryCoin",
          "GPU Coin",
          "Adzcoin",
          "SoilCoin",
          "YoCoin",
          "SibCoin",
          "EuropeCoin",
          "ZeitCoin",
          "SwingCoin",
          "SafeExchangeCoin",
          "Nebuchadnezzar",
          "Francs",
          "BolivarCoin",
          "Ratecoin",
          "Revenu",
          "Clockcoin",
          "VIP Tokens",
          "BitSend",
          "Omni",
          "Let it Ride",
          "PutinCoin",
          "iBankCoin",
          "Frankywillcoin",
          "MudraCoin",
          "PizzaCoin",
          "Lutetium Coin",
          "Komodo",
          "GoldBlocks",
          "CarterCoin",
          "Karbo",
          "BitTokens",
          "ZayedCoin",
          "MustangCoin",
          "ZoneCoin",
          "Circuits of Value",
          "RootCoin",
          "DopeCoin",
          "BitCurrency",
          "DollarCoin",
          "Swiscoin",
          "Shilling",
          "BuzzCoin",
          "Opair",
          "PesoBit",
          "Halloween Coin",
          "ZCoin",
          "CoffeeCoin",
          "RoyalCoin",
          "GanjaCoin V2",
          "TeamUP",
          "LanaCoin",
          "Elementrem",
          "ZClassic",
          "ARK",
          "InsaneCoin",
          "KiloCoin",
          "ArtexCoin",
          "EmberCoin",
          "XenixCoin",
          "FreeCoin",
          "PLNCoin",
          "AquariusCoin",
          "Kurrent",
          "Creatio",
          "Eternity",
          "Eurocoin",
          "BitcoinFast",
          "Stakenet",
          "BitConnect Coin",
          "MoneyCoin",
          "Enigma",
          "Cannabis Industry Coin",
          "Russiacoin",
          "PandaCoin",
          "GameUnits",
          "GAKHcoin",
          "Allsafe",
          "LiteCreed",
          "OsmiumCoin",
          "Bikercoins",
          "HexxCoin",
          "Klingon Empire Darsek",
          "Internet of People",
          "KushCoin",
          "Printerium",
          "PacCoin",
          "Impeach",
          "Citadel",
          "Zilbercoin",
          "FirstCoin",
          "BeaverCoin",
          "FindCoin",
          "VaultCoin",
          "Zero",
          "OpenChat",
          "Canada eCoin",
          "Zoin",
          "RenosCoin",
          "DubaiCoin",
          "VirtacoinPlus",
          "TajCoin",
          "Impact",
          "EB3coin",
          "Atmos",
          "HappyCoin",
          "Coinonat",
          "MacronCoin",
          "Condensate",
          "Independent Money System",
          "ArgusCoin",
          "LomoCoin",
          "ProCurrency",
          "GoldReserve",
          "BenjiRolls",
          "GrowthCoin",
          "ILCoin",
          "Phreak",
          "Degas Coin",
          "HTML5 Coin",
          "Ultimate Secure Cash",
          "EquiTrader",
          "QTUM",
          "Quantum Resistant Ledger",
          "Espers",
          "Dynamic",
          "Nano",
          "ChanCoin",
          "Dinastycoin",
          "Denarius",
          "DigitalPrice",
          "Virta Unique Coin",
          "Bitcoin Planet",
          "Unify",
          "BritCoin",
          "SocialCoin",
          "ArcticCoin",
          "DAS",
          "Linda",
          "LeviarCoin",
          "DeepOnion",
          "Bitcore",
          "gCn Coin",
          "SmartCash",
          "Signatum",
          "Onix",
          "Cream",
          "Bitcoin Cash",
          "Monoeci",
          "Draftcoin",
          "Vechain",
          "Sojourn Coin",
          "Stakecoin",
          "NewYorkCoin",
          "FrazCoin",
          "Kronecoin",
          "AdCoin",
          "Linx",
          "CoinonatX",
          "Ethereum Dark",
          "Sumokoin",
          "Obsidian",
          "Cardano",
          "Regalcoin",
          "BitcoinZ",
          "TrezarCoin",
          "Elements",
          "TerraNovaCoin",
          "VIVO Coin",
          "Rupee",
          "Bitcoin Gold",
          "WomenCoin",
          "Theresa May Coin",
          "NamoCoin",
          "LUXCoin",
          "Pirl",
          "Xios",
          "Bitcloud 2.0",
          "eBoost",
          "KekCoin",
          "BlackholeCoin",
          "Infinity Economics",
          "Pura",
          "Innova",
          "Ellaism",
          "GoByte",
          "Magnet",
          "Lamden Tau",
          "Electra",
          "Bitcoin Diamond",
          "SHIELD",
          "Cash & Back Coin",
          "UltraNote",
          "BitCoal",
          "DaxxCoin",
          "Bulwark",
          "Kalkulus",
          "AC3",
          "Lethean",
          "GermanCoin",
          "LiteCoin Ultra",
          "PopularCoin",
          "PhantomX",
          "Photon",
          "Sucre",
          "SparksPay",
          "Digiwage",
          "GunCoin",
          "IrishCoin",
          "Trollcoin",
          "Litecoin Plus",
          "Monkey Project",
          "Pioneer Coin",
          "UnitedBitcoin",
          "Interzone",
          "TokenPay",
          "1717 Masonic Commemorative Token",
          "My Big Coin",
          "TurtleCoin",
          "MUNcoin",
          "Unified Society USDEX",
          "Niobio Cash",
          "ShareChain",
          "Travelflex",
          "KREDS",
          "Tokyo Coin",
          "BitFlip",
          "LottoCoin",
          "Crypto Improvement Fund",
          "Stipend",
          "Pushi",
          "Ellerium",
          "Velox",
          "Ontology",
          "Callisto Network",
          "BitTube",
          "Poseidon",
          "Aidos Kuneen",
          "Bitspace",
          "Briacoin",
          "Ignition",
          "Bitrolium",
          "MedicCoin",
          "Alpenschillling",
          "Bitcoin Green",
          "Deviant Coin",
          "Abjcoin",
          "Semux",
          "FuturoCoin",
          "Carebit",
          "Zealium",
          "Monero Classic",
          "Proton",
          "iDealCash",
          "Jumpcoin",
          "Infinex",
          "Bitcoin Incognito",
          "KEYCO",
          "HollyWoodCoin",
          "GINcoin",
          "PlatinCoin",
          "Loki",
          "Newton Coin",
          "Swisscoin",
          "Xt3ch",
          "MassGrid",
          "TheVig",
          "PluraCoin",
          "EmaratCoin",
          "Dekado",
          "Lynx",
          "Poseidon Quark",
          "BitcoinWSpectrum",
          "Muse",
          "Motion",
          "PlusOneCoin",
          "Axe",
          "Trivechain",
          "Dystem",
          "Giant",
          "Peony Coin",
          "Absolute Coin",
          "Vitae",
          "HexCoin",
          "TPCash",
          "Webchain",
          "Ryo",
          "Urals Coin",
          "Qwertycoin",
          "ARENON",
          "EUNO",
          "MMOCoin",
          "Ketan",
          "Project Pai",
          "XDNA",
          "PAXEX",
          "Azart",
          "ThunderStake",
          "Kcash",
          "Xchange",
          "Acute Angle Cloud",
          "CrypticCoin",
          "Bettex coin",
          "Actinium",
          "Bitcoin SV",
          "BitMoney",
          "Junson Ming Chan Coin",
          "FREDEnergy",
          "HerbCoin",
          "Universal Molecule",
          "Lithium",
          "PirateCash",
          "Exosis",
          "Block-Logic",
          "Oduwa",
          "Beam",
          "Galilel",
          "Bithereum",
          "Crypto Sports",
          "Credit",
          "SLICE",
          "Dash Platinum",
          "Nasdacoin",
          "Beetle Coin",
          "Titan Coin",
          "Award",
          "BLAST",
          "Bitcoin Rhodium",
          "GlobalToken",
          "Insane Coin",
          "ALAX",
          "LiteDoge",
          "SolarCoin",
          "TruckCoin",
          "UFO Coin",
          "OrangeCoin",
          "BlakeCoin",
          "BitstarCoin",
          "NeosCoin",
          "HyperCoin",
          "PinkCoin",
          "Crypto Escudo",
          "AudioCoin",
          "IncaKoin",
          "Piggy Coin",
          "Crown Coin",
          "Genstake",
          "SmileyCoin",
          "XiaoMiCoin",
          "Groestlcoin",
          "CapriCoin",
          " ClubCoin",
          "Radium",
          "Bata",
          "Pakcoin",
          "Creditbit ",
          "OKCash",
          "Lisk",
          "HiCoin",
          "WhiteCoin",
          "FriendshipCoin",
          "JoinCoin",
          "Triangles Coin",
          "Vollar",
          "EOS",
          "Reality Clash",
          "Oxycoin",
          "TigerCash",
          "Waves",
          "Particl",
          "Nxt",
          "ZEPHYR",
          "Gapcoin",
          "Beldex",
          "Horizen",
          "BitcoinPlus"
         ],
         "legendgroup": "0",
         "marker": {
          "color": [
           0,
           0,
           0,
           0,
           0,
           0,
           0,
           0,
           0,
           0,
           0,
           0,
           0,
           0,
           0,
           0,
           0,
           0,
           0,
           0,
           0,
           0,
           0,
           0,
           0,
           0,
           0,
           0,
           0,
           0,
           0,
           0,
           0,
           0,
           0,
           0,
           0,
           0,
           0,
           0,
           0,
           0,
           0,
           0,
           0,
           0,
           0,
           0,
           0,
           0,
           0,
           0,
           0,
           0,
           0,
           0,
           0,
           0,
           0,
           0,
           0,
           0,
           0,
           0,
           0,
           0,
           0,
           0,
           0,
           0,
           0,
           0,
           0,
           0,
           0,
           0,
           0,
           0,
           0,
           0,
           0,
           0,
           0,
           0,
           0,
           0,
           0,
           0,
           0,
           0,
           0,
           0,
           0,
           0,
           0,
           0,
           0,
           0,
           0,
           0,
           0,
           0,
           0,
           0,
           0,
           0,
           0,
           0,
           0,
           0,
           0,
           0,
           0,
           0,
           0,
           0,
           0,
           0,
           0,
           0,
           0,
           0,
           0,
           0,
           0,
           0,
           0,
           0,
           0,
           0,
           0,
           0,
           0,
           0,
           0,
           0,
           0,
           0,
           0,
           0,
           0,
           0,
           0,
           0,
           0,
           0,
           0,
           0,
           0,
           0,
           0,
           0,
           0,
           0,
           0,
           0,
           0,
           0,
           0,
           0,
           0,
           0,
           0,
           0,
           0,
           0,
           0,
           0,
           0,
           0,
           0,
           0,
           0,
           0,
           0,
           0,
           0,
           0,
           0,
           0,
           0,
           0,
           0,
           0,
           0,
           0,
           0,
           0,
           0,
           0,
           0,
           0,
           0,
           0,
           0,
           0,
           0,
           0,
           0,
           0,
           0,
           0,
           0,
           0,
           0,
           0,
           0,
           0,
           0,
           0,
           0,
           0,
           0,
           0,
           0,
           0,
           0,
           0,
           0,
           0,
           0,
           0,
           0,
           0,
           0,
           0,
           0,
           0,
           0,
           0,
           0,
           0,
           0,
           0,
           0,
           0,
           0,
           0,
           0,
           0,
           0,
           0,
           0,
           0,
           0,
           0,
           0,
           0,
           0,
           0,
           0,
           0,
           0,
           0,
           0,
           0,
           0,
           0,
           0,
           0,
           0,
           0,
           0,
           0,
           0,
           0,
           0,
           0,
           0,
           0,
           0,
           0,
           0,
           0,
           0,
           0,
           0,
           0,
           0,
           0,
           0,
           0,
           0,
           0,
           0,
           0,
           0,
           0,
           0,
           0,
           0,
           0,
           0,
           0,
           0,
           0,
           0,
           0,
           0,
           0,
           0,
           0,
           0,
           0,
           0,
           0,
           0,
           0,
           0,
           0,
           0,
           0,
           0,
           0,
           0,
           0,
           0,
           0,
           0,
           0,
           0,
           0,
           0,
           0,
           0,
           0,
           0,
           0,
           0,
           0,
           0,
           0,
           0,
           0,
           0,
           0,
           0,
           0,
           0,
           0,
           0,
           0,
           0,
           0,
           0,
           0,
           0,
           0,
           0,
           0,
           0,
           0,
           0,
           0,
           0,
           0,
           0,
           0,
           0,
           0,
           0,
           0,
           0,
           0,
           0,
           0,
           0,
           0,
           0,
           0,
           0,
           0,
           0,
           0,
           0,
           0,
           0,
           0,
           0,
           0,
           0,
           0,
           0,
           0,
           0,
           0,
           0,
           0,
           0,
           0,
           0,
           0,
           0,
           0,
           0,
           0,
           0,
           0,
           0,
           0,
           0,
           0,
           0,
           0,
           0,
           0,
           0,
           0,
           0,
           0,
           0,
           0,
           0,
           0,
           0,
           0,
           0,
           0,
           0,
           0,
           0,
           0,
           0,
           0,
           0,
           0,
           0,
           0,
           0,
           0,
           0,
           0,
           0,
           0,
           0,
           0,
           0,
           0,
           0,
           0,
           0,
           0,
           0,
           0,
           0,
           0,
           0,
           0,
           0,
           0,
           0,
           0,
           0,
           0,
           0,
           0,
           0,
           0,
           0,
           0,
           0,
           0,
           0,
           0,
           0,
           0,
           0,
           0,
           0,
           0,
           0,
           0,
           0,
           0,
           0,
           0,
           0,
           0,
           0,
           0,
           0,
           0,
           0,
           0,
           0,
           0,
           0,
           0,
           0,
           0,
           0,
           0,
           0,
           0,
           0,
           0,
           0,
           0,
           0,
           0,
           0,
           0,
           0,
           0,
           0,
           0,
           0,
           0,
           0,
           0,
           0,
           0,
           0,
           0,
           0,
           0,
           0,
           0,
           0,
           0,
           0,
           0,
           0,
           0,
           0,
           0,
           0,
           0
          ],
          "coloraxis": "coloraxis",
          "symbol": "circle"
         },
         "mode": "markers",
         "name": "0",
         "scene": "scene",
         "showlegend": true,
         "type": "scatter3d",
         "x": [
          -0.30080782459429756,
          -0.2693588634731674,
          0.33271000346204815,
          -0.28951541390905416,
          -0.11593160003670773,
          -0.3460539860605332,
          -0.21709891943314458,
          -0.04402230088835597,
          -0.2526054625665502,
          -0.29003539626575375,
          0.07227187609703246,
          -0.02600496655746459,
          -0.24135604799475258,
          -0.2748336424782806,
          -0.31593767580114274,
          0.14860767430300917,
          -0.28592273753832737,
          -0.3486259012743156,
          -0.2962453587432756,
          -0.10009355320790629,
          0.05166017660189313,
          -0.34823351621672366,
          -0.3209082857676295,
          -0.3389819573050889,
          -0.13986301627649286,
          -0.10563534970394005,
          -0.39002413475545095,
          -0.3195272775817655,
          -0.34813311693919724,
          -0.2881647109360208,
          -0.3417501315266946,
          -0.30058208531436914,
          -0.35259851649869994,
          -0.3788877024453472,
          0.7840456897208044,
          -0.2600748481249071,
          0.0766066127155333,
          -0.018998081000817953,
          -0.1356902062710179,
          -0.34160205219767825,
          -0.34962790306053343,
          -0.33598864945544005,
          -0.09060857504049377,
          -0.04393460310950422,
          -0.3485456551873157,
          -0.33526171610956185,
          -0.32522566605540887,
          -0.32151146702216954,
          -0.34254331478106803,
          -0.2935592416905221,
          -0.04372278662487123,
          1.0837935219021049,
          -0.21700568796456993,
          -0.28948121122499737,
          -0.33931711366276573,
          -0.3362984321975561,
          -0.35040494138282247,
          0.05116797820700321,
          -0.34526426836171503,
          -0.5049246829576736,
          0.11797708794153074,
          -0.29709862140829685,
          -0.23528004059910737,
          -0.3139521839830033,
          -0.008632060926912696,
          -0.3109098265952761,
          -0.28954992594705553,
          -0.3465360036937446,
          -0.009182937549042734,
          -0.31361853927572764,
          -0.2632220172615968,
          -0.2909530184398666,
          0.21011640969625464,
          -0.3159881241752918,
          -0.34011469143245654,
          -0.34695867571639416,
          -0.06132951991361589,
          -0.19087863977672617,
          -0.30600536409718054,
          -0.006777686904510727,
          -0.31749808350225434,
          -0.3478507273885601,
          -0.2079829438129982,
          -0.31913810482384836,
          -0.30705777113754656,
          -0.32136061112451764,
          -0.09518806366089615,
          -0.27244906652874884,
          -0.10070041023202521,
          -0.2666937927062235,
          -0.056657761448943356,
          -0.48292376670805787,
          -0.33966150891222485,
          -0.2017363495753868,
          -0.01228683700782413,
          -0.27918973418670945,
          -0.008988923590898937,
          -0.12070103135055396,
          2.7201735519198134,
          -0.11038156312664248,
          1.1822742147137333,
          -0.00983237673990065,
          -0.3387727177356159,
          -0.2702715204580865,
          -0.07971843992459712,
          -0.34409155310097306,
          -0.112048085255072,
          -0.3344795409046649,
          -0.1410925747276377,
          -0.34996167529359484,
          -0.09236068834053983,
          -0.3389642861537412,
          -0.10695054425220188,
          -0.16076625545174028,
          -0.15242832215187066,
          -0.032258546397025176,
          -0.2526911032942614,
          -0.04598731665671638,
          -0.05078591029550631,
          -0.3468003440630876,
          -0.2976831148451787,
          -0.2599938544564881,
          -0.23032337371148445,
          -0.3398554678172167,
          -0.2895745195902189,
          -0.013421704170591454,
          -0.056485914007455035,
          0.12972749675739395,
          -0.2597356314685827,
          -0.16936459618245198,
          -0.3128235572133202,
          -0.09902852999278557,
          -0.26536434644626633,
          0.09814849379434935,
          -0.3342670161175752,
          -0.3395587464894419,
          -0.10553784191878209,
          -0.2919120704157198,
          -0.1307151169031341,
          0.36371221746686666,
          -0.09554523000589722,
          0.2648456538030057,
          -0.24695057212743765,
          -0.2894822049317237,
          -0.03338664813714245,
          -0.28012910544473685,
          -1.228660800727414,
          -0.2413302964798126,
          -0.031504876799675015,
          -0.3459804699471387,
          -0.215225883699809,
          0.02210645291873369,
          0.07895195309060501,
          -0.3068807599745035,
          -0.3235868247333018,
          -0.2957837745290474,
          -0.1822655455473858,
          -0.3407224507655002,
          -0.729846049190257,
          -0.19298660175679447,
          0.26197444704564954,
          -0.2592324052914141,
          0.1813244843651472,
          -0.2812958970205329,
          -0.3364363982707404,
          -0.25575538049139196,
          -0.1897499839048974,
          -0.2644372830078559,
          -0.2620952345351972,
          -0.11102200389988183,
          -0.19524267724149447,
          -0.3456010153546337,
          -0.2606647367095425,
          -0.018080569488542995,
          -0.2880152532208991,
          -0.10016214467453627,
          -0.2606926084681771,
          -0.2558881618658874,
          -0.21213528881884436,
          -0.4433090964489489,
          -0.1779514231126901,
          -0.18846300353308226,
          -0.17230115077741043,
          -0.25100404178080715,
          -0.3092232240751858,
          -0.2179610472089086,
          -0.27727330423250396,
          -0.16416472181307507,
          -0.10694543848996117,
          -0.39042555629009607,
          -0.11050770659631035,
          -0.31098725767223745,
          -0.7933986508921068,
          -0.28308332919976525,
          0.4285867783681602,
          -0.26795789708508877,
          -0.1066038299331017,
          -0.195548391860016,
          -0.1581970630669009,
          -0.27396517657134345,
          -0.16064502356878324,
          0.05409886928702198,
          -0.2723309165266529,
          0.13496793831876003,
          -0.2882768384861834,
          -0.29005453558674715,
          5.624753142837414,
          -0.19384222738937887,
          -0.3077369915822974,
          -0.0681961556388659,
          1.3128111766181256,
          -0.1942212373922327,
          -0.21174667662284888,
          -0.29168967417174557,
          -0.3069515970156168,
          -0.24578050070016394,
          -0.2812958970205329,
          -0.17705110825125558,
          -0.27138358465121915,
          -0.27163048151786273,
          0.3734485428599241,
          -0.2998624424507005,
          -0.2933682878117006,
          -0.23290576330375554,
          -0.19121384606072908,
          -0.2711663180239138,
          0.2230974386399812,
          -0.30012105054904814,
          -0.29598707392498597,
          -0.33726929469515277,
          -0.13498308403413353,
          -0.34118404792333706,
          -0.18149035070538028,
          -0.17748442407462164,
          -0.08861478307213488,
          -0.2509831595035997,
          -0.19930547082260783,
          -0.29768076766641555,
          -0.23146277861454573,
          -0.2921936914734879,
          -0.12041735717615495,
          -0.29496156009092656,
          -0.3905999676417374,
          -0.34843111146173067,
          -0.1759364563608847,
          -0.11020776790868246,
          -0.2630228348502243,
          -0.11148552938492802,
          -0.34414143267780467,
          -0.23735840561721394,
          -0.3197637115140674,
          0.07308174346865184,
          -0.050637258952382726,
          -0.4138711755360899,
          -0.259547948675614,
          -0.3407035709772332,
          -0.25464997904059256,
          -0.05054685101500272,
          -0.23695312632481408,
          -0.28505600228109906,
          -0.03709390597958378,
          -0.2987877935604956,
          -0.29429027718410256,
          -0.12229631422005392,
          -0.2940995211121326,
          -0.2349206347506941,
          -0.3376575808944719,
          -0.02905858819289663,
          -0.29729873382318056,
          -0.22808514921563058,
          -0.2698917865540779,
          0.8978294626803724,
          -0.2893447253125105,
          -0.34467388387230585,
          -0.06544564454885098,
          -0.20661803125658157,
          0.1831326993457128,
          -0.03649478293786066,
          -0.10999935986011748,
          -0.20277129355926568,
          0.07877321808069115,
          -0.18141217634872983,
          -0.08909839548981068,
          -0.21683870609083145,
          0.058465474512263936,
          -0.33921558838578314,
          -0.14665517219516014,
          -0.33337414768531864,
          -0.2155339133397633,
          -0.2530495489626107,
          -0.1095824183954133,
          -0.20912421439901588,
          -0.1380608748351194,
          -0.2944077587101158,
          2.2307940997971403,
          -0.094220268443893,
          -0.20114285656988942,
          -0.3574733804875862,
          0.05890382712749128,
          -0.28951467392303415,
          -0.19556959589459164,
          -0.31792659019938274,
          12.739927782707513,
          -0.33771875153311076,
          -0.27214456505324136,
          1.4011224740900572,
          -0.33640250860358406,
          -0.34654704755739246,
          -0.13958948626275602,
          -0.13957791515432078,
          -0.27515771156878455,
          -0.28801569743795735,
          -0.1713751728267188,
          0.02960700224306304,
          0.17035568911319965,
          -0.23879257923421301,
          -0.16609651541307857,
          -0.30691885681607645,
          -0.2057907016786095,
          -0.2786135886134361,
          -0.33118908319325624,
          -0.6308636561503319,
          -0.289929188770161,
          0.466679215727097,
          -0.07395737549296892,
          -0.15218731046676112,
          -0.24137156068634066,
          -0.14117739700017212,
          -0.27727797987801694,
          -0.37396308819510327,
          -0.1388610884571361,
          -0.27049419517328377,
          -0.29708413228229974,
          -0.15469160167037158,
          -0.12623946260856636,
          -0.30903551860432577,
          -0.2791150788884663,
          -0.36202101653201213,
          -0.22037963716150435,
          3.917340205169413,
          0.29135907137187234,
          -0.1440969819069597,
          -0.16805891687482435,
          -0.24250132192617666,
          0.13051908897655598,
          -0.20975296003225047,
          -0.2756571993442494,
          -0.18061858121390031,
          -0.3243056632454123,
          -0.24501622779701232,
          -0.11853163017760297,
          -0.15429040203294495,
          -0.1763518249523602,
          -0.27742668650096314,
          -0.17763115195049722,
          0.5915151918481472,
          -0.25344121005737347,
          -0.3191152302830226,
          -0.3209099177744647,
          -0.12753020280396954,
          -0.34826596807595567,
          -0.28884489624484283,
          -0.2960130031004937,
          -0.23216512469279252,
          -0.21638836222852806,
          -0.3046221827976086,
          -0.113091186735778,
          -0.2327307177181752,
          -0.27623031814645904,
          -0.2276306965937489,
          0.6503681536346818,
          0.6164448684109219,
          -0.2798128649908672,
          -0.20809439826999135,
          -0.20169825899279464,
          -0.037905372207177275,
          -0.5390402549152905,
          -0.164839449229952,
          -0.3241347141309481,
          -0.12273426313011128,
          -0.07482326259048688,
          0.04184900139851696,
          -0.2171807824090225,
          0.07149233429160956,
          -0.31478924067006375,
          -0.020570308365095463,
          -0.2762031868023254,
          -0.03535909053941105,
          -0.3159560427551127,
          -0.2836645313013813,
          -0.1514294967016231,
          -0.26842314793045036,
          -0.2833659227238272,
          -0.29556518710275376,
          -0.09135855116644762,
          -0.20785504181119152,
          -0.26392882991011635,
          -0.2740354232626841,
          -0.24439789155547165,
          3.8347293269822877,
          -0.08913449468312626,
          -0.3727838198148586,
          -0.27825812070994915,
          -0.17382550500603672,
          -0.1515972691319393,
          -0.27341275120132136,
          -0.2387669064908633,
          -0.16924100201269107,
          0.17653262894226723,
          -0.5742044222130236,
          -0.31080010303900196,
          -0.20743472585285172,
          -0.18314225426966452,
          0.2529463373429367,
          0.4642191626141924,
          -0.13567383792522147,
          -0.31655596659383967,
          -0.6822577537515664,
          0.11604974692934697,
          -0.030166919144633483,
          -0.3078033724164085,
          0.09425330355656593,
          1.3762911147547228,
          -0.36078862501427605,
          -0.29620153934969984,
          1.828749571924247,
          -0.09382054909318709,
          -0.2890800344820329,
          -0.26548192718996516,
          -0.034510898093972155,
          -0.30390505310984994,
          -0.3403143915175033,
          -0.3144921684435741,
          -0.598710423998749,
          -0.12720973879606517,
          -0.3432362109247548,
          -0.12224327374615998,
          -0.13661085862243724,
          1.0688479999746379,
          0.0168276817268139,
          1.943860003240638,
          -0.2443206147285292,
          -0.17778693853054134,
          -0.3202018545402231,
          -0.22730437339061144,
          -0.38044381953340434,
          -0.1534818072544017,
          -0.05610660398573961,
          -0.25584881294134904,
          -0.2811194043104563,
          0.28301068776265365,
          -0.018900708870395008,
          0.41636370347685275,
          -0.20701620722742228,
          0.06518250794247207,
          -0.2738277006060606,
          -0.2895147071828268,
          1.747638387012417,
          0.1242678716173547,
          -0.15312227345490817,
          -0.31627698229948764,
          -0.7810855763676708,
          -0.7770733676926891,
          -0.24946793203146422,
          -0.2956896791395687,
          -0.33284195939600164,
          -0.2771413944928652,
          -0.268954184588342,
          -0.3438680378839603,
          -0.2679545898213031,
          -0.36362424026114326,
          0.19987274524791074,
          -0.04499229386717014,
          -0.2253015649926791,
          -0.3078147598283536,
          0.21234644664182,
          0.0642243351859192,
          -0.21499961468612336,
          -0.3219015520242132,
          -0.19191857286449773,
          -0.4541776017545872,
          -0.19378346141973207,
          3.8916126297840625,
          -0.04836004820325283,
          -0.34070266324590426,
          -0.053878558199650844,
          -0.3032283577573841,
          -0.35295228268562767,
          -0.7757560245354953,
          -0.29009522657331027,
          -0.2563386717873949,
          -0.10686224778636261,
          -0.033690177988786145,
          -0.1525616484948515,
          -0.2884173718167908,
          0.017960426415892506,
          -0.0664917857364251,
          -0.319137547432054,
          -0.31005365906576676,
          0.07387316403559782,
          -0.301321101474347,
          -0.2813562091481341,
          -0.18450576815435282,
          -0.30079164520131474,
          -0.2711970392406933,
          -0.3220228953413557,
          -0.3480912976759594,
          -0.6058552532873699,
          -0.24302434707800424,
          5.6320568083574045,
          -0.15928927252294717,
          -0.23948683841701013,
          -0.3163895145079697,
          -0.18091646501245215,
          -0.13807887149839335,
          -0.5628202069149829,
          3.907170144922168,
          -0.27591548923781545,
          3.908271641785271,
          -0.09057047736675428,
          1.8920759960747873,
          -0.2812562622354878,
          -0.009510140192769235,
          2.5803196625371965,
          -0.30151627479716386,
          -0.16351825329235262,
          -0.2900363320692452,
          -0.30596763383524483
         ],
         "y": [
          -0.0914222929285302,
          -0.0792555808842149,
          0.09748895149199935,
          -0.22996324334393473,
          -0.2572214020723695,
          -0.2728732928039868,
          0.0021011765321196085,
          -0.2802184979865866,
          -0.2684703249386215,
          -0.24519297736374887,
          0.08939173781098954,
          -0.268450243092632,
          -0.037070210769482845,
          -0.09988298651134785,
          -0.2532722264640573,
          0.01983871346064723,
          -0.17409758809869363,
          -0.30394195295152654,
          -0.07371630097538305,
          -0.085043070143934,
          -0.23242680827212936,
          -0.30059938731839864,
          -0.27690322531442685,
          -0.28906863213022566,
          -0.2082256806654435,
          -0.08474307252845795,
          -0.13738032185372867,
          -0.21613939260172874,
          -0.3044992570157951,
          -0.08228626384135371,
          -0.3017021397090296,
          -0.08052190080523552,
          -0.30271931650862216,
          -0.41319413569116936,
          -0.22965993617824143,
          0.014284670258789553,
          -0.25403582846813133,
          -0.28193716703037625,
          -0.3156279719595767,
          -0.30171015578209137,
          -0.3053916481134309,
          -0.30016753516421074,
          0.007318468227812803,
          -0.10470780767540797,
          -0.29959511154170987,
          -0.2312453887339579,
          -0.30893692865633426,
          -0.3004237364824226,
          -0.30213464411562535,
          -0.07469586687256381,
          -0.014550595537824442,
          -0.3858702547418115,
          0.0020961295733814356,
          -0.229965094859716,
          -0.3018745556680864,
          -0.23659439867917156,
          -0.29975535334161757,
          0.1793073874625192,
          -0.27321130105796887,
          -0.17489355545373736,
          -0.08852782859753226,
          -0.22778928585381641,
          -0.05665988168746888,
          -0.07252377900263336,
          0.039437105326893325,
          -0.3115201216825644,
          -0.2299613750817017,
          -0.30370383579022514,
          0.03946692628354145,
          0.032328215893090345,
          -0.06353362196634899,
          -0.08594422012833669,
          -0.10183586454458005,
          -0.2532694955099416,
          -0.28900731310896194,
          -0.3058085342918891,
          -0.013597478979552446,
          0.02414271821109884,
          -0.2811511283154997,
          -0.023541785817938417,
          -0.2766810643457917,
          -0.1084417519878428,
          -0.02166845456035823,
          -0.2498862890561889,
          -0.22863154238220873,
          -0.2806570193661976,
          -0.16580594885323918,
          -0.08343825097409525,
          -0.0646245380795927,
          -0.29200740408467946,
          -0.11298640006876219,
          -0.2065873054579363,
          -0.30185591229969627,
          0.019293308175998752,
          -0.043629236155301586,
          -0.17303704190767188,
          0.039456423601811064,
          -0.07931592281693474,
          -0.5140566172121437,
          -0.35296889857877145,
          0.036170659963969044,
          0.06543340613072778,
          -0.3120890994018981,
          -0.04837939192237942,
          -0.027976161703038443,
          -0.30883819014385616,
          -0.07607572872201385,
          -0.3039227601256427,
          0.13055345356655493,
          -0.3018144959084823,
          -0.058422687114452025,
          -0.2687562041287617,
          -0.0846718762604884,
          0.03998302289891893,
          -0.2233195660801115,
          -0.1990425566501563,
          -0.021855181331759725,
          -0.19584626261395904,
          -0.18919734796035084,
          -0.31171079936292334,
          -0.09296362936438556,
          -0.3203322083867174,
          -0.2853891414042495,
          -0.31203997656698956,
          -0.229960043738281,
          -0.4341648406624533,
          -0.022179880086963664,
          0.6790675375487081,
          -0.1786720085316532,
          -0.08119815924341574,
          -0.2785995234340726,
          -0.7508962171634919,
          -0.19078611456900957,
          0.013683891052270152,
          -0.3058768548612366,
          -0.2890374084322673,
          -0.05604247120515103,
          -0.3661642153140151,
          0.09481957320165484,
          -0.27211816766401997,
          -0.055938381577691376,
          0.06660590179114066,
          -0.201030261807624,
          -0.22996504106675372,
          -0.0037055934073969513,
          -0.23966582391346636,
          0.3143555885693275,
          -0.0370716047927173,
          0.008270073264874264,
          -0.27287727249879384,
          -0.08288789720222982,
          -0.2965846177765104,
          0.0043251083018753,
          -0.12956798308015538,
          -0.07557705434961207,
          -0.2103707720378678,
          -0.21925560931582577,
          -0.30706082550637115,
          -0.12769856284768596,
          0.016521796014493023,
          -0.109327878493644,
          -0.07897902006516798,
          -0.19314501577908563,
          -0.000975734348200274,
          -0.23658693007345824,
          -0.18546097296951092,
          0.02138812830132844,
          -0.054303151356014774,
          -0.04940456654317442,
          0.052995560463113975,
          0.02756563065965034,
          -0.31537867420418003,
          0.1290603284556451,
          -0.12077726289393288,
          -0.0804056824347337,
          -0.06465367635340975,
          0.06525938679625413,
          -0.18545378503040896,
          0.034380668227828245,
          -0.0592350210540821,
          0.033169157727911305,
          -0.04187283975067456,
          -0.25908265947993814,
          -0.08632684709582612,
          -0.2767181064656974,
          0.0011535782225449525,
          -0.10964411263254616,
          -0.18891143426414375,
          -0.08467215265398265,
          -0.21119037157066228,
          -0.07615911502551483,
          -0.2762837761804273,
          0.7831450723921248,
          -0.23313948162989098,
          0.2020705553644371,
          0.036644090404476866,
          -0.08469064516855924,
          0.028329076336377716,
          -0.26148255616203714,
          0.01742105900082581,
          0.13757833316436613,
          0.053663357251933705,
          0.03076091484215,
          0.21752658147849022,
          -0.36103979077374,
          -0.24519194128263916,
          -0.08603564137641546,
          -0.02702544000571709,
          -0.3177476985976383,
          -0.14854832701903725,
          0.04034211441940212,
          0.030826498155702573,
          0.06264978228176953,
          -0.07827799066963137,
          -0.12956414841328584,
          -0.20452462080656508,
          -0.000975734348200274,
          -0.014923994864416607,
          -0.06964800233072349,
          -0.09753077029834085,
          0.20981750209606,
          -0.08165126834172341,
          -0.0854331203448758,
          -0.036170727681369565,
          -0.28456161364073845,
          -0.06199795847470486,
          -0.0938381384990525,
          -0.0846741332463834,
          -0.08953479585413776,
          0.06250274600754652,
          -0.04128302392504258,
          -0.30667542287716265,
          -0.27924267193455354,
          -0.07817684075493955,
          -0.0669456656909081,
          -0.0863279775294991,
          0.02183722489708643,
          -0.0929637564257153,
          -0.20563627408660104,
          -0.08128460069070349,
          -0.4104183491023057,
          -0.046430715541020344,
          -0.03107586439428535,
          -0.30489380818299255,
          0.13394925181710288,
          -0.16038128806566398,
          -0.2889431723948801,
          -0.07981479148110908,
          -0.30382800933645987,
          -0.1547794840219883,
          -0.06248843452854075,
          0.3675803001353233,
          -0.0021108083883760254,
          0.25287483291613255,
          0.016519117573087355,
          -0.28033381871735896,
          0.03274230076708941,
          -0.002115702499095103,
          -0.1395883466017933,
          0.032799640524502724,
          -0.004510848003804508,
          -0.08284530337836558,
          -0.08207075599131142,
          -0.07922956434866517,
          -0.04652390644163822,
          -0.039810590732780184,
          -0.30669913472619514,
          -0.11186278369359287,
          -0.2784962195658905,
          0.002479418463523977,
          -0.11334258573819946,
          0.02562255894918243,
          -0.03850062774518898,
          -0.3031046263897981,
          0.06644342204228236,
          -0.3089079112828678,
          -0.004487805078285064,
          -0.20220617786329032,
          -0.3554084172882644,
          -0.22151541485572096,
          -0.29627910024183307,
          0.010729906188380612,
          -0.14574992407186602,
          0.0202115346817186,
          0.052919533145805754,
          -0.3034586461850902,
          0.03462764160475187,
          -0.30443362889518755,
          -0.15856193755036668,
          -0.19942097801692785,
          -0.09360433672344616,
          -0.28069784577927764,
          0.1257044600016508,
          -0.23887288865058642,
          -0.44723811328484164,
          -0.39074620293482637,
          -0.10079634867309933,
          -0.20041270469838,
          0.05289580352321872,
          -0.22996328340207284,
          0.025192014649823406,
          -0.06967223131800039,
          7.004467833580311,
          -0.26586724529288136,
          0.035043925953329315,
          -0.312030514854643,
          -0.23658876464449366,
          -0.27284660159050955,
          -0.2082404878406874,
          -0.2082411142269036,
          -0.09085959974408261,
          -0.07638727821970376,
          -0.35998638330935934,
          0.09213347794661883,
          -0.04043801133521502,
          -0.012169142280778795,
          -0.28923207592113714,
          -0.001433519125805155,
          -0.2011652638490129,
          -0.08267925626364088,
          -0.16065405128113583,
          0.020493904189259327,
          -0.24519872676206103,
          -0.12032937045638044,
          -0.041332919561233764,
          0.017374973207847907,
          -0.0517272165567495,
          -0.2759401839158517,
          -0.10964385952283595,
          0.03762250019546411,
          -0.20827991866514295,
          0.0002880810778969979,
          -0.07757302056385654,
          -0.05297244026129843,
          -0.16329780361699758,
          -0.138702378072066,
          -0.3646904439317554,
          -0.20403016110818245,
          0.0004766039266786416,
          -0.07847410509755634,
          0.04579250962639234,
          0.028122738054226274,
          -0.2344996133364678,
          -0.09598159579780999,
          -0.3738005500693768,
          -0.30672434544901256,
          -0.3467988405712081,
          0.0777057859222101,
          0.020780633260314204,
          -0.20115476556487014,
          -0.4125585174530834,
          -0.09118413084010235,
          -0.00017199090389216233,
          -0.30801217872285586,
          0.03315182028417205,
          -0.10049141675976835,
          -0.20358682902089598,
          -0.19564189465381285,
          0.039087811953909576,
          -0.15310187015116325,
          -0.3039614374456459,
          -0.0857859024059676,
          -0.08432393335731007,
          -0.0385419531959844,
          -0.22950678984830614,
          -0.27574338540230436,
          -0.2683372258993942,
          0.026766373843285778,
          -0.1274286166866234,
          -0.12041336428997979,
          -0.4029619735584437,
          -0.4056085809943199,
          -0.08282709656845794,
          -0.3201253700357163,
          -0.3234879611546819,
          -0.1944035131446346,
          -0.19693093126747624,
          0.13381089769336157,
          -0.24592609517945394,
          -0.3233364713969529,
          -0.14818957759826484,
          -0.06416325992074157,
          -0.04182799937242854,
          0.033787421883019836,
          -0.0775192891573588,
          0.031832708473264144,
          -0.367230428952138,
          -0.2541945819987608,
          -0.2532712321939865,
          -0.2328469335885588,
          0.06557016242063228,
          -0.06133855488327755,
          -0.09866296587690643,
          -0.2923468692830541,
          -0.05847693644728534,
          -0.24052444570422435,
          -0.00030368914158381406,
          0.030691053752752183,
          -0.08951250818173173,
          -0.0748672294272599,
          -0.14574796989113725,
          0.03755866210571628,
          -0.016333736854583905,
          -0.3527228798384118,
          0.13416380856351431,
          -0.08354292318045978,
          -0.15838919769929916,
          -0.07851814938089728,
          0.037414223144265055,
          -0.7541607562476438,
          -0.0637462498580918,
          -0.23764273229165897,
          -0.35330771735854744,
          0.04398098791059767,
          -0.3915517929166539,
          -0.08764818777630547,
          -0.06981605461682089,
          -0.32518347415168847,
          0.09587739502888733,
          -0.2544756531349331,
          -0.12922278075002014,
          0.06866056288769343,
          -0.6126304038959225,
          0.0949525025262188,
          -0.041979822225536034,
          0.05354607063695799,
          0.06153351102041338,
          -0.24187580566324884,
          -0.1907797494953805,
          0.28801064619526967,
          0.004100648047468059,
          0.08396267468136144,
          -0.06930589823245724,
          0.027942908611788855,
          0.04911359554327433,
          -0.30198495892371613,
          -0.07923243562257469,
          -0.4122573642432565,
          -0.05356117255371945,
          -0.12835136743579642,
          0.04288874190499002,
          0.016051736053430167,
          0.033160253578785374,
          -0.0659794202443594,
          -0.003929267172639579,
          -0.3479728737525244,
          -0.3617752272583869,
          0.006505466255568468,
          -0.18545591513091744,
          -0.07946876207694063,
          0.06135879978895734,
          -0.029967955385269925,
          0.365938715369258,
          -0.2923153173803476,
          0.0904936101116825,
          -0.26065576255858747,
          -0.22996328160159948,
          0.19640490900176472,
          -0.023644541324350773,
          -0.35692798563603395,
          -0.0006555990509669898,
          -0.46538297248421057,
          -0.4595849862631802,
          -0.0966465704616102,
          -0.2320997538663378,
          -0.21829050737701883,
          -0.10965125338688053,
          -0.2889352715272526,
          0.0784640166493285,
          -0.2901163825215091,
          0.09410637533565402,
          -0.11510614608315864,
          -0.16912529682056746,
          0.03027465234154848,
          -0.12922216430796368,
          0.04415201573648859,
          0.01792885179897035,
          -0.0009202458477801384,
          -0.28064932291963857,
          -0.10146940342925206,
          -0.28043704595412944,
          -0.027028621221551547,
          -0.09118858033171395,
          -0.09834344189656175,
          -0.30992846304127863,
          -0.02232102574714768,
          -0.22490416919159426,
          -0.06749777927096764,
          -0.4579202231562492,
          -0.08536188333608054,
          -0.07771786506661904,
          -0.08467665606956754,
          -0.004695104188906117,
          -0.2233123486398817,
          -0.12281495142920655,
          -0.0640190947627158,
          -0.017026636303083452,
          -0.24988631922983554,
          -0.05127362258759841,
          -0.24925661214176395,
          -0.05919486521769059,
          -0.20027324432596277,
          0.017796139157942124,
          -0.12510147112918354,
          0.02977761014164934,
          -0.24229148024057218,
          -0.30640788585296813,
          -0.7540871156664144,
          -0.09005770170106615,
          -0.08574189629174406,
          -0.08501995089018478,
          -0.10921834639176331,
          0.028785970322929087,
          -0.23339530114820364,
          0.11454611387822286,
          -0.4848300369644719,
          -0.09664235478031694,
          -0.36118445799311627,
          -0.09670198281476859,
          -0.04788748395540206,
          0.0891592728061089,
          0.0331428602048481,
          -0.0009930466005175864,
          -0.1841769699221982,
          -0.14537562889684494,
          -0.3520748323678191,
          -0.24519292670529952,
          -0.0719101623715158
         ],
         "z": [
          -0.015101230127965971,
          -0.007514239860224854,
          -0.060553242674703,
          -0.10241348753975503,
          -0.10435094238146297,
          -0.025363137272904752,
          -0.10756029081064868,
          -0.104706653043113,
          -0.15656998352359486,
          -0.06601643452522186,
          -0.43282869894392234,
          -0.017550687320059467,
          -0.09776614337083954,
          -0.11140862478126565,
          -0.06009846445019105,
          -0.1410465439850161,
          -0.10197040635601691,
          -0.032564304270187416,
          -0.011014402977074336,
          -0.014798801553354205,
          0.00238936595445912,
          -0.01673995462093687,
          -0.10525570469252872,
          -0.02256402895530118,
          0.04669512442603892,
          -0.015170293622095458,
          -0.03264035839363227,
          -0.04789175071468637,
          -0.022290170162817056,
          -0.011020223388289447,
          -0.021947004501202627,
          -0.013162623384315144,
          -0.02292000340625606,
          -0.18087744692484647,
          0.1459254496394302,
          -0.05027247169701872,
          0.0068192652672315465,
          -0.05639971294713917,
          -0.004055077236215306,
          -0.021937078063753238,
          -0.02448158175545405,
          -0.02227138268357351,
          -0.10275301171169268,
          0.028182961232184656,
          -0.016642100042491125,
          -0.0912033895060903,
          -0.020427402985664284,
          -0.018075094657371043,
          -0.020926138171676052,
          -0.014167169933277216,
          -0.0731087342938469,
          0.07654569838320757,
          -0.10755404107716336,
          -0.10241119477677448,
          -0.01915065571722178,
          -0.04984087770287663,
          -0.021550556300839328,
          0.38929532189600724,
          -0.036708216157680884,
          0.023509567809067638,
          -0.006762806320111173,
          -0.05125812975689307,
          -0.09039275591973896,
          -0.020831361063947906,
          -0.053547553431675485,
          -0.0229216963204259,
          -0.10241580104015281,
          -0.023238516794756185,
          -0.05358448122144949,
          -0.057404180172908235,
          -0.03473906374846345,
          -0.01422594755704823,
          0.005995996838442167,
          -0.060101846236384725,
          -0.022639961325717373,
          -0.02640756485967721,
          -0.07428899448165617,
          -0.10965399463374219,
          -0.10588963364062062,
          0.05069052684546824,
          -0.10244328673153974,
          -0.17093555378339403,
          -0.09436687723553094,
          -0.07904308807970263,
          -0.1295755342553177,
          -0.10389965758156525,
          -0.07640026908068792,
          -0.009609183587776607,
          0.05574423596831154,
          -0.05158538416088606,
          0.014663936599353538,
          -0.0011709064878683403,
          -0.019173742112360618,
          -0.10696467162801279,
          -0.020262494720510057,
          -0.06382992242043393,
          -0.05357147557486404,
          0.004226110605429052,
          0.06462354475757803,
          -0.09637083239071484,
          0.3128367327082211,
          -0.016353174485058637,
          -0.030241189762061627,
          -0.09105919135916833,
          -0.03773978467107711,
          -0.024599186789660454,
          -0.022182450024912242,
          -0.02125185621551752,
          -0.08910823375403092,
          -0.021317378686551473,
          -0.014949084860299833,
          -0.020756237307148068,
          -0.01525845715243813,
          -0.0805751186995323,
          -0.004324577610870323,
          -0.010520776699973842,
          -0.0999011563799446,
          -0.02236317355714871,
          -0.006276024340090134,
          -0.026661346118045725,
          -0.04082845343495102,
          -0.045911811279696645,
          0.033774785216956225,
          -0.02884871930848903,
          -0.10241744966499566,
          0.07577167477644677,
          -0.06738202404486157,
          1.3902787897898272,
          -0.09473541666806704,
          -0.22126430938281072,
          -0.10951060689267378,
          -0.9951327570629497,
          -0.11221474474208337,
          -0.1284894722543824,
          -0.023166407428478555,
          -0.02260269378311916,
          0.04883767941779698,
          -0.18522307114976813,
          -0.10700344504120539,
          -0.09139445441247901,
          -0.038173809150600306,
          -0.15264206631798247,
          -0.12304570920274509,
          -0.10241126138949969,
          -0.10054858241825565,
          -0.07634843809912034,
          0.6691138406294141,
          -0.09776441712853413,
          -0.09445283340661259,
          -0.025358209150218417,
          -0.07392023872577336,
          -0.08495775425831378,
          -0.022115686823356632,
          -0.027711331109227685,
          -0.023459104962717046,
          -0.07749973694451075,
          -0.047780728248806505,
          -0.027891829277467653,
          0.21035522564827003,
          -0.11468572056704006,
          0.021676849058350517,
          -0.08671988103628145,
          0.10453392466986569,
          -0.12831997477188598,
          -0.04985012620234419,
          -0.09989948280587946,
          -0.11523173472616695,
          -0.09216439196154215,
          -0.09522640694323602,
          -0.046399446595254905,
          -0.10618949536324271,
          -0.028099545177925088,
          0.10596341513807458,
          0.00890568498542397,
          -0.009095458955056618,
          0.05578031838050879,
          -0.037286429239723695,
          -0.09990838375118431,
          -0.11311871518464978,
          0.09503089230619875,
          -0.12079651865166689,
          -0.032271544644734355,
          -0.10338060225655402,
          -0.09340803119755138,
          -0.10980611214536831,
          -0.0861740993534202,
          -0.05108275185287776,
          -0.018022054341868012,
          -0.015258114889747982,
          -0.0009447697033939989,
          -0.022079191369529058,
          -0.10396488056164856,
          0.33019934599761236,
          -0.05131252886501569,
          -0.007151015046647443,
          -0.18422501918652245,
          -0.015235215299411187,
          -0.10660269327984977,
          -0.025776551818968867,
          -0.19514016310655513,
          -0.09407369051301542,
          0.10309151287802767,
          -0.1834646973010856,
          -0.027203422317190973,
          -0.1842811583497156,
          -0.0660177175218013,
          0.896454378456111,
          -0.09441286858253006,
          -0.049112253012220185,
          -0.0686772489920073,
          0.004822238143334095,
          -0.10736295739790384,
          -0.1561455586886851,
          -0.007767959148704237,
          -0.027716079641398494,
          -0.12459059847942118,
          -0.12831997477188598,
          -0.1389688728510403,
          -0.08315170379386226,
          -0.033602478072465525,
          -0.46587969073538976,
          -0.006578418260074684,
          -0.008156260323080679,
          -0.08133122421528108,
          -0.11222587343692167,
          -0.03615916404686011,
          0.02346288609367166,
          -0.007922415658249204,
          -0.01583182100623728,
          -0.03203999091187378,
          0.03298002701356949,
          -0.01893452868791678,
          -0.09990293406904956,
          -0.22406176023819052,
          -0.00811569833822834,
          -0.0934066313626124,
          -0.10784434627238416,
          -0.0408282960927795,
          -0.12458064319560284,
          -0.009860403640582372,
          -0.19456757506971853,
          -0.03679558943442556,
          0.1914533454356086,
          -0.018414959165804358,
          -0.0956739563271253,
          -0.057000782776978114,
          -0.025327663565850898,
          0.004843868022567884,
          -0.023321783274660886,
          -0.1597724996198853,
          -0.008818976987116523,
          0.2851230820612144,
          0.003593756097143155,
          -0.2879609076915289,
          -0.00032019934521494736,
          -0.030594656620882423,
          -0.18727390657696702,
          0.003599816556366501,
          -0.03278989170919688,
          -0.1344730908864635,
          -0.06016846015383777,
          -0.012393743504888807,
          -0.012814620128323306,
          0.004119171468663488,
          -0.10127771053189902,
          -0.0965103655732985,
          -0.025082676209374363,
          0.0015874966876800642,
          -0.10688960726354307,
          -0.12979191788260444,
          -0.04100385357191423,
          -0.11231754359991254,
          -0.09802592782116339,
          -0.020031625325680816,
          0.0956142732241091,
          -0.13042888821098164,
          0.08314174770135391,
          -0.05250476540790156,
          -0.23311854852913474,
          -0.09786225725083529,
          -0.051513843128270606,
          -0.05639840165325289,
          -0.005408332722711257,
          -0.02834336789655327,
          0.09855260317504151,
          -0.020542315127093112,
          -0.08062309649380203,
          -0.02376334827211631,
          -0.147972414213382,
          -0.11634346290236293,
          0.024421224377144717,
          -0.11220317177700664,
          -0.08807383558438661,
          -0.11124503548099067,
          0.14889949913720013,
          -0.19463109009781912,
          -0.5056689311252822,
          -0.08534763809305598,
          0.09858198796388859,
          -0.10241343793509448,
          -0.10799607711125805,
          -0.019058428215078596,
          -9.978033250049505,
          -0.022416297371154418,
          -0.18379630908576586,
          0.07941074058366437,
          -0.049847854422322986,
          -0.02539618944932989,
          0.04671346039899249,
          0.046714236063528994,
          -0.009607930504104462,
          -0.007715512777228003,
          -0.13475732591536121,
          -0.4348211980930376,
          0.11145771404005297,
          -0.0983835800973477,
          -0.029828486706644005,
          -0.07514977556712801,
          -0.11261580590793102,
          -0.011906522162515806,
          -0.08329591041954222,
          0.10830141787536621,
          -0.06600931494905518,
          0.0440989884034582,
          0.013450715755765457,
          -0.025346919731844168,
          -0.1655050802782784,
          -0.008685454562121104,
          -0.05108306528286835,
          -0.0012361659291090278,
          0.046762288248927225,
          -0.10352711772396153,
          -0.010366274841546523,
          -0.0912614975932136,
          -0.13495476293899747,
          -0.049545542710729404,
          -0.18505500695698437,
          -0.07578036964774199,
          -0.08826114240742813,
          0.568243554708927,
          0.0024934018129924803,
          -0.10568555366989442,
          -0.011232335543882253,
          -0.06740221275913091,
          -0.11669336583899909,
          -0.12328954011027857,
          -0.12902837882188065,
          -0.03306509006880679,
          -0.0570141796779487,
          -0.12271737785293944,
          -0.18919776675558397,
          0.021424242921286724,
          0.019108303889526612,
          -0.01972164875120119,
          -0.12077504940488282,
          -0.09392814357273185,
          -0.1208149867471565,
          -0.08811261946252615,
          -0.030401705918697067,
          -0.04494938878992976,
          -0.032540176294978344,
          -0.0156295787361812,
          -0.0096588840322588,
          -0.1101476675241038,
          -0.10371962294478908,
          -0.10654647918682382,
          -0.09532756376160592,
          0.0010810195066856862,
          -0.17518163993816116,
          -0.027089385388740023,
          -0.08042337286612079,
          0.3525428125102908,
          -0.014278253843273735,
          -0.11536585132117509,
          -0.04200398980469186,
          0.05030333512058026,
          -0.008645215960095065,
          -0.09250021316132954,
          -0.05340821441819727,
          -0.00844216296562683,
          -0.06912149440466148,
          -0.09606273830981794,
          -0.0908897881376179,
          -0.24916680178794293,
          -0.019995153435057027,
          -0.0096079378839535,
          -0.18604851316077553,
          -0.056965109462354994,
          -0.060099695671462304,
          -0.07386523131673361,
          -0.082831317109478,
          -0.034050362895439445,
          -0.029207357622947794,
          -0.02399011518459728,
          -0.014881907003402287,
          -0.027894114445385997,
          -0.10547261388179154,
          -0.18687216021379313,
          -0.04229540411190914,
          0.6401398136485351,
          -0.005410752617417629,
          -0.0011571141540227495,
          -0.16572490237744306,
          -0.1372515440520421,
          0.02627237884657319,
          -0.00847852713921976,
          -0.07424448118023658,
          -0.22345880808307333,
          -0.27450073891430526,
          -0.2661849109309051,
          -0.011616461972442363,
          -0.048867679265510944,
          -0.13578954059665252,
          0.0769231973494991,
          -0.09303708795120834,
          0.00402271060411557,
          -0.012690687888085085,
          -0.12461539664556866,
          0.04622397740720064,
          -0.056617054369735825,
          -0.01637516076937595,
          -0.10634840538486091,
          0.3147976782135585,
          -0.03131083226964567,
          -0.09931671729621516,
          0.35448564399547683,
          0.0820304200076222,
          -0.11001133296803915,
          -0.11222262671930039,
          0.0959083169038162,
          -0.06726909484610745,
          -0.02687437470682017,
          -0.01502946549772021,
          0.0390752412323429,
          0.03956609937087387,
          -0.018317828668247434,
          0.004122727015206502,
          -0.18893434115316987,
          0.3220173627808089,
          -0.23880744102341844,
          0.2164039206788394,
          -0.08890733711482054,
          -0.12078549249476242,
          -0.01870405736135329,
          -0.15497352331259068,
          -0.16243739765504916,
          -0.24203392660919543,
          -0.003355160506931487,
          -0.0999057460120703,
          -0.00849796925415317,
          -0.3559669183303498,
          0.09242516621197955,
          0.8202023164107873,
          -0.017627103031384303,
          -0.23793935327530571,
          -0.03365356173414897,
          -0.1024134401646514,
          -1.0344121647865168,
          -0.06184754900776488,
          -0.1339809708459171,
          -0.06029284488626868,
          -0.39419393984225215,
          -0.39138962349383494,
          -0.05387134892373739,
          -0.10293437965870596,
          -0.023224333111776293,
          -0.05107390933726004,
          -0.02152433095207485,
          -0.028283078312711842,
          -0.02406360796349939,
          -0.030612233268710414,
          0.02035339155451769,
          0.06469606631001032,
          -0.11435024161332735,
          -0.016375924119893217,
          -0.17030626508929303,
          -0.08531197223887102,
          -0.08701293745854906,
          -0.07485907705686703,
          -0.10015588316290101,
          -0.11112518289026967,
          -0.09440892922971336,
          0.5810116146975641,
          0.0057532139894327945,
          -0.02541221726007299,
          -0.06720724101129497,
          -0.05588366992431881,
          0.00799109812749763,
          -0.3956297443497753,
          -0.010383691792297462,
          -0.10034791723472919,
          -0.015252538234848649,
          -0.05994029263566243,
          -0.00433351508791515,
          -0.012687537269330947,
          -0.07091885552776549,
          -0.04764643752237481,
          -0.07904305071517093,
          -0.015814507308269454,
          0.03029523233869345,
          -0.04697338337686034,
          -0.07250304920884791,
          -0.1098582092208623,
          -0.011773487671215483,
          -0.19009926817384304,
          -0.03822257423459005,
          -0.021319460555322196,
          -0.37241902543033695,
          -0.08328903436363376,
          0.8961824072955185,
          -0.008516706738464188,
          -0.010458592761866538,
          -0.05783383250352498,
          -0.01225059651422379,
          -0.09125370330015853,
          -0.25224719133633033,
          0.5616481803276226,
          -0.18480571829985618,
          0.5617220187207638,
          -0.044422609925220034,
          1.3030718571379365,
          -0.18200324199929943,
          -0.10512090398047644,
          0.3118116570424243,
          -0.013628669990471465,
          -0.12856895343831184,
          -0.06601649725642807,
          -0.02010592272333962
         ]
        },
        {
         "customdata": [
          [
           "Proof-of-BibleHash"
          ]
         ],
         "hovertemplate": "<b>%{hovertext}</b><br><br>class=%{marker.color}<br>PC 1=%{x}<br>PC 2=%{y}<br>PC 3=%{z}<br>Algorithm=%{customdata[0]}<extra></extra>",
         "hovertext": [
          "BiblePay"
         ],
         "legendgroup": "3",
         "marker": {
          "color": [
           3
          ],
          "coloraxis": "coloraxis",
          "symbol": "diamond"
         },
         "mode": "markers",
         "name": "3",
         "scene": "scene",
         "showlegend": true,
         "type": "scatter3d",
         "x": [
          0.5728436614122367
         ],
         "y": [
          31.687972863930774
         ],
         "z": [
          -17.237902135088166
         ]
        },
        {
         "customdata": [
          [
           "SHA-256 + Hive"
          ],
          [
           "Proof-of-Authority"
          ]
         ],
         "hovertemplate": "<b>%{hovertext}</b><br><br>class=%{marker.color}<br>PC 1=%{x}<br>PC 2=%{y}<br>PC 3=%{z}<br>Algorithm=%{customdata[0]}<extra></extra>",
         "hovertext": [
          "LitecoinCash",
          "Poa Network"
         ],
         "legendgroup": "1",
         "marker": {
          "color": [
           1,
           1
          ],
          "coloraxis": "coloraxis",
          "symbol": "square"
         },
         "mode": "markers",
         "name": "1",
         "scene": "scene",
         "showlegend": true,
         "type": "scatter3d",
         "x": [
          1.2865958928328332,
          -3.005869456682963
         ],
         "y": [
          10.555557589818196,
          20.214920019061182
         ],
         "z": [
          31.18448321827411,
          14.167107817385409
         ]
        },
        {
         "customdata": [
          [
           "TRC10"
          ]
         ],
         "hovertemplate": "<b>%{hovertext}</b><br><br>class=%{marker.color}<br>PC 1=%{x}<br>PC 2=%{y}<br>PC 3=%{z}<br>Algorithm=%{customdata[0]}<extra></extra>",
         "hovertext": [
          "BitTorrent"
         ],
         "legendgroup": "2",
         "marker": {
          "color": [
           2
          ],
          "coloraxis": "coloraxis",
          "symbol": "x"
         },
         "mode": "markers",
         "name": "2",
         "scene": "scene",
         "showlegend": true,
         "type": "scatter3d",
         "x": [
          35.799960444509175
         ],
         "y": [
          -1.9593633405609296
         ],
         "z": [
          2.9872508269464295
         ]
        }
       ],
       "layout": {
        "coloraxis": {
         "colorbar": {
          "title": {
           "text": "class"
          }
         },
         "colorscale": [
          [
           0,
           "#0d0887"
          ],
          [
           0.1111111111111111,
           "#46039f"
          ],
          [
           0.2222222222222222,
           "#7201a8"
          ],
          [
           0.3333333333333333,
           "#9c179e"
          ],
          [
           0.4444444444444444,
           "#bd3786"
          ],
          [
           0.5555555555555556,
           "#d8576b"
          ],
          [
           0.6666666666666666,
           "#ed7953"
          ],
          [
           0.7777777777777778,
           "#fb9f3a"
          ],
          [
           0.8888888888888888,
           "#fdca26"
          ],
          [
           1,
           "#f0f921"
          ]
         ]
        },
        "legend": {
         "title": {
          "text": "class"
         },
         "tracegroupgap": 0,
         "x": 0,
         "y": 1
        },
        "margin": {
         "t": 60
        },
        "scene": {
         "domain": {
          "x": [
           0,
           1
          ],
          "y": [
           0,
           1
          ]
         },
         "xaxis": {
          "title": {
           "text": "PC 1"
          }
         },
         "yaxis": {
          "title": {
           "text": "PC 2"
          }
         },
         "zaxis": {
          "title": {
           "text": "PC 3"
          }
         }
        },
        "template": {
         "data": {
          "bar": [
           {
            "error_x": {
             "color": "#2a3f5f"
            },
            "error_y": {
             "color": "#2a3f5f"
            },
            "marker": {
             "line": {
              "color": "#E5ECF6",
              "width": 0.5
             }
            },
            "type": "bar"
           }
          ],
          "barpolar": [
           {
            "marker": {
             "line": {
              "color": "#E5ECF6",
              "width": 0.5
             }
            },
            "type": "barpolar"
           }
          ],
          "carpet": [
           {
            "aaxis": {
             "endlinecolor": "#2a3f5f",
             "gridcolor": "white",
             "linecolor": "white",
             "minorgridcolor": "white",
             "startlinecolor": "#2a3f5f"
            },
            "baxis": {
             "endlinecolor": "#2a3f5f",
             "gridcolor": "white",
             "linecolor": "white",
             "minorgridcolor": "white",
             "startlinecolor": "#2a3f5f"
            },
            "type": "carpet"
           }
          ],
          "choropleth": [
           {
            "colorbar": {
             "outlinewidth": 0,
             "ticks": ""
            },
            "type": "choropleth"
           }
          ],
          "contour": [
           {
            "colorbar": {
             "outlinewidth": 0,
             "ticks": ""
            },
            "colorscale": [
             [
              0,
              "#0d0887"
             ],
             [
              0.1111111111111111,
              "#46039f"
             ],
             [
              0.2222222222222222,
              "#7201a8"
             ],
             [
              0.3333333333333333,
              "#9c179e"
             ],
             [
              0.4444444444444444,
              "#bd3786"
             ],
             [
              0.5555555555555556,
              "#d8576b"
             ],
             [
              0.6666666666666666,
              "#ed7953"
             ],
             [
              0.7777777777777778,
              "#fb9f3a"
             ],
             [
              0.8888888888888888,
              "#fdca26"
             ],
             [
              1,
              "#f0f921"
             ]
            ],
            "type": "contour"
           }
          ],
          "contourcarpet": [
           {
            "colorbar": {
             "outlinewidth": 0,
             "ticks": ""
            },
            "type": "contourcarpet"
           }
          ],
          "heatmap": [
           {
            "colorbar": {
             "outlinewidth": 0,
             "ticks": ""
            },
            "colorscale": [
             [
              0,
              "#0d0887"
             ],
             [
              0.1111111111111111,
              "#46039f"
             ],
             [
              0.2222222222222222,
              "#7201a8"
             ],
             [
              0.3333333333333333,
              "#9c179e"
             ],
             [
              0.4444444444444444,
              "#bd3786"
             ],
             [
              0.5555555555555556,
              "#d8576b"
             ],
             [
              0.6666666666666666,
              "#ed7953"
             ],
             [
              0.7777777777777778,
              "#fb9f3a"
             ],
             [
              0.8888888888888888,
              "#fdca26"
             ],
             [
              1,
              "#f0f921"
             ]
            ],
            "type": "heatmap"
           }
          ],
          "heatmapgl": [
           {
            "colorbar": {
             "outlinewidth": 0,
             "ticks": ""
            },
            "colorscale": [
             [
              0,
              "#0d0887"
             ],
             [
              0.1111111111111111,
              "#46039f"
             ],
             [
              0.2222222222222222,
              "#7201a8"
             ],
             [
              0.3333333333333333,
              "#9c179e"
             ],
             [
              0.4444444444444444,
              "#bd3786"
             ],
             [
              0.5555555555555556,
              "#d8576b"
             ],
             [
              0.6666666666666666,
              "#ed7953"
             ],
             [
              0.7777777777777778,
              "#fb9f3a"
             ],
             [
              0.8888888888888888,
              "#fdca26"
             ],
             [
              1,
              "#f0f921"
             ]
            ],
            "type": "heatmapgl"
           }
          ],
          "histogram": [
           {
            "marker": {
             "colorbar": {
              "outlinewidth": 0,
              "ticks": ""
             }
            },
            "type": "histogram"
           }
          ],
          "histogram2d": [
           {
            "colorbar": {
             "outlinewidth": 0,
             "ticks": ""
            },
            "colorscale": [
             [
              0,
              "#0d0887"
             ],
             [
              0.1111111111111111,
              "#46039f"
             ],
             [
              0.2222222222222222,
              "#7201a8"
             ],
             [
              0.3333333333333333,
              "#9c179e"
             ],
             [
              0.4444444444444444,
              "#bd3786"
             ],
             [
              0.5555555555555556,
              "#d8576b"
             ],
             [
              0.6666666666666666,
              "#ed7953"
             ],
             [
              0.7777777777777778,
              "#fb9f3a"
             ],
             [
              0.8888888888888888,
              "#fdca26"
             ],
             [
              1,
              "#f0f921"
             ]
            ],
            "type": "histogram2d"
           }
          ],
          "histogram2dcontour": [
           {
            "colorbar": {
             "outlinewidth": 0,
             "ticks": ""
            },
            "colorscale": [
             [
              0,
              "#0d0887"
             ],
             [
              0.1111111111111111,
              "#46039f"
             ],
             [
              0.2222222222222222,
              "#7201a8"
             ],
             [
              0.3333333333333333,
              "#9c179e"
             ],
             [
              0.4444444444444444,
              "#bd3786"
             ],
             [
              0.5555555555555556,
              "#d8576b"
             ],
             [
              0.6666666666666666,
              "#ed7953"
             ],
             [
              0.7777777777777778,
              "#fb9f3a"
             ],
             [
              0.8888888888888888,
              "#fdca26"
             ],
             [
              1,
              "#f0f921"
             ]
            ],
            "type": "histogram2dcontour"
           }
          ],
          "mesh3d": [
           {
            "colorbar": {
             "outlinewidth": 0,
             "ticks": ""
            },
            "type": "mesh3d"
           }
          ],
          "parcoords": [
           {
            "line": {
             "colorbar": {
              "outlinewidth": 0,
              "ticks": ""
             }
            },
            "type": "parcoords"
           }
          ],
          "pie": [
           {
            "automargin": true,
            "type": "pie"
           }
          ],
          "scatter": [
           {
            "marker": {
             "colorbar": {
              "outlinewidth": 0,
              "ticks": ""
             }
            },
            "type": "scatter"
           }
          ],
          "scatter3d": [
           {
            "line": {
             "colorbar": {
              "outlinewidth": 0,
              "ticks": ""
             }
            },
            "marker": {
             "colorbar": {
              "outlinewidth": 0,
              "ticks": ""
             }
            },
            "type": "scatter3d"
           }
          ],
          "scattercarpet": [
           {
            "marker": {
             "colorbar": {
              "outlinewidth": 0,
              "ticks": ""
             }
            },
            "type": "scattercarpet"
           }
          ],
          "scattergeo": [
           {
            "marker": {
             "colorbar": {
              "outlinewidth": 0,
              "ticks": ""
             }
            },
            "type": "scattergeo"
           }
          ],
          "scattergl": [
           {
            "marker": {
             "colorbar": {
              "outlinewidth": 0,
              "ticks": ""
             }
            },
            "type": "scattergl"
           }
          ],
          "scattermapbox": [
           {
            "marker": {
             "colorbar": {
              "outlinewidth": 0,
              "ticks": ""
             }
            },
            "type": "scattermapbox"
           }
          ],
          "scatterpolar": [
           {
            "marker": {
             "colorbar": {
              "outlinewidth": 0,
              "ticks": ""
             }
            },
            "type": "scatterpolar"
           }
          ],
          "scatterpolargl": [
           {
            "marker": {
             "colorbar": {
              "outlinewidth": 0,
              "ticks": ""
             }
            },
            "type": "scatterpolargl"
           }
          ],
          "scatterternary": [
           {
            "marker": {
             "colorbar": {
              "outlinewidth": 0,
              "ticks": ""
             }
            },
            "type": "scatterternary"
           }
          ],
          "surface": [
           {
            "colorbar": {
             "outlinewidth": 0,
             "ticks": ""
            },
            "colorscale": [
             [
              0,
              "#0d0887"
             ],
             [
              0.1111111111111111,
              "#46039f"
             ],
             [
              0.2222222222222222,
              "#7201a8"
             ],
             [
              0.3333333333333333,
              "#9c179e"
             ],
             [
              0.4444444444444444,
              "#bd3786"
             ],
             [
              0.5555555555555556,
              "#d8576b"
             ],
             [
              0.6666666666666666,
              "#ed7953"
             ],
             [
              0.7777777777777778,
              "#fb9f3a"
             ],
             [
              0.8888888888888888,
              "#fdca26"
             ],
             [
              1,
              "#f0f921"
             ]
            ],
            "type": "surface"
           }
          ],
          "table": [
           {
            "cells": {
             "fill": {
              "color": "#EBF0F8"
             },
             "line": {
              "color": "white"
             }
            },
            "header": {
             "fill": {
              "color": "#C8D4E3"
             },
             "line": {
              "color": "white"
             }
            },
            "type": "table"
           }
          ]
         },
         "layout": {
          "annotationdefaults": {
           "arrowcolor": "#2a3f5f",
           "arrowhead": 0,
           "arrowwidth": 1
          },
          "autotypenumbers": "strict",
          "coloraxis": {
           "colorbar": {
            "outlinewidth": 0,
            "ticks": ""
           }
          },
          "colorscale": {
           "diverging": [
            [
             0,
             "#8e0152"
            ],
            [
             0.1,
             "#c51b7d"
            ],
            [
             0.2,
             "#de77ae"
            ],
            [
             0.3,
             "#f1b6da"
            ],
            [
             0.4,
             "#fde0ef"
            ],
            [
             0.5,
             "#f7f7f7"
            ],
            [
             0.6,
             "#e6f5d0"
            ],
            [
             0.7,
             "#b8e186"
            ],
            [
             0.8,
             "#7fbc41"
            ],
            [
             0.9,
             "#4d9221"
            ],
            [
             1,
             "#276419"
            ]
           ],
           "sequential": [
            [
             0,
             "#0d0887"
            ],
            [
             0.1111111111111111,
             "#46039f"
            ],
            [
             0.2222222222222222,
             "#7201a8"
            ],
            [
             0.3333333333333333,
             "#9c179e"
            ],
            [
             0.4444444444444444,
             "#bd3786"
            ],
            [
             0.5555555555555556,
             "#d8576b"
            ],
            [
             0.6666666666666666,
             "#ed7953"
            ],
            [
             0.7777777777777778,
             "#fb9f3a"
            ],
            [
             0.8888888888888888,
             "#fdca26"
            ],
            [
             1,
             "#f0f921"
            ]
           ],
           "sequentialminus": [
            [
             0,
             "#0d0887"
            ],
            [
             0.1111111111111111,
             "#46039f"
            ],
            [
             0.2222222222222222,
             "#7201a8"
            ],
            [
             0.3333333333333333,
             "#9c179e"
            ],
            [
             0.4444444444444444,
             "#bd3786"
            ],
            [
             0.5555555555555556,
             "#d8576b"
            ],
            [
             0.6666666666666666,
             "#ed7953"
            ],
            [
             0.7777777777777778,
             "#fb9f3a"
            ],
            [
             0.8888888888888888,
             "#fdca26"
            ],
            [
             1,
             "#f0f921"
            ]
           ]
          },
          "colorway": [
           "#636efa",
           "#EF553B",
           "#00cc96",
           "#ab63fa",
           "#FFA15A",
           "#19d3f3",
           "#FF6692",
           "#B6E880",
           "#FF97FF",
           "#FECB52"
          ],
          "font": {
           "color": "#2a3f5f"
          },
          "geo": {
           "bgcolor": "white",
           "lakecolor": "white",
           "landcolor": "#E5ECF6",
           "showlakes": true,
           "showland": true,
           "subunitcolor": "white"
          },
          "hoverlabel": {
           "align": "left"
          },
          "hovermode": "closest",
          "mapbox": {
           "style": "light"
          },
          "paper_bgcolor": "white",
          "plot_bgcolor": "#E5ECF6",
          "polar": {
           "angularaxis": {
            "gridcolor": "white",
            "linecolor": "white",
            "ticks": ""
           },
           "bgcolor": "#E5ECF6",
           "radialaxis": {
            "gridcolor": "white",
            "linecolor": "white",
            "ticks": ""
           }
          },
          "scene": {
           "xaxis": {
            "backgroundcolor": "#E5ECF6",
            "gridcolor": "white",
            "gridwidth": 2,
            "linecolor": "white",
            "showbackground": true,
            "ticks": "",
            "zerolinecolor": "white"
           },
           "yaxis": {
            "backgroundcolor": "#E5ECF6",
            "gridcolor": "white",
            "gridwidth": 2,
            "linecolor": "white",
            "showbackground": true,
            "ticks": "",
            "zerolinecolor": "white"
           },
           "zaxis": {
            "backgroundcolor": "#E5ECF6",
            "gridcolor": "white",
            "gridwidth": 2,
            "linecolor": "white",
            "showbackground": true,
            "ticks": "",
            "zerolinecolor": "white"
           }
          },
          "shapedefaults": {
           "line": {
            "color": "#2a3f5f"
           }
          },
          "ternary": {
           "aaxis": {
            "gridcolor": "white",
            "linecolor": "white",
            "ticks": ""
           },
           "baxis": {
            "gridcolor": "white",
            "linecolor": "white",
            "ticks": ""
           },
           "bgcolor": "#E5ECF6",
           "caxis": {
            "gridcolor": "white",
            "linecolor": "white",
            "ticks": ""
           }
          },
          "title": {
           "x": 0.05
          },
          "xaxis": {
           "automargin": true,
           "gridcolor": "white",
           "linecolor": "white",
           "ticks": "",
           "title": {
            "standoff": 15
           },
           "zerolinecolor": "white",
           "zerolinewidth": 2
          },
          "yaxis": {
           "automargin": true,
           "gridcolor": "white",
           "linecolor": "white",
           "ticks": "",
           "title": {
            "standoff": 15
           },
           "zerolinecolor": "white",
           "zerolinewidth": 2
          }
         }
        },
        "width": 800
       }
      },
      "text/html": [
       "<div>                            <div id=\"84e5257b-2152-4ba7-b9c3-818c30a24e25\" class=\"plotly-graph-div\" style=\"height:525px; width:800px;\"></div>            <script type=\"text/javascript\">                require([\"plotly\"], function(Plotly) {                    window.PLOTLYENV=window.PLOTLYENV || {};                                    if (document.getElementById(\"84e5257b-2152-4ba7-b9c3-818c30a24e25\")) {                    Plotly.newPlot(                        \"84e5257b-2152-4ba7-b9c3-818c30a24e25\",                        [{\"customdata\": [[\"Scrypt\"], [\"Scrypt\"], [\"X13\"], [\"SHA-256\"], [\"Ethash\"], [\"Scrypt\"], [\"X11\"], [\"CryptoNight-V7\"], [\"Ethash\"], [\"Equihash\"], [\"SHA-512\"], [\"Multiple\"], [\"SHA-256\"], [\"SHA-256\"], [\"Scrypt\"], [\"X15\"], [\"X11\"], [\"Scrypt\"], [\"Scrypt\"], [\"Scrypt\"], [\"Multiple\"], [\"Scrypt\"], [\"SHA-256\"], [\"Scrypt\"], [\"Scrypt\"], [\"Scrypt\"], [\"Quark\"], [\"Groestl\"], [\"Scrypt\"], [\"Scrypt\"], [\"Scrypt\"], [\"Scrypt\"], [\"Scrypt\"], [\"X11\"], [\"Scrypt\"], [\"Groestl\"], [\"Multiple\"], [\"SHA-256\"], [\"Scrypt\"], [\"Scrypt\"], [\"Scrypt\"], [\"Scrypt\"], [\"PoS\"], [\"Scrypt\"], [\"Scrypt\"], [\"NeoScrypt\"], [\"Scrypt\"], [\"Scrypt\"], [\"Scrypt\"], [\"Scrypt\"], [\"X11\"], [\"Scrypt\"], [\"X11\"], [\"SHA-256\"], [\"Scrypt\"], [\"Scrypt\"], [\"Scrypt\"], [\"SHA3\"], [\"Scrypt\"], [\"HybridScryptHash256\"], [\"Scrypt\"], [\"Scrypt\"], [\"SHA-256\"], [\"Scrypt\"], [\"X13\"], [\"Scrypt\"], [\"SHA-256\"], [\"Scrypt\"], [\"X13\"], [\"NeoScrypt\"], [\"Scrypt\"], [\"Scrypt\"], [\"Scrypt\"], [\"Scrypt\"], [\"Scrypt\"], [\"Scrypt\"], [\"X11\"], [\"X11\"], [\"SHA-256\"], [\"Multiple\"], [\"SHA-256\"], [\"PHI1612\"], [\"X11\"], [\"SHA-256\"], [\"SHA-256\"], [\"SHA-256\"], [\"X11\"], [\"Scrypt\"], [\"Scrypt\"], [\"Scrypt\"], [\"Scrypt\"], [\"Lyra2REv2\"], [\"Scrypt\"], [\"X11\"], [\"Multiple\"], [\"SHA-256\"], [\"X13\"], [\"Scrypt\"], [\"CryptoNight\"], [\"CryptoNight\"], [\"Shabal256\"], [\"Counterparty\"], [\"Scrypt\"], [\"SHA-256\"], [\"Groestl\"], [\"Scrypt\"], [\"Scrypt\"], [\"Scrypt\"], [\"X13\"], [\"Scrypt\"], [\"Scrypt\"], [\"Scrypt\"], [\"Scrypt\"], [\"X13\"], [\"Scrypt\"], [\"Stanford Folding\"], [\"X11\"], [\"Multiple\"], [\"QuBit\"], [\"Scrypt\"], [\"Scrypt\"], [\"Scrypt\"], [\"M7 POW\"], [\"Scrypt\"], [\"SHA-256\"], [\"Scrypt\"], [\"X11\"], [\"SHA3\"], [\"X11\"], [\"Lyra2RE\"], [\"SHA-256\"], [\"QUAIT\"], [\"X11\"], [\"X11\"], [\"Scrypt\"], [\"Scrypt\"], [\"Scrypt\"], [\"Ethash\"], [\"X13\"], [\"Blake2b\"], [\"SHA-256\"], [\"X15\"], [\"X11\"], [\"SHA-256\"], [\"BLAKE256\"], [\"Scrypt\"], [\"1GB AES Pattern Search\"], [\"SHA-256\"], [\"X11\"], [\"Scrypt\"], [\"SHA-256\"], [\"SHA-256\"], [\"NIST5\"], [\"Scrypt\"], [\"Scrypt\"], [\"X11\"], [\"Dagger\"], [\"Scrypt\"], [\"X11GOST\"], [\"X11\"], [\"Scrypt\"], [\"SHA-256\"], [\"Scrypt\"], [\"PoS\"], [\"Scrypt\"], [\"X11\"], [\"X11\"], [\"SHA-256\"], [\"SHA-256\"], [\"NIST5\"], [\"X11\"], [\"Scrypt\"], [\"POS 3.0\"], [\"Scrypt\"], [\"Scrypt\"], [\"Scrypt\"], [\"X13\"], [\"X11\"], [\"X11\"], [\"Equihash\"], [\"X11\"], [\"Scrypt\"], [\"CryptoNight\"], [\"SHA-256\"], [\"SHA-256\"], [\"X11\"], [\"Scrypt\"], [\"Multiple\"], [\"Scrypt\"], [\"Scrypt\"], [\"Scrypt\"], [\"SHA-256\"], [\"Scrypt\"], [\"Scrypt\"], [\"SHA-256D\"], [\"PoS\"], [\"Scrypt\"], [\"X11\"], [\"Lyra2Z\"], [\"PoS\"], [\"X13\"], [\"X14\"], [\"PoS\"], [\"SHA-256D\"], [\"Ethash\"], [\"Equihash\"], [\"DPoS\"], [\"X11\"], [\"Scrypt\"], [\"X11\"], [\"X13\"], [\"X11\"], [\"PoS\"], [\"Scrypt\"], [\"Scrypt\"], [\"X11\"], [\"PoS\"], [\"X11\"], [\"SHA-256\"], [\"Scrypt\"], [\"X11\"], [\"Scrypt\"], [\"Scrypt\"], [\"X11\"], [\"CryptoNight\"], [\"Scrypt\"], [\"Scrypt\"], [\"Scrypt\"], [\"Scrypt\"], [\"Quark\"], [\"QuBit\"], [\"Scrypt\"], [\"CryptoNight\"], [\"Lyra2RE\"], [\"Scrypt\"], [\"SHA-256\"], [\"X11\"], [\"Scrypt\"], [\"X11\"], [\"Scrypt\"], [\"CryptoNight-V7\"], [\"Scrypt\"], [\"Scrypt\"], [\"Scrypt\"], [\"X13\"], [\"X11\"], [\"Equihash\"], [\"Scrypt\"], [\"Scrypt\"], [\"Lyra2RE\"], [\"Scrypt\"], [\"Dagger-Hashimoto\"], [\"X11\"], [\"Blake2S\"], [\"X11\"], [\"Scrypt\"], [\"PoS\"], [\"X11\"], [\"NIST5\"], [\"PoS\"], [\"X11\"], [\"Scrypt\"], [\"Scrypt\"], [\"Scrypt\"], [\"SHA-256\"], [\"X11\"], [\"Scrypt\"], [\"Scrypt\"], [\"SHA-256\"], [\"PoS\"], [\"Scrypt\"], [\"X15\"], [\"SHA-256\"], [\"Scrypt\"], [\"POS 3.0\"], [\"CryptoNight-V7\"], [\"536\"], [\"Argon2d\"], [\"Blake2b\"], [\"Cloverhash\"], [\"CryptoNight\"], [\"NIST5\"], [\"X11\"], [\"NIST5\"], [\"Skein\"], [\"Scrypt\"], [\"X13\"], [\"Scrypt\"], [\"X11\"], [\"X11\"], [\"Scrypt\"], [\"CryptoNight\"], [\"X13\"], [\"Time Travel\"], [\"Scrypt\"], [\"Keccak\"], [\"SkunkHash v2 Raptor\"], [\"X11\"], [\"Skein\"], [\"SHA-256\"], [\"X11\"], [\"Scrypt\"], [\"VeChainThor Authority\"], [\"Scrypt\"], [\"PoS\"], [\"Scrypt\"], [\"Scrypt\"], [\"Scrypt\"], [\"Scrypt\"], [\"Scrypt\"], [\"Scrypt\"], [\"Scrypt\"], [\"CryptoNight\"], [\"SHA-512\"], [\"Ouroboros\"], [\"X11\"], [\"Equihash\"], [\"NeoScrypt\"], [\"X11\"], [\"Scrypt\"], [\"NeoScrypt\"], [\"Lyra2REv2\"], [\"Equihash\"], [\"Scrypt\"], [\"SHA-256\"], [\"NIST5\"], [\"PHI1612\"], [\"Dagger\"], [\"Scrypt\"], [\"Quark\"], [\"Scrypt\"], [\"POS 2.0\"], [\"Scrypt\"], [\"SHA-256\"], [\"X11\"], [\"NeoScrypt\"], [\"Ethash\"], [\"NeoScrypt\"], [\"X11\"], [\"DPoS\"], [\"NIST5\"], [\"X13\"], [\"Multiple\"], [\"Scrypt\"], [\"CryptoNight\"], [\"CryptoNight\"], [\"Ethash\"], [\"NIST5\"], [\"Quark\"], [\"X11\"], [\"CryptoNight-V7\"], [\"Scrypt\"], [\"Scrypt\"], [\"Scrypt\"], [\"X11\"], [\"BLAKE256\"], [\"X11\"], [\"NeoScrypt\"], [\"Quark\"], [\"NeoScrypt\"], [\"Scrypt\"], [\"Scrypt\"], [\"Scrypt\"], [\"X11\"], [\"X11\"], [\"SHA-256\"], [\"C11\"], [\"POS 3.0\"], [\"Ethash\"], [\"Scrypt\"], [\"CryptoNight\"], [\"SkunkHash\"], [\"Scrypt\"], [\"CryptoNight\"], [\"Scrypt\"], [\"Dagger\"], [\"Lyra2REv2\"], [\"X13\"], [\"Scrypt\"], [\"Scrypt\"], [\"X11\"], [\"C11\"], [\"X11\"], [\"XEVAN\"], [\"Scrypt\"], [\"VBFT\"], [\"Ethash\"], [\"CryptoNight\"], [\"Scrypt\"], [\"IMesh\"], [\"NIST5\"], [\"Scrypt\"], [\"Scrypt\"], [\"Equihash\"], [\"Scrypt\"], [\"Lyra2Z\"], [\"Green Protocol\"], [\"PoS\"], [\"Scrypt\"], [\"Semux BFT consensus\"], [\"X11\"], [\"Quark\"], [\"PoS\"], [\"CryptoNight\"], [\"X16R\"], [\"Scrypt\"], [\"NIST5\"], [\"Lyra2RE\"], [\"XEVAN\"], [\"Tribus\"], [\"Scrypt\"], [\"Lyra2Z\"], [\"CryptoNight\"], [\"CryptoNight Heavy\"], [\"CryptoNight\"], [\"Scrypt\"], [\"Scrypt\"], [\"Jump Consistent Hash\"], [\"SHA-256D\"], [\"CryptoNight\"], [\"Scrypt\"], [\"X15\"], [\"Scrypt\"], [\"Quark\"], [\"SHA-256\"], [\"DPoS\"], [\"X16R\"], [\"HMQ1725\"], [\"X11\"], [\"X16R\"], [\"Quark\"], [\"Quark\"], [\"Scrypt\"], [\"Lyra2REv2\"], [\"Quark\"], [\"Scrypt\"], [\"Scrypt\"], [\"CryptoNight-V7\"], [\"Cryptonight-GPU\"], [\"XEVAN\"], [\"CryptoNight Heavy\"], [\"X11\"], [\"X11\"], [\"Scrypt\"], [\"PoS\"], [\"SHA-256\"], [\"Keccak\"], [\"X11\"], [\"X11\"], [\"Scrypt\"], [\"SHA-512\"], [\"X16R\"], [\"ECC 256K1\"], [\"Equihash\"], [\"XEVAN\"], [\"Lyra2Z\"], [\"SHA-256\"], [\"XEVAN\"], [\"X11\"], [\"CryptoNight\"], [\"Quark\"], [\"Blake\"], [\"Blake\"], [\"Equihash\"], [\"Exosis\"], [\"Scrypt\"], [\"Scrypt\"], [\"Equihash\"], [\"Quark\"], [\"Equihash\"], [\"Quark\"], [\"Scrypt\"], [\"QuBit\"], [\"X11\"], [\"Scrypt\"], [\"XEVAN\"], [\"SHA-256D\"], [\"X11\"], [\"SHA-256\"], [\"X13\"], [\"SHA-256\"], [\"X11\"], [\"DPoS\"], [\"Scrypt\"], [\"Scrypt\"], [\"X11\"], [\"NeoScrypt\"], [\"Scrypt\"], [\"Blake\"], [\"Scrypt\"], [\"SHA-256\"], [\"Scrypt\"], [\"X11\"], [\"Scrypt\"], [\"Scrypt\"], [\"SHA-256\"], [\"X11\"], [\"SHA-256\"], [\"Scrypt\"], [\"Scrypt\"], [\"Scrypt\"], [\"Groestl\"], [\"X11\"], [\"Scrypt\"], [\"PoS\"], [\"Scrypt\"], [\"Scrypt\"], [\"X11\"], [\"SHA-256\"], [\"DPoS\"], [\"Scrypt\"], [\"Scrypt\"], [\"NeoScrypt\"], [\"Multiple\"], [\"X13\"], [\"Equihash+Scrypt\"], [\"DPoS\"], [\"Ethash\"], [\"DPoS\"], [\"SHA-256\"], [\"Leased POS\"], [\"PoS\"], [\"PoS\"], [\"SHA-256\"], [\"Scrypt\"], [\"CryptoNight\"], [\"Equihash\"], [\"Scrypt\"]], \"hovertemplate\": \"<b>%{hovertext}</b><br><br>class=%{marker.color}<br>PC 1=%{x}<br>PC 2=%{y}<br>PC 3=%{z}<br>Algorithm=%{customdata[0]}<extra></extra>\", \"hovertext\": [\"42 Coin\", \"404Coin\", \"EliteCoin\", \"Bitcoin\", \"Ethereum\", \"Litecoin\", \"Dash\", \"Monero\", \"Ethereum Classic\", \"ZCash\", \"Bitshares\", \"DigiByte\", \"BitcoinDark\", \"PayCoin\", \"ProsperCoin\", \"KoboCoin\", \"Spreadcoin\", \"Argentum\", \"Aurora Coin\", \"BlueCoin\", \"MyriadCoin\", \"MoonCoin\", \"ZetaCoin\", \"SexCoin\", \"Quatloo\", \"EnergyCoin\", \"QuarkCoin\", \"Riecoin\", \"Digitalcoin \", \"BitBar\", \"Catcoin\", \"CryptoBullion\", \"CannaCoin\", \"CryptCoin\", \"CasinoCoin\", \"Diamond\", \"Verge\", \"DevCoin\", \"EarthCoin\", \"E-Gulden\", \"Einsteinium\", \"Emerald\", \"Exclusive Coin\", \"FlutterCoin\", \"Franko\", \"FeatherCoin\", \"GrandCoin\", \"GlobalCoin\", \"GoldCoin\", \"HoboNickels\", \"HyperStake\", \"Infinite Coin\", \"IOCoin\", \"IXcoin\", \"KrugerCoin\", \"LuckyCoin\", \"Litebar \", \"MaxCoin\", \"MegaCoin\", \"MediterraneanCoin\", \"MintCoin\", \"MinCoin\", \"MazaCoin\", \"Nautilus Coin\", \"NavCoin\", \"NobleCoin\", \"Namecoin\", \"NyanCoin\", \"OpalCoin\", \"Orbitcoin\", \"PotCoin\", \"PhoenixCoin\", \"Reddcoin\", \"RonPaulCoin\", \"StableCoin\", \"SmartCoin\", \"SuperCoin\", \"SyncCoin\", \"SysCoin\", \"TeslaCoin\", \"TigerCoin\", \"TittieCoin\", \"TorCoin\", \"TerraCoin\", \"UnbreakableCoin\", \"Unobtanium\", \"UroCoin\", \"UnitaryStatus Dollar\", \"UltraCoin\", \"ViaCoin\", \"VeriCoin\", \"Vertcoin\", \"WorldCoin\", \"X11 Coin\", \"Crypti\", \"JouleCoin\", \"StealthCoin\", \"ZCC Coin\", \"ByteCoin\", \"DigitalNote \", \"BurstCoin\", \"StorjCoin\", \"MonaCoin\", \"Neutron\", \"FairCoin\", \"Gulden\", \"RubyCoin\", \"PesetaCoin\", \"Kore\", \"Wild Beast Coin\", \"Dnotes\", \"Flo\", \"8BIT Coin\", \"Sativa Coin\", \"ArtByte\", \"Folding Coin\", \"Ucoin\", \"Unitus\", \"CypherPunkCoin\", \"OmniCron\", \"Vtorrent\", \"GreenCoin\", \"Cryptonite\", \"MasterCoin\", \"SoonCoin\", \"1Credit\", \"IslaCoin\", \"Nexus\", \"MarsCoin \", \"Crypto\", \"Anarchists Prime\", \"Droidz\", \"BowsCoin\", \"Squall Coin\", \"Song Coin\", \"BitZeny\", \"Diggits\", \"Expanse\", \"Paycon\", \"Siacoin\", \"Emercoin\", \"EverGreenCoin\", \"MindCoin\", \"I0coin\", \"Decred\", \"Revolution VR\", \"HOdlcoin\", \"EDRCoin\", \"Hitcoin\", \"Gamecredits\", \"DubaiCoin\", \"CarpeDiemCoin\", \"PWR Coin\", \"BillaryCoin\", \"GPU Coin\", \"Adzcoin\", \"SoilCoin\", \"YoCoin\", \"SibCoin\", \"EuropeCoin\", \"ZeitCoin\", \"SwingCoin\", \"SafeExchangeCoin\", \"Nebuchadnezzar\", \"Francs\", \"BolivarCoin\", \"Ratecoin\", \"Revenu\", \"Clockcoin\", \"VIP Tokens\", \"BitSend\", \"Omni\", \"Let it Ride\", \"PutinCoin\", \"iBankCoin\", \"Frankywillcoin\", \"MudraCoin\", \"PizzaCoin\", \"Lutetium Coin\", \"Komodo\", \"GoldBlocks\", \"CarterCoin\", \"Karbo\", \"BitTokens\", \"ZayedCoin\", \"MustangCoin\", \"ZoneCoin\", \"Circuits of Value\", \"RootCoin\", \"DopeCoin\", \"BitCurrency\", \"DollarCoin\", \"Swiscoin\", \"Shilling\", \"BuzzCoin\", \"Opair\", \"PesoBit\", \"Halloween Coin\", \"ZCoin\", \"CoffeeCoin\", \"RoyalCoin\", \"GanjaCoin V2\", \"TeamUP\", \"LanaCoin\", \"Elementrem\", \"ZClassic\", \"ARK\", \"InsaneCoin\", \"KiloCoin\", \"ArtexCoin\", \"EmberCoin\", \"XenixCoin\", \"FreeCoin\", \"PLNCoin\", \"AquariusCoin\", \"Kurrent\", \"Creatio\", \"Eternity\", \"Eurocoin\", \"BitcoinFast\", \"Stakenet\", \"BitConnect Coin\", \"MoneyCoin\", \"Enigma\", \"Cannabis Industry Coin\", \"Russiacoin\", \"PandaCoin\", \"GameUnits\", \"GAKHcoin\", \"Allsafe\", \"LiteCreed\", \"OsmiumCoin\", \"Bikercoins\", \"HexxCoin\", \"Klingon Empire Darsek\", \"Internet of People\", \"KushCoin\", \"Printerium\", \"PacCoin\", \"Impeach\", \"Citadel\", \"Zilbercoin\", \"FirstCoin\", \"BeaverCoin\", \"FindCoin\", \"VaultCoin\", \"Zero\", \"OpenChat\", \"Canada eCoin\", \"Zoin\", \"RenosCoin\", \"DubaiCoin\", \"VirtacoinPlus\", \"TajCoin\", \"Impact\", \"EB3coin\", \"Atmos\", \"HappyCoin\", \"Coinonat\", \"MacronCoin\", \"Condensate\", \"Independent Money System\", \"ArgusCoin\", \"LomoCoin\", \"ProCurrency\", \"GoldReserve\", \"BenjiRolls\", \"GrowthCoin\", \"ILCoin\", \"Phreak\", \"Degas Coin\", \"HTML5 Coin\", \"Ultimate Secure Cash\", \"EquiTrader\", \"QTUM\", \"Quantum Resistant Ledger\", \"Espers\", \"Dynamic\", \"Nano\", \"ChanCoin\", \"Dinastycoin\", \"Denarius\", \"DigitalPrice\", \"Virta Unique Coin\", \"Bitcoin Planet\", \"Unify\", \"BritCoin\", \"SocialCoin\", \"ArcticCoin\", \"DAS\", \"Linda\", \"LeviarCoin\", \"DeepOnion\", \"Bitcore\", \"gCn Coin\", \"SmartCash\", \"Signatum\", \"Onix\", \"Cream\", \"Bitcoin Cash\", \"Monoeci\", \"Draftcoin\", \"Vechain\", \"Sojourn Coin\", \"Stakecoin\", \"NewYorkCoin\", \"FrazCoin\", \"Kronecoin\", \"AdCoin\", \"Linx\", \"CoinonatX\", \"Ethereum Dark\", \"Sumokoin\", \"Obsidian\", \"Cardano\", \"Regalcoin\", \"BitcoinZ\", \"TrezarCoin\", \"Elements\", \"TerraNovaCoin\", \"VIVO Coin\", \"Rupee\", \"Bitcoin Gold\", \"WomenCoin\", \"Theresa May Coin\", \"NamoCoin\", \"LUXCoin\", \"Pirl\", \"Xios\", \"Bitcloud 2.0\", \"eBoost\", \"KekCoin\", \"BlackholeCoin\", \"Infinity Economics\", \"Pura\", \"Innova\", \"Ellaism\", \"GoByte\", \"Magnet\", \"Lamden Tau\", \"Electra\", \"Bitcoin Diamond\", \"SHIELD\", \"Cash & Back Coin\", \"UltraNote\", \"BitCoal\", \"DaxxCoin\", \"Bulwark\", \"Kalkulus\", \"AC3\", \"Lethean\", \"GermanCoin\", \"LiteCoin Ultra\", \"PopularCoin\", \"PhantomX\", \"Photon\", \"Sucre\", \"SparksPay\", \"Digiwage\", \"GunCoin\", \"IrishCoin\", \"Trollcoin\", \"Litecoin Plus\", \"Monkey Project\", \"Pioneer Coin\", \"UnitedBitcoin\", \"Interzone\", \"TokenPay\", \"1717 Masonic Commemorative Token\", \"My Big Coin\", \"TurtleCoin\", \"MUNcoin\", \"Unified Society USDEX\", \"Niobio Cash\", \"ShareChain\", \"Travelflex\", \"KREDS\", \"Tokyo Coin\", \"BitFlip\", \"LottoCoin\", \"Crypto Improvement Fund\", \"Stipend\", \"Pushi\", \"Ellerium\", \"Velox\", \"Ontology\", \"Callisto Network\", \"BitTube\", \"Poseidon\", \"Aidos Kuneen\", \"Bitspace\", \"Briacoin\", \"Ignition\", \"Bitrolium\", \"MedicCoin\", \"Alpenschillling\", \"Bitcoin Green\", \"Deviant Coin\", \"Abjcoin\", \"Semux\", \"FuturoCoin\", \"Carebit\", \"Zealium\", \"Monero Classic\", \"Proton\", \"iDealCash\", \"Jumpcoin\", \"Infinex\", \"Bitcoin Incognito\", \"KEYCO\", \"HollyWoodCoin\", \"GINcoin\", \"PlatinCoin\", \"Loki\", \"Newton Coin\", \"Swisscoin\", \"Xt3ch\", \"MassGrid\", \"TheVig\", \"PluraCoin\", \"EmaratCoin\", \"Dekado\", \"Lynx\", \"Poseidon Quark\", \"BitcoinWSpectrum\", \"Muse\", \"Motion\", \"PlusOneCoin\", \"Axe\", \"Trivechain\", \"Dystem\", \"Giant\", \"Peony Coin\", \"Absolute Coin\", \"Vitae\", \"HexCoin\", \"TPCash\", \"Webchain\", \"Ryo\", \"Urals Coin\", \"Qwertycoin\", \"ARENON\", \"EUNO\", \"MMOCoin\", \"Ketan\", \"Project Pai\", \"XDNA\", \"PAXEX\", \"Azart\", \"ThunderStake\", \"Kcash\", \"Xchange\", \"Acute Angle Cloud\", \"CrypticCoin\", \"Bettex coin\", \"Actinium\", \"Bitcoin SV\", \"BitMoney\", \"Junson Ming Chan Coin\", \"FREDEnergy\", \"HerbCoin\", \"Universal Molecule\", \"Lithium\", \"PirateCash\", \"Exosis\", \"Block-Logic\", \"Oduwa\", \"Beam\", \"Galilel\", \"Bithereum\", \"Crypto Sports\", \"Credit\", \"SLICE\", \"Dash Platinum\", \"Nasdacoin\", \"Beetle Coin\", \"Titan Coin\", \"Award\", \"BLAST\", \"Bitcoin Rhodium\", \"GlobalToken\", \"Insane Coin\", \"ALAX\", \"LiteDoge\", \"SolarCoin\", \"TruckCoin\", \"UFO Coin\", \"OrangeCoin\", \"BlakeCoin\", \"BitstarCoin\", \"NeosCoin\", \"HyperCoin\", \"PinkCoin\", \"Crypto Escudo\", \"AudioCoin\", \"IncaKoin\", \"Piggy Coin\", \"Crown Coin\", \"Genstake\", \"SmileyCoin\", \"XiaoMiCoin\", \"Groestlcoin\", \"CapriCoin\", \" ClubCoin\", \"Radium\", \"Bata\", \"Pakcoin\", \"Creditbit \", \"OKCash\", \"Lisk\", \"HiCoin\", \"WhiteCoin\", \"FriendshipCoin\", \"JoinCoin\", \"Triangles Coin\", \"Vollar\", \"EOS\", \"Reality Clash\", \"Oxycoin\", \"TigerCash\", \"Waves\", \"Particl\", \"Nxt\", \"ZEPHYR\", \"Gapcoin\", \"Beldex\", \"Horizen\", \"BitcoinPlus\"], \"legendgroup\": \"0\", \"marker\": {\"color\": [0, 0, 0, 0, 0, 0, 0, 0, 0, 0, 0, 0, 0, 0, 0, 0, 0, 0, 0, 0, 0, 0, 0, 0, 0, 0, 0, 0, 0, 0, 0, 0, 0, 0, 0, 0, 0, 0, 0, 0, 0, 0, 0, 0, 0, 0, 0, 0, 0, 0, 0, 0, 0, 0, 0, 0, 0, 0, 0, 0, 0, 0, 0, 0, 0, 0, 0, 0, 0, 0, 0, 0, 0, 0, 0, 0, 0, 0, 0, 0, 0, 0, 0, 0, 0, 0, 0, 0, 0, 0, 0, 0, 0, 0, 0, 0, 0, 0, 0, 0, 0, 0, 0, 0, 0, 0, 0, 0, 0, 0, 0, 0, 0, 0, 0, 0, 0, 0, 0, 0, 0, 0, 0, 0, 0, 0, 0, 0, 0, 0, 0, 0, 0, 0, 0, 0, 0, 0, 0, 0, 0, 0, 0, 0, 0, 0, 0, 0, 0, 0, 0, 0, 0, 0, 0, 0, 0, 0, 0, 0, 0, 0, 0, 0, 0, 0, 0, 0, 0, 0, 0, 0, 0, 0, 0, 0, 0, 0, 0, 0, 0, 0, 0, 0, 0, 0, 0, 0, 0, 0, 0, 0, 0, 0, 0, 0, 0, 0, 0, 0, 0, 0, 0, 0, 0, 0, 0, 0, 0, 0, 0, 0, 0, 0, 0, 0, 0, 0, 0, 0, 0, 0, 0, 0, 0, 0, 0, 0, 0, 0, 0, 0, 0, 0, 0, 0, 0, 0, 0, 0, 0, 0, 0, 0, 0, 0, 0, 0, 0, 0, 0, 0, 0, 0, 0, 0, 0, 0, 0, 0, 0, 0, 0, 0, 0, 0, 0, 0, 0, 0, 0, 0, 0, 0, 0, 0, 0, 0, 0, 0, 0, 0, 0, 0, 0, 0, 0, 0, 0, 0, 0, 0, 0, 0, 0, 0, 0, 0, 0, 0, 0, 0, 0, 0, 0, 0, 0, 0, 0, 0, 0, 0, 0, 0, 0, 0, 0, 0, 0, 0, 0, 0, 0, 0, 0, 0, 0, 0, 0, 0, 0, 0, 0, 0, 0, 0, 0, 0, 0, 0, 0, 0, 0, 0, 0, 0, 0, 0, 0, 0, 0, 0, 0, 0, 0, 0, 0, 0, 0, 0, 0, 0, 0, 0, 0, 0, 0, 0, 0, 0, 0, 0, 0, 0, 0, 0, 0, 0, 0, 0, 0, 0, 0, 0, 0, 0, 0, 0, 0, 0, 0, 0, 0, 0, 0, 0, 0, 0, 0, 0, 0, 0, 0, 0, 0, 0, 0, 0, 0, 0, 0, 0, 0, 0, 0, 0, 0, 0, 0, 0, 0, 0, 0, 0, 0, 0, 0, 0, 0, 0, 0, 0, 0, 0, 0, 0, 0, 0, 0, 0, 0, 0, 0, 0, 0, 0, 0, 0, 0, 0, 0, 0, 0, 0, 0, 0, 0, 0, 0, 0, 0, 0, 0, 0, 0, 0, 0, 0, 0, 0, 0, 0, 0, 0, 0, 0, 0, 0, 0, 0, 0, 0, 0, 0, 0, 0, 0, 0, 0, 0, 0, 0, 0, 0, 0, 0, 0, 0, 0, 0, 0, 0, 0, 0, 0, 0, 0, 0, 0, 0, 0, 0, 0, 0, 0, 0, 0, 0, 0, 0, 0, 0, 0, 0, 0, 0, 0, 0], \"coloraxis\": \"coloraxis\", \"symbol\": \"circle\"}, \"mode\": \"markers\", \"name\": \"0\", \"scene\": \"scene\", \"showlegend\": true, \"type\": \"scatter3d\", \"x\": [-0.30080782459429756, -0.2693588634731674, 0.33271000346204815, -0.28951541390905416, -0.11593160003670773, -0.3460539860605332, -0.21709891943314458, -0.04402230088835597, -0.2526054625665502, -0.29003539626575375, 0.07227187609703246, -0.02600496655746459, -0.24135604799475258, -0.2748336424782806, -0.31593767580114274, 0.14860767430300917, -0.28592273753832737, -0.3486259012743156, -0.2962453587432756, -0.10009355320790629, 0.05166017660189313, -0.34823351621672366, -0.3209082857676295, -0.3389819573050889, -0.13986301627649286, -0.10563534970394005, -0.39002413475545095, -0.3195272775817655, -0.34813311693919724, -0.2881647109360208, -0.3417501315266946, -0.30058208531436914, -0.35259851649869994, -0.3788877024453472, 0.7840456897208044, -0.2600748481249071, 0.0766066127155333, -0.018998081000817953, -0.1356902062710179, -0.34160205219767825, -0.34962790306053343, -0.33598864945544005, -0.09060857504049377, -0.04393460310950422, -0.3485456551873157, -0.33526171610956185, -0.32522566605540887, -0.32151146702216954, -0.34254331478106803, -0.2935592416905221, -0.04372278662487123, 1.0837935219021049, -0.21700568796456993, -0.28948121122499737, -0.33931711366276573, -0.3362984321975561, -0.35040494138282247, 0.05116797820700321, -0.34526426836171503, -0.5049246829576736, 0.11797708794153074, -0.29709862140829685, -0.23528004059910737, -0.3139521839830033, -0.008632060926912696, -0.3109098265952761, -0.28954992594705553, -0.3465360036937446, -0.009182937549042734, -0.31361853927572764, -0.2632220172615968, -0.2909530184398666, 0.21011640969625464, -0.3159881241752918, -0.34011469143245654, -0.34695867571639416, -0.06132951991361589, -0.19087863977672617, -0.30600536409718054, -0.006777686904510727, -0.31749808350225434, -0.3478507273885601, -0.2079829438129982, -0.31913810482384836, -0.30705777113754656, -0.32136061112451764, -0.09518806366089615, -0.27244906652874884, -0.10070041023202521, -0.2666937927062235, -0.056657761448943356, -0.48292376670805787, -0.33966150891222485, -0.2017363495753868, -0.01228683700782413, -0.27918973418670945, -0.008988923590898937, -0.12070103135055396, 2.7201735519198134, -0.11038156312664248, 1.1822742147137333, -0.00983237673990065, -0.3387727177356159, -0.2702715204580865, -0.07971843992459712, -0.34409155310097306, -0.112048085255072, -0.3344795409046649, -0.1410925747276377, -0.34996167529359484, -0.09236068834053983, -0.3389642861537412, -0.10695054425220188, -0.16076625545174028, -0.15242832215187066, -0.032258546397025176, -0.2526911032942614, -0.04598731665671638, -0.05078591029550631, -0.3468003440630876, -0.2976831148451787, -0.2599938544564881, -0.23032337371148445, -0.3398554678172167, -0.2895745195902189, -0.013421704170591454, -0.056485914007455035, 0.12972749675739395, -0.2597356314685827, -0.16936459618245198, -0.3128235572133202, -0.09902852999278557, -0.26536434644626633, 0.09814849379434935, -0.3342670161175752, -0.3395587464894419, -0.10553784191878209, -0.2919120704157198, -0.1307151169031341, 0.36371221746686666, -0.09554523000589722, 0.2648456538030057, -0.24695057212743765, -0.2894822049317237, -0.03338664813714245, -0.28012910544473685, -1.228660800727414, -0.2413302964798126, -0.031504876799675015, -0.3459804699471387, -0.215225883699809, 0.02210645291873369, 0.07895195309060501, -0.3068807599745035, -0.3235868247333018, -0.2957837745290474, -0.1822655455473858, -0.3407224507655002, -0.729846049190257, -0.19298660175679447, 0.26197444704564954, -0.2592324052914141, 0.1813244843651472, -0.2812958970205329, -0.3364363982707404, -0.25575538049139196, -0.1897499839048974, -0.2644372830078559, -0.2620952345351972, -0.11102200389988183, -0.19524267724149447, -0.3456010153546337, -0.2606647367095425, -0.018080569488542995, -0.2880152532208991, -0.10016214467453627, -0.2606926084681771, -0.2558881618658874, -0.21213528881884436, -0.4433090964489489, -0.1779514231126901, -0.18846300353308226, -0.17230115077741043, -0.25100404178080715, -0.3092232240751858, -0.2179610472089086, -0.27727330423250396, -0.16416472181307507, -0.10694543848996117, -0.39042555629009607, -0.11050770659631035, -0.31098725767223745, -0.7933986508921068, -0.28308332919976525, 0.4285867783681602, -0.26795789708508877, -0.1066038299331017, -0.195548391860016, -0.1581970630669009, -0.27396517657134345, -0.16064502356878324, 0.05409886928702198, -0.2723309165266529, 0.13496793831876003, -0.2882768384861834, -0.29005453558674715, 5.624753142837414, -0.19384222738937887, -0.3077369915822974, -0.0681961556388659, 1.3128111766181256, -0.1942212373922327, -0.21174667662284888, -0.29168967417174557, -0.3069515970156168, -0.24578050070016394, -0.2812958970205329, -0.17705110825125558, -0.27138358465121915, -0.27163048151786273, 0.3734485428599241, -0.2998624424507005, -0.2933682878117006, -0.23290576330375554, -0.19121384606072908, -0.2711663180239138, 0.2230974386399812, -0.30012105054904814, -0.29598707392498597, -0.33726929469515277, -0.13498308403413353, -0.34118404792333706, -0.18149035070538028, -0.17748442407462164, -0.08861478307213488, -0.2509831595035997, -0.19930547082260783, -0.29768076766641555, -0.23146277861454573, -0.2921936914734879, -0.12041735717615495, -0.29496156009092656, -0.3905999676417374, -0.34843111146173067, -0.1759364563608847, -0.11020776790868246, -0.2630228348502243, -0.11148552938492802, -0.34414143267780467, -0.23735840561721394, -0.3197637115140674, 0.07308174346865184, -0.050637258952382726, -0.4138711755360899, -0.259547948675614, -0.3407035709772332, -0.25464997904059256, -0.05054685101500272, -0.23695312632481408, -0.28505600228109906, -0.03709390597958378, -0.2987877935604956, -0.29429027718410256, -0.12229631422005392, -0.2940995211121326, -0.2349206347506941, -0.3376575808944719, -0.02905858819289663, -0.29729873382318056, -0.22808514921563058, -0.2698917865540779, 0.8978294626803724, -0.2893447253125105, -0.34467388387230585, -0.06544564454885098, -0.20661803125658157, 0.1831326993457128, -0.03649478293786066, -0.10999935986011748, -0.20277129355926568, 0.07877321808069115, -0.18141217634872983, -0.08909839548981068, -0.21683870609083145, 0.058465474512263936, -0.33921558838578314, -0.14665517219516014, -0.33337414768531864, -0.2155339133397633, -0.2530495489626107, -0.1095824183954133, -0.20912421439901588, -0.1380608748351194, -0.2944077587101158, 2.2307940997971403, -0.094220268443893, -0.20114285656988942, -0.3574733804875862, 0.05890382712749128, -0.28951467392303415, -0.19556959589459164, -0.31792659019938274, 12.739927782707513, -0.33771875153311076, -0.27214456505324136, 1.4011224740900572, -0.33640250860358406, -0.34654704755739246, -0.13958948626275602, -0.13957791515432078, -0.27515771156878455, -0.28801569743795735, -0.1713751728267188, 0.02960700224306304, 0.17035568911319965, -0.23879257923421301, -0.16609651541307857, -0.30691885681607645, -0.2057907016786095, -0.2786135886134361, -0.33118908319325624, -0.6308636561503319, -0.289929188770161, 0.466679215727097, -0.07395737549296892, -0.15218731046676112, -0.24137156068634066, -0.14117739700017212, -0.27727797987801694, -0.37396308819510327, -0.1388610884571361, -0.27049419517328377, -0.29708413228229974, -0.15469160167037158, -0.12623946260856636, -0.30903551860432577, -0.2791150788884663, -0.36202101653201213, -0.22037963716150435, 3.917340205169413, 0.29135907137187234, -0.1440969819069597, -0.16805891687482435, -0.24250132192617666, 0.13051908897655598, -0.20975296003225047, -0.2756571993442494, -0.18061858121390031, -0.3243056632454123, -0.24501622779701232, -0.11853163017760297, -0.15429040203294495, -0.1763518249523602, -0.27742668650096314, -0.17763115195049722, 0.5915151918481472, -0.25344121005737347, -0.3191152302830226, -0.3209099177744647, -0.12753020280396954, -0.34826596807595567, -0.28884489624484283, -0.2960130031004937, -0.23216512469279252, -0.21638836222852806, -0.3046221827976086, -0.113091186735778, -0.2327307177181752, -0.27623031814645904, -0.2276306965937489, 0.6503681536346818, 0.6164448684109219, -0.2798128649908672, -0.20809439826999135, -0.20169825899279464, -0.037905372207177275, -0.5390402549152905, -0.164839449229952, -0.3241347141309481, -0.12273426313011128, -0.07482326259048688, 0.04184900139851696, -0.2171807824090225, 0.07149233429160956, -0.31478924067006375, -0.020570308365095463, -0.2762031868023254, -0.03535909053941105, -0.3159560427551127, -0.2836645313013813, -0.1514294967016231, -0.26842314793045036, -0.2833659227238272, -0.29556518710275376, -0.09135855116644762, -0.20785504181119152, -0.26392882991011635, -0.2740354232626841, -0.24439789155547165, 3.8347293269822877, -0.08913449468312626, -0.3727838198148586, -0.27825812070994915, -0.17382550500603672, -0.1515972691319393, -0.27341275120132136, -0.2387669064908633, -0.16924100201269107, 0.17653262894226723, -0.5742044222130236, -0.31080010303900196, -0.20743472585285172, -0.18314225426966452, 0.2529463373429367, 0.4642191626141924, -0.13567383792522147, -0.31655596659383967, -0.6822577537515664, 0.11604974692934697, -0.030166919144633483, -0.3078033724164085, 0.09425330355656593, 1.3762911147547228, -0.36078862501427605, -0.29620153934969984, 1.828749571924247, -0.09382054909318709, -0.2890800344820329, -0.26548192718996516, -0.034510898093972155, -0.30390505310984994, -0.3403143915175033, -0.3144921684435741, -0.598710423998749, -0.12720973879606517, -0.3432362109247548, -0.12224327374615998, -0.13661085862243724, 1.0688479999746379, 0.0168276817268139, 1.943860003240638, -0.2443206147285292, -0.17778693853054134, -0.3202018545402231, -0.22730437339061144, -0.38044381953340434, -0.1534818072544017, -0.05610660398573961, -0.25584881294134904, -0.2811194043104563, 0.28301068776265365, -0.018900708870395008, 0.41636370347685275, -0.20701620722742228, 0.06518250794247207, -0.2738277006060606, -0.2895147071828268, 1.747638387012417, 0.1242678716173547, -0.15312227345490817, -0.31627698229948764, -0.7810855763676708, -0.7770733676926891, -0.24946793203146422, -0.2956896791395687, -0.33284195939600164, -0.2771413944928652, -0.268954184588342, -0.3438680378839603, -0.2679545898213031, -0.36362424026114326, 0.19987274524791074, -0.04499229386717014, -0.2253015649926791, -0.3078147598283536, 0.21234644664182, 0.0642243351859192, -0.21499961468612336, -0.3219015520242132, -0.19191857286449773, -0.4541776017545872, -0.19378346141973207, 3.8916126297840625, -0.04836004820325283, -0.34070266324590426, -0.053878558199650844, -0.3032283577573841, -0.35295228268562767, -0.7757560245354953, -0.29009522657331027, -0.2563386717873949, -0.10686224778636261, -0.033690177988786145, -0.1525616484948515, -0.2884173718167908, 0.017960426415892506, -0.0664917857364251, -0.319137547432054, -0.31005365906576676, 0.07387316403559782, -0.301321101474347, -0.2813562091481341, -0.18450576815435282, -0.30079164520131474, -0.2711970392406933, -0.3220228953413557, -0.3480912976759594, -0.6058552532873699, -0.24302434707800424, 5.6320568083574045, -0.15928927252294717, -0.23948683841701013, -0.3163895145079697, -0.18091646501245215, -0.13807887149839335, -0.5628202069149829, 3.907170144922168, -0.27591548923781545, 3.908271641785271, -0.09057047736675428, 1.8920759960747873, -0.2812562622354878, -0.009510140192769235, 2.5803196625371965, -0.30151627479716386, -0.16351825329235262, -0.2900363320692452, -0.30596763383524483], \"y\": [-0.0914222929285302, -0.0792555808842149, 0.09748895149199935, -0.22996324334393473, -0.2572214020723695, -0.2728732928039868, 0.0021011765321196085, -0.2802184979865866, -0.2684703249386215, -0.24519297736374887, 0.08939173781098954, -0.268450243092632, -0.037070210769482845, -0.09988298651134785, -0.2532722264640573, 0.01983871346064723, -0.17409758809869363, -0.30394195295152654, -0.07371630097538305, -0.085043070143934, -0.23242680827212936, -0.30059938731839864, -0.27690322531442685, -0.28906863213022566, -0.2082256806654435, -0.08474307252845795, -0.13738032185372867, -0.21613939260172874, -0.3044992570157951, -0.08228626384135371, -0.3017021397090296, -0.08052190080523552, -0.30271931650862216, -0.41319413569116936, -0.22965993617824143, 0.014284670258789553, -0.25403582846813133, -0.28193716703037625, -0.3156279719595767, -0.30171015578209137, -0.3053916481134309, -0.30016753516421074, 0.007318468227812803, -0.10470780767540797, -0.29959511154170987, -0.2312453887339579, -0.30893692865633426, -0.3004237364824226, -0.30213464411562535, -0.07469586687256381, -0.014550595537824442, -0.3858702547418115, 0.0020961295733814356, -0.229965094859716, -0.3018745556680864, -0.23659439867917156, -0.29975535334161757, 0.1793073874625192, -0.27321130105796887, -0.17489355545373736, -0.08852782859753226, -0.22778928585381641, -0.05665988168746888, -0.07252377900263336, 0.039437105326893325, -0.3115201216825644, -0.2299613750817017, -0.30370383579022514, 0.03946692628354145, 0.032328215893090345, -0.06353362196634899, -0.08594422012833669, -0.10183586454458005, -0.2532694955099416, -0.28900731310896194, -0.3058085342918891, -0.013597478979552446, 0.02414271821109884, -0.2811511283154997, -0.023541785817938417, -0.2766810643457917, -0.1084417519878428, -0.02166845456035823, -0.2498862890561889, -0.22863154238220873, -0.2806570193661976, -0.16580594885323918, -0.08343825097409525, -0.0646245380795927, -0.29200740408467946, -0.11298640006876219, -0.2065873054579363, -0.30185591229969627, 0.019293308175998752, -0.043629236155301586, -0.17303704190767188, 0.039456423601811064, -0.07931592281693474, -0.5140566172121437, -0.35296889857877145, 0.036170659963969044, 0.06543340613072778, -0.3120890994018981, -0.04837939192237942, -0.027976161703038443, -0.30883819014385616, -0.07607572872201385, -0.3039227601256427, 0.13055345356655493, -0.3018144959084823, -0.058422687114452025, -0.2687562041287617, -0.0846718762604884, 0.03998302289891893, -0.2233195660801115, -0.1990425566501563, -0.021855181331759725, -0.19584626261395904, -0.18919734796035084, -0.31171079936292334, -0.09296362936438556, -0.3203322083867174, -0.2853891414042495, -0.31203997656698956, -0.229960043738281, -0.4341648406624533, -0.022179880086963664, 0.6790675375487081, -0.1786720085316532, -0.08119815924341574, -0.2785995234340726, -0.7508962171634919, -0.19078611456900957, 0.013683891052270152, -0.3058768548612366, -0.2890374084322673, -0.05604247120515103, -0.3661642153140151, 0.09481957320165484, -0.27211816766401997, -0.055938381577691376, 0.06660590179114066, -0.201030261807624, -0.22996504106675372, -0.0037055934073969513, -0.23966582391346636, 0.3143555885693275, -0.0370716047927173, 0.008270073264874264, -0.27287727249879384, -0.08288789720222982, -0.2965846177765104, 0.0043251083018753, -0.12956798308015538, -0.07557705434961207, -0.2103707720378678, -0.21925560931582577, -0.30706082550637115, -0.12769856284768596, 0.016521796014493023, -0.109327878493644, -0.07897902006516798, -0.19314501577908563, -0.000975734348200274, -0.23658693007345824, -0.18546097296951092, 0.02138812830132844, -0.054303151356014774, -0.04940456654317442, 0.052995560463113975, 0.02756563065965034, -0.31537867420418003, 0.1290603284556451, -0.12077726289393288, -0.0804056824347337, -0.06465367635340975, 0.06525938679625413, -0.18545378503040896, 0.034380668227828245, -0.0592350210540821, 0.033169157727911305, -0.04187283975067456, -0.25908265947993814, -0.08632684709582612, -0.2767181064656974, 0.0011535782225449525, -0.10964411263254616, -0.18891143426414375, -0.08467215265398265, -0.21119037157066228, -0.07615911502551483, -0.2762837761804273, 0.7831450723921248, -0.23313948162989098, 0.2020705553644371, 0.036644090404476866, -0.08469064516855924, 0.028329076336377716, -0.26148255616203714, 0.01742105900082581, 0.13757833316436613, 0.053663357251933705, 0.03076091484215, 0.21752658147849022, -0.36103979077374, -0.24519194128263916, -0.08603564137641546, -0.02702544000571709, -0.3177476985976383, -0.14854832701903725, 0.04034211441940212, 0.030826498155702573, 0.06264978228176953, -0.07827799066963137, -0.12956414841328584, -0.20452462080656508, -0.000975734348200274, -0.014923994864416607, -0.06964800233072349, -0.09753077029834085, 0.20981750209606, -0.08165126834172341, -0.0854331203448758, -0.036170727681369565, -0.28456161364073845, -0.06199795847470486, -0.0938381384990525, -0.0846741332463834, -0.08953479585413776, 0.06250274600754652, -0.04128302392504258, -0.30667542287716265, -0.27924267193455354, -0.07817684075493955, -0.0669456656909081, -0.0863279775294991, 0.02183722489708643, -0.0929637564257153, -0.20563627408660104, -0.08128460069070349, -0.4104183491023057, -0.046430715541020344, -0.03107586439428535, -0.30489380818299255, 0.13394925181710288, -0.16038128806566398, -0.2889431723948801, -0.07981479148110908, -0.30382800933645987, -0.1547794840219883, -0.06248843452854075, 0.3675803001353233, -0.0021108083883760254, 0.25287483291613255, 0.016519117573087355, -0.28033381871735896, 0.03274230076708941, -0.002115702499095103, -0.1395883466017933, 0.032799640524502724, -0.004510848003804508, -0.08284530337836558, -0.08207075599131142, -0.07922956434866517, -0.04652390644163822, -0.039810590732780184, -0.30669913472619514, -0.11186278369359287, -0.2784962195658905, 0.002479418463523977, -0.11334258573819946, 0.02562255894918243, -0.03850062774518898, -0.3031046263897981, 0.06644342204228236, -0.3089079112828678, -0.004487805078285064, -0.20220617786329032, -0.3554084172882644, -0.22151541485572096, -0.29627910024183307, 0.010729906188380612, -0.14574992407186602, 0.0202115346817186, 0.052919533145805754, -0.3034586461850902, 0.03462764160475187, -0.30443362889518755, -0.15856193755036668, -0.19942097801692785, -0.09360433672344616, -0.28069784577927764, 0.1257044600016508, -0.23887288865058642, -0.44723811328484164, -0.39074620293482637, -0.10079634867309933, -0.20041270469838, 0.05289580352321872, -0.22996328340207284, 0.025192014649823406, -0.06967223131800039, 7.004467833580311, -0.26586724529288136, 0.035043925953329315, -0.312030514854643, -0.23658876464449366, -0.27284660159050955, -0.2082404878406874, -0.2082411142269036, -0.09085959974408261, -0.07638727821970376, -0.35998638330935934, 0.09213347794661883, -0.04043801133521502, -0.012169142280778795, -0.28923207592113714, -0.001433519125805155, -0.2011652638490129, -0.08267925626364088, -0.16065405128113583, 0.020493904189259327, -0.24519872676206103, -0.12032937045638044, -0.041332919561233764, 0.017374973207847907, -0.0517272165567495, -0.2759401839158517, -0.10964385952283595, 0.03762250019546411, -0.20827991866514295, 0.0002880810778969979, -0.07757302056385654, -0.05297244026129843, -0.16329780361699758, -0.138702378072066, -0.3646904439317554, -0.20403016110818245, 0.0004766039266786416, -0.07847410509755634, 0.04579250962639234, 0.028122738054226274, -0.2344996133364678, -0.09598159579780999, -0.3738005500693768, -0.30672434544901256, -0.3467988405712081, 0.0777057859222101, 0.020780633260314204, -0.20115476556487014, -0.4125585174530834, -0.09118413084010235, -0.00017199090389216233, -0.30801217872285586, 0.03315182028417205, -0.10049141675976835, -0.20358682902089598, -0.19564189465381285, 0.039087811953909576, -0.15310187015116325, -0.3039614374456459, -0.0857859024059676, -0.08432393335731007, -0.0385419531959844, -0.22950678984830614, -0.27574338540230436, -0.2683372258993942, 0.026766373843285778, -0.1274286166866234, -0.12041336428997979, -0.4029619735584437, -0.4056085809943199, -0.08282709656845794, -0.3201253700357163, -0.3234879611546819, -0.1944035131446346, -0.19693093126747624, 0.13381089769336157, -0.24592609517945394, -0.3233364713969529, -0.14818957759826484, -0.06416325992074157, -0.04182799937242854, 0.033787421883019836, -0.0775192891573588, 0.031832708473264144, -0.367230428952138, -0.2541945819987608, -0.2532712321939865, -0.2328469335885588, 0.06557016242063228, -0.06133855488327755, -0.09866296587690643, -0.2923468692830541, -0.05847693644728534, -0.24052444570422435, -0.00030368914158381406, 0.030691053752752183, -0.08951250818173173, -0.0748672294272599, -0.14574796989113725, 0.03755866210571628, -0.016333736854583905, -0.3527228798384118, 0.13416380856351431, -0.08354292318045978, -0.15838919769929916, -0.07851814938089728, 0.037414223144265055, -0.7541607562476438, -0.0637462498580918, -0.23764273229165897, -0.35330771735854744, 0.04398098791059767, -0.3915517929166539, -0.08764818777630547, -0.06981605461682089, -0.32518347415168847, 0.09587739502888733, -0.2544756531349331, -0.12922278075002014, 0.06866056288769343, -0.6126304038959225, 0.0949525025262188, -0.041979822225536034, 0.05354607063695799, 0.06153351102041338, -0.24187580566324884, -0.1907797494953805, 0.28801064619526967, 0.004100648047468059, 0.08396267468136144, -0.06930589823245724, 0.027942908611788855, 0.04911359554327433, -0.30198495892371613, -0.07923243562257469, -0.4122573642432565, -0.05356117255371945, -0.12835136743579642, 0.04288874190499002, 0.016051736053430167, 0.033160253578785374, -0.0659794202443594, -0.003929267172639579, -0.3479728737525244, -0.3617752272583869, 0.006505466255568468, -0.18545591513091744, -0.07946876207694063, 0.06135879978895734, -0.029967955385269925, 0.365938715369258, -0.2923153173803476, 0.0904936101116825, -0.26065576255858747, -0.22996328160159948, 0.19640490900176472, -0.023644541324350773, -0.35692798563603395, -0.0006555990509669898, -0.46538297248421057, -0.4595849862631802, -0.0966465704616102, -0.2320997538663378, -0.21829050737701883, -0.10965125338688053, -0.2889352715272526, 0.0784640166493285, -0.2901163825215091, 0.09410637533565402, -0.11510614608315864, -0.16912529682056746, 0.03027465234154848, -0.12922216430796368, 0.04415201573648859, 0.01792885179897035, -0.0009202458477801384, -0.28064932291963857, -0.10146940342925206, -0.28043704595412944, -0.027028621221551547, -0.09118858033171395, -0.09834344189656175, -0.30992846304127863, -0.02232102574714768, -0.22490416919159426, -0.06749777927096764, -0.4579202231562492, -0.08536188333608054, -0.07771786506661904, -0.08467665606956754, -0.004695104188906117, -0.2233123486398817, -0.12281495142920655, -0.0640190947627158, -0.017026636303083452, -0.24988631922983554, -0.05127362258759841, -0.24925661214176395, -0.05919486521769059, -0.20027324432596277, 0.017796139157942124, -0.12510147112918354, 0.02977761014164934, -0.24229148024057218, -0.30640788585296813, -0.7540871156664144, -0.09005770170106615, -0.08574189629174406, -0.08501995089018478, -0.10921834639176331, 0.028785970322929087, -0.23339530114820364, 0.11454611387822286, -0.4848300369644719, -0.09664235478031694, -0.36118445799311627, -0.09670198281476859, -0.04788748395540206, 0.0891592728061089, 0.0331428602048481, -0.0009930466005175864, -0.1841769699221982, -0.14537562889684494, -0.3520748323678191, -0.24519292670529952, -0.0719101623715158], \"z\": [-0.015101230127965971, -0.007514239860224854, -0.060553242674703, -0.10241348753975503, -0.10435094238146297, -0.025363137272904752, -0.10756029081064868, -0.104706653043113, -0.15656998352359486, -0.06601643452522186, -0.43282869894392234, -0.017550687320059467, -0.09776614337083954, -0.11140862478126565, -0.06009846445019105, -0.1410465439850161, -0.10197040635601691, -0.032564304270187416, -0.011014402977074336, -0.014798801553354205, 0.00238936595445912, -0.01673995462093687, -0.10525570469252872, -0.02256402895530118, 0.04669512442603892, -0.015170293622095458, -0.03264035839363227, -0.04789175071468637, -0.022290170162817056, -0.011020223388289447, -0.021947004501202627, -0.013162623384315144, -0.02292000340625606, -0.18087744692484647, 0.1459254496394302, -0.05027247169701872, 0.0068192652672315465, -0.05639971294713917, -0.004055077236215306, -0.021937078063753238, -0.02448158175545405, -0.02227138268357351, -0.10275301171169268, 0.028182961232184656, -0.016642100042491125, -0.0912033895060903, -0.020427402985664284, -0.018075094657371043, -0.020926138171676052, -0.014167169933277216, -0.0731087342938469, 0.07654569838320757, -0.10755404107716336, -0.10241119477677448, -0.01915065571722178, -0.04984087770287663, -0.021550556300839328, 0.38929532189600724, -0.036708216157680884, 0.023509567809067638, -0.006762806320111173, -0.05125812975689307, -0.09039275591973896, -0.020831361063947906, -0.053547553431675485, -0.0229216963204259, -0.10241580104015281, -0.023238516794756185, -0.05358448122144949, -0.057404180172908235, -0.03473906374846345, -0.01422594755704823, 0.005995996838442167, -0.060101846236384725, -0.022639961325717373, -0.02640756485967721, -0.07428899448165617, -0.10965399463374219, -0.10588963364062062, 0.05069052684546824, -0.10244328673153974, -0.17093555378339403, -0.09436687723553094, -0.07904308807970263, -0.1295755342553177, -0.10389965758156525, -0.07640026908068792, -0.009609183587776607, 0.05574423596831154, -0.05158538416088606, 0.014663936599353538, -0.0011709064878683403, -0.019173742112360618, -0.10696467162801279, -0.020262494720510057, -0.06382992242043393, -0.05357147557486404, 0.004226110605429052, 0.06462354475757803, -0.09637083239071484, 0.3128367327082211, -0.016353174485058637, -0.030241189762061627, -0.09105919135916833, -0.03773978467107711, -0.024599186789660454, -0.022182450024912242, -0.02125185621551752, -0.08910823375403092, -0.021317378686551473, -0.014949084860299833, -0.020756237307148068, -0.01525845715243813, -0.0805751186995323, -0.004324577610870323, -0.010520776699973842, -0.0999011563799446, -0.02236317355714871, -0.006276024340090134, -0.026661346118045725, -0.04082845343495102, -0.045911811279696645, 0.033774785216956225, -0.02884871930848903, -0.10241744966499566, 0.07577167477644677, -0.06738202404486157, 1.3902787897898272, -0.09473541666806704, -0.22126430938281072, -0.10951060689267378, -0.9951327570629497, -0.11221474474208337, -0.1284894722543824, -0.023166407428478555, -0.02260269378311916, 0.04883767941779698, -0.18522307114976813, -0.10700344504120539, -0.09139445441247901, -0.038173809150600306, -0.15264206631798247, -0.12304570920274509, -0.10241126138949969, -0.10054858241825565, -0.07634843809912034, 0.6691138406294141, -0.09776441712853413, -0.09445283340661259, -0.025358209150218417, -0.07392023872577336, -0.08495775425831378, -0.022115686823356632, -0.027711331109227685, -0.023459104962717046, -0.07749973694451075, -0.047780728248806505, -0.027891829277467653, 0.21035522564827003, -0.11468572056704006, 0.021676849058350517, -0.08671988103628145, 0.10453392466986569, -0.12831997477188598, -0.04985012620234419, -0.09989948280587946, -0.11523173472616695, -0.09216439196154215, -0.09522640694323602, -0.046399446595254905, -0.10618949536324271, -0.028099545177925088, 0.10596341513807458, 0.00890568498542397, -0.009095458955056618, 0.05578031838050879, -0.037286429239723695, -0.09990838375118431, -0.11311871518464978, 0.09503089230619875, -0.12079651865166689, -0.032271544644734355, -0.10338060225655402, -0.09340803119755138, -0.10980611214536831, -0.0861740993534202, -0.05108275185287776, -0.018022054341868012, -0.015258114889747982, -0.0009447697033939989, -0.022079191369529058, -0.10396488056164856, 0.33019934599761236, -0.05131252886501569, -0.007151015046647443, -0.18422501918652245, -0.015235215299411187, -0.10660269327984977, -0.025776551818968867, -0.19514016310655513, -0.09407369051301542, 0.10309151287802767, -0.1834646973010856, -0.027203422317190973, -0.1842811583497156, -0.0660177175218013, 0.896454378456111, -0.09441286858253006, -0.049112253012220185, -0.0686772489920073, 0.004822238143334095, -0.10736295739790384, -0.1561455586886851, -0.007767959148704237, -0.027716079641398494, -0.12459059847942118, -0.12831997477188598, -0.1389688728510403, -0.08315170379386226, -0.033602478072465525, -0.46587969073538976, -0.006578418260074684, -0.008156260323080679, -0.08133122421528108, -0.11222587343692167, -0.03615916404686011, 0.02346288609367166, -0.007922415658249204, -0.01583182100623728, -0.03203999091187378, 0.03298002701356949, -0.01893452868791678, -0.09990293406904956, -0.22406176023819052, -0.00811569833822834, -0.0934066313626124, -0.10784434627238416, -0.0408282960927795, -0.12458064319560284, -0.009860403640582372, -0.19456757506971853, -0.03679558943442556, 0.1914533454356086, -0.018414959165804358, -0.0956739563271253, -0.057000782776978114, -0.025327663565850898, 0.004843868022567884, -0.023321783274660886, -0.1597724996198853, -0.008818976987116523, 0.2851230820612144, 0.003593756097143155, -0.2879609076915289, -0.00032019934521494736, -0.030594656620882423, -0.18727390657696702, 0.003599816556366501, -0.03278989170919688, -0.1344730908864635, -0.06016846015383777, -0.012393743504888807, -0.012814620128323306, 0.004119171468663488, -0.10127771053189902, -0.0965103655732985, -0.025082676209374363, 0.0015874966876800642, -0.10688960726354307, -0.12979191788260444, -0.04100385357191423, -0.11231754359991254, -0.09802592782116339, -0.020031625325680816, 0.0956142732241091, -0.13042888821098164, 0.08314174770135391, -0.05250476540790156, -0.23311854852913474, -0.09786225725083529, -0.051513843128270606, -0.05639840165325289, -0.005408332722711257, -0.02834336789655327, 0.09855260317504151, -0.020542315127093112, -0.08062309649380203, -0.02376334827211631, -0.147972414213382, -0.11634346290236293, 0.024421224377144717, -0.11220317177700664, -0.08807383558438661, -0.11124503548099067, 0.14889949913720013, -0.19463109009781912, -0.5056689311252822, -0.08534763809305598, 0.09858198796388859, -0.10241343793509448, -0.10799607711125805, -0.019058428215078596, -9.978033250049505, -0.022416297371154418, -0.18379630908576586, 0.07941074058366437, -0.049847854422322986, -0.02539618944932989, 0.04671346039899249, 0.046714236063528994, -0.009607930504104462, -0.007715512777228003, -0.13475732591536121, -0.4348211980930376, 0.11145771404005297, -0.0983835800973477, -0.029828486706644005, -0.07514977556712801, -0.11261580590793102, -0.011906522162515806, -0.08329591041954222, 0.10830141787536621, -0.06600931494905518, 0.0440989884034582, 0.013450715755765457, -0.025346919731844168, -0.1655050802782784, -0.008685454562121104, -0.05108306528286835, -0.0012361659291090278, 0.046762288248927225, -0.10352711772396153, -0.010366274841546523, -0.0912614975932136, -0.13495476293899747, -0.049545542710729404, -0.18505500695698437, -0.07578036964774199, -0.08826114240742813, 0.568243554708927, 0.0024934018129924803, -0.10568555366989442, -0.011232335543882253, -0.06740221275913091, -0.11669336583899909, -0.12328954011027857, -0.12902837882188065, -0.03306509006880679, -0.0570141796779487, -0.12271737785293944, -0.18919776675558397, 0.021424242921286724, 0.019108303889526612, -0.01972164875120119, -0.12077504940488282, -0.09392814357273185, -0.1208149867471565, -0.08811261946252615, -0.030401705918697067, -0.04494938878992976, -0.032540176294978344, -0.0156295787361812, -0.0096588840322588, -0.1101476675241038, -0.10371962294478908, -0.10654647918682382, -0.09532756376160592, 0.0010810195066856862, -0.17518163993816116, -0.027089385388740023, -0.08042337286612079, 0.3525428125102908, -0.014278253843273735, -0.11536585132117509, -0.04200398980469186, 0.05030333512058026, -0.008645215960095065, -0.09250021316132954, -0.05340821441819727, -0.00844216296562683, -0.06912149440466148, -0.09606273830981794, -0.0908897881376179, -0.24916680178794293, -0.019995153435057027, -0.0096079378839535, -0.18604851316077553, -0.056965109462354994, -0.060099695671462304, -0.07386523131673361, -0.082831317109478, -0.034050362895439445, -0.029207357622947794, -0.02399011518459728, -0.014881907003402287, -0.027894114445385997, -0.10547261388179154, -0.18687216021379313, -0.04229540411190914, 0.6401398136485351, -0.005410752617417629, -0.0011571141540227495, -0.16572490237744306, -0.1372515440520421, 0.02627237884657319, -0.00847852713921976, -0.07424448118023658, -0.22345880808307333, -0.27450073891430526, -0.2661849109309051, -0.011616461972442363, -0.048867679265510944, -0.13578954059665252, 0.0769231973494991, -0.09303708795120834, 0.00402271060411557, -0.012690687888085085, -0.12461539664556866, 0.04622397740720064, -0.056617054369735825, -0.01637516076937595, -0.10634840538486091, 0.3147976782135585, -0.03131083226964567, -0.09931671729621516, 0.35448564399547683, 0.0820304200076222, -0.11001133296803915, -0.11222262671930039, 0.0959083169038162, -0.06726909484610745, -0.02687437470682017, -0.01502946549772021, 0.0390752412323429, 0.03956609937087387, -0.018317828668247434, 0.004122727015206502, -0.18893434115316987, 0.3220173627808089, -0.23880744102341844, 0.2164039206788394, -0.08890733711482054, -0.12078549249476242, -0.01870405736135329, -0.15497352331259068, -0.16243739765504916, -0.24203392660919543, -0.003355160506931487, -0.0999057460120703, -0.00849796925415317, -0.3559669183303498, 0.09242516621197955, 0.8202023164107873, -0.017627103031384303, -0.23793935327530571, -0.03365356173414897, -0.1024134401646514, -1.0344121647865168, -0.06184754900776488, -0.1339809708459171, -0.06029284488626868, -0.39419393984225215, -0.39138962349383494, -0.05387134892373739, -0.10293437965870596, -0.023224333111776293, -0.05107390933726004, -0.02152433095207485, -0.028283078312711842, -0.02406360796349939, -0.030612233268710414, 0.02035339155451769, 0.06469606631001032, -0.11435024161332735, -0.016375924119893217, -0.17030626508929303, -0.08531197223887102, -0.08701293745854906, -0.07485907705686703, -0.10015588316290101, -0.11112518289026967, -0.09440892922971336, 0.5810116146975641, 0.0057532139894327945, -0.02541221726007299, -0.06720724101129497, -0.05588366992431881, 0.00799109812749763, -0.3956297443497753, -0.010383691792297462, -0.10034791723472919, -0.015252538234848649, -0.05994029263566243, -0.00433351508791515, -0.012687537269330947, -0.07091885552776549, -0.04764643752237481, -0.07904305071517093, -0.015814507308269454, 0.03029523233869345, -0.04697338337686034, -0.07250304920884791, -0.1098582092208623, -0.011773487671215483, -0.19009926817384304, -0.03822257423459005, -0.021319460555322196, -0.37241902543033695, -0.08328903436363376, 0.8961824072955185, -0.008516706738464188, -0.010458592761866538, -0.05783383250352498, -0.01225059651422379, -0.09125370330015853, -0.25224719133633033, 0.5616481803276226, -0.18480571829985618, 0.5617220187207638, -0.044422609925220034, 1.3030718571379365, -0.18200324199929943, -0.10512090398047644, 0.3118116570424243, -0.013628669990471465, -0.12856895343831184, -0.06601649725642807, -0.02010592272333962]}, {\"customdata\": [[\"Proof-of-BibleHash\"]], \"hovertemplate\": \"<b>%{hovertext}</b><br><br>class=%{marker.color}<br>PC 1=%{x}<br>PC 2=%{y}<br>PC 3=%{z}<br>Algorithm=%{customdata[0]}<extra></extra>\", \"hovertext\": [\"BiblePay\"], \"legendgroup\": \"3\", \"marker\": {\"color\": [3], \"coloraxis\": \"coloraxis\", \"symbol\": \"diamond\"}, \"mode\": \"markers\", \"name\": \"3\", \"scene\": \"scene\", \"showlegend\": true, \"type\": \"scatter3d\", \"x\": [0.5728436614122367], \"y\": [31.687972863930774], \"z\": [-17.237902135088166]}, {\"customdata\": [[\"SHA-256 + Hive\"], [\"Proof-of-Authority\"]], \"hovertemplate\": \"<b>%{hovertext}</b><br><br>class=%{marker.color}<br>PC 1=%{x}<br>PC 2=%{y}<br>PC 3=%{z}<br>Algorithm=%{customdata[0]}<extra></extra>\", \"hovertext\": [\"LitecoinCash\", \"Poa Network\"], \"legendgroup\": \"1\", \"marker\": {\"color\": [1, 1], \"coloraxis\": \"coloraxis\", \"symbol\": \"square\"}, \"mode\": \"markers\", \"name\": \"1\", \"scene\": \"scene\", \"showlegend\": true, \"type\": \"scatter3d\", \"x\": [1.2865958928328332, -3.005869456682963], \"y\": [10.555557589818196, 20.214920019061182], \"z\": [31.18448321827411, 14.167107817385409]}, {\"customdata\": [[\"TRC10\"]], \"hovertemplate\": \"<b>%{hovertext}</b><br><br>class=%{marker.color}<br>PC 1=%{x}<br>PC 2=%{y}<br>PC 3=%{z}<br>Algorithm=%{customdata[0]}<extra></extra>\", \"hovertext\": [\"BitTorrent\"], \"legendgroup\": \"2\", \"marker\": {\"color\": [2], \"coloraxis\": \"coloraxis\", \"symbol\": \"x\"}, \"mode\": \"markers\", \"name\": \"2\", \"scene\": \"scene\", \"showlegend\": true, \"type\": \"scatter3d\", \"x\": [35.799960444509175], \"y\": [-1.9593633405609296], \"z\": [2.9872508269464295]}],                        {\"coloraxis\": {\"colorbar\": {\"title\": {\"text\": \"class\"}}, \"colorscale\": [[0.0, \"#0d0887\"], [0.1111111111111111, \"#46039f\"], [0.2222222222222222, \"#7201a8\"], [0.3333333333333333, \"#9c179e\"], [0.4444444444444444, \"#bd3786\"], [0.5555555555555556, \"#d8576b\"], [0.6666666666666666, \"#ed7953\"], [0.7777777777777778, \"#fb9f3a\"], [0.8888888888888888, \"#fdca26\"], [1.0, \"#f0f921\"]]}, \"legend\": {\"title\": {\"text\": \"class\"}, \"tracegroupgap\": 0, \"x\": 0, \"y\": 1}, \"margin\": {\"t\": 60}, \"scene\": {\"domain\": {\"x\": [0.0, 1.0], \"y\": [0.0, 1.0]}, \"xaxis\": {\"title\": {\"text\": \"PC 1\"}}, \"yaxis\": {\"title\": {\"text\": \"PC 2\"}}, \"zaxis\": {\"title\": {\"text\": \"PC 3\"}}}, \"template\": {\"data\": {\"bar\": [{\"error_x\": {\"color\": \"#2a3f5f\"}, \"error_y\": {\"color\": \"#2a3f5f\"}, \"marker\": {\"line\": {\"color\": \"#E5ECF6\", \"width\": 0.5}}, \"type\": \"bar\"}], \"barpolar\": [{\"marker\": {\"line\": {\"color\": \"#E5ECF6\", \"width\": 0.5}}, \"type\": \"barpolar\"}], \"carpet\": [{\"aaxis\": {\"endlinecolor\": \"#2a3f5f\", \"gridcolor\": \"white\", \"linecolor\": \"white\", \"minorgridcolor\": \"white\", \"startlinecolor\": \"#2a3f5f\"}, \"baxis\": {\"endlinecolor\": \"#2a3f5f\", \"gridcolor\": \"white\", \"linecolor\": \"white\", \"minorgridcolor\": \"white\", \"startlinecolor\": \"#2a3f5f\"}, \"type\": \"carpet\"}], \"choropleth\": [{\"colorbar\": {\"outlinewidth\": 0, \"ticks\": \"\"}, \"type\": \"choropleth\"}], \"contour\": [{\"colorbar\": {\"outlinewidth\": 0, \"ticks\": \"\"}, \"colorscale\": [[0.0, \"#0d0887\"], [0.1111111111111111, \"#46039f\"], [0.2222222222222222, \"#7201a8\"], [0.3333333333333333, \"#9c179e\"], [0.4444444444444444, \"#bd3786\"], [0.5555555555555556, \"#d8576b\"], [0.6666666666666666, \"#ed7953\"], [0.7777777777777778, \"#fb9f3a\"], [0.8888888888888888, \"#fdca26\"], [1.0, \"#f0f921\"]], \"type\": \"contour\"}], \"contourcarpet\": [{\"colorbar\": {\"outlinewidth\": 0, \"ticks\": \"\"}, \"type\": \"contourcarpet\"}], \"heatmap\": [{\"colorbar\": {\"outlinewidth\": 0, \"ticks\": \"\"}, \"colorscale\": [[0.0, \"#0d0887\"], [0.1111111111111111, \"#46039f\"], [0.2222222222222222, \"#7201a8\"], [0.3333333333333333, \"#9c179e\"], [0.4444444444444444, \"#bd3786\"], [0.5555555555555556, \"#d8576b\"], [0.6666666666666666, \"#ed7953\"], [0.7777777777777778, \"#fb9f3a\"], [0.8888888888888888, \"#fdca26\"], [1.0, \"#f0f921\"]], \"type\": \"heatmap\"}], \"heatmapgl\": [{\"colorbar\": {\"outlinewidth\": 0, \"ticks\": \"\"}, \"colorscale\": [[0.0, \"#0d0887\"], [0.1111111111111111, \"#46039f\"], [0.2222222222222222, \"#7201a8\"], [0.3333333333333333, \"#9c179e\"], [0.4444444444444444, \"#bd3786\"], [0.5555555555555556, \"#d8576b\"], [0.6666666666666666, \"#ed7953\"], [0.7777777777777778, \"#fb9f3a\"], [0.8888888888888888, \"#fdca26\"], [1.0, \"#f0f921\"]], \"type\": \"heatmapgl\"}], \"histogram\": [{\"marker\": {\"colorbar\": {\"outlinewidth\": 0, \"ticks\": \"\"}}, \"type\": \"histogram\"}], \"histogram2d\": [{\"colorbar\": {\"outlinewidth\": 0, \"ticks\": \"\"}, \"colorscale\": [[0.0, \"#0d0887\"], [0.1111111111111111, \"#46039f\"], [0.2222222222222222, \"#7201a8\"], [0.3333333333333333, \"#9c179e\"], [0.4444444444444444, \"#bd3786\"], [0.5555555555555556, \"#d8576b\"], [0.6666666666666666, \"#ed7953\"], [0.7777777777777778, \"#fb9f3a\"], [0.8888888888888888, \"#fdca26\"], [1.0, \"#f0f921\"]], \"type\": \"histogram2d\"}], \"histogram2dcontour\": [{\"colorbar\": {\"outlinewidth\": 0, \"ticks\": \"\"}, \"colorscale\": [[0.0, \"#0d0887\"], [0.1111111111111111, \"#46039f\"], [0.2222222222222222, \"#7201a8\"], [0.3333333333333333, \"#9c179e\"], [0.4444444444444444, \"#bd3786\"], [0.5555555555555556, \"#d8576b\"], [0.6666666666666666, \"#ed7953\"], [0.7777777777777778, \"#fb9f3a\"], [0.8888888888888888, \"#fdca26\"], [1.0, \"#f0f921\"]], \"type\": \"histogram2dcontour\"}], \"mesh3d\": [{\"colorbar\": {\"outlinewidth\": 0, \"ticks\": \"\"}, \"type\": \"mesh3d\"}], \"parcoords\": [{\"line\": {\"colorbar\": {\"outlinewidth\": 0, \"ticks\": \"\"}}, \"type\": \"parcoords\"}], \"pie\": [{\"automargin\": true, \"type\": \"pie\"}], \"scatter\": [{\"marker\": {\"colorbar\": {\"outlinewidth\": 0, \"ticks\": \"\"}}, \"type\": \"scatter\"}], \"scatter3d\": [{\"line\": {\"colorbar\": {\"outlinewidth\": 0, \"ticks\": \"\"}}, \"marker\": {\"colorbar\": {\"outlinewidth\": 0, \"ticks\": \"\"}}, \"type\": \"scatter3d\"}], \"scattercarpet\": [{\"marker\": {\"colorbar\": {\"outlinewidth\": 0, \"ticks\": \"\"}}, \"type\": \"scattercarpet\"}], \"scattergeo\": [{\"marker\": {\"colorbar\": {\"outlinewidth\": 0, \"ticks\": \"\"}}, \"type\": \"scattergeo\"}], \"scattergl\": [{\"marker\": {\"colorbar\": {\"outlinewidth\": 0, \"ticks\": \"\"}}, \"type\": \"scattergl\"}], \"scattermapbox\": [{\"marker\": {\"colorbar\": {\"outlinewidth\": 0, \"ticks\": \"\"}}, \"type\": \"scattermapbox\"}], \"scatterpolar\": [{\"marker\": {\"colorbar\": {\"outlinewidth\": 0, \"ticks\": \"\"}}, \"type\": \"scatterpolar\"}], \"scatterpolargl\": [{\"marker\": {\"colorbar\": {\"outlinewidth\": 0, \"ticks\": \"\"}}, \"type\": \"scatterpolargl\"}], \"scatterternary\": [{\"marker\": {\"colorbar\": {\"outlinewidth\": 0, \"ticks\": \"\"}}, \"type\": \"scatterternary\"}], \"surface\": [{\"colorbar\": {\"outlinewidth\": 0, \"ticks\": \"\"}, \"colorscale\": [[0.0, \"#0d0887\"], [0.1111111111111111, \"#46039f\"], [0.2222222222222222, \"#7201a8\"], [0.3333333333333333, \"#9c179e\"], [0.4444444444444444, \"#bd3786\"], [0.5555555555555556, \"#d8576b\"], [0.6666666666666666, \"#ed7953\"], [0.7777777777777778, \"#fb9f3a\"], [0.8888888888888888, \"#fdca26\"], [1.0, \"#f0f921\"]], \"type\": \"surface\"}], \"table\": [{\"cells\": {\"fill\": {\"color\": \"#EBF0F8\"}, \"line\": {\"color\": \"white\"}}, \"header\": {\"fill\": {\"color\": \"#C8D4E3\"}, \"line\": {\"color\": \"white\"}}, \"type\": \"table\"}]}, \"layout\": {\"annotationdefaults\": {\"arrowcolor\": \"#2a3f5f\", \"arrowhead\": 0, \"arrowwidth\": 1}, \"autotypenumbers\": \"strict\", \"coloraxis\": {\"colorbar\": {\"outlinewidth\": 0, \"ticks\": \"\"}}, \"colorscale\": {\"diverging\": [[0, \"#8e0152\"], [0.1, \"#c51b7d\"], [0.2, \"#de77ae\"], [0.3, \"#f1b6da\"], [0.4, \"#fde0ef\"], [0.5, \"#f7f7f7\"], [0.6, \"#e6f5d0\"], [0.7, \"#b8e186\"], [0.8, \"#7fbc41\"], [0.9, \"#4d9221\"], [1, \"#276419\"]], \"sequential\": [[0.0, \"#0d0887\"], [0.1111111111111111, \"#46039f\"], [0.2222222222222222, \"#7201a8\"], [0.3333333333333333, \"#9c179e\"], [0.4444444444444444, \"#bd3786\"], [0.5555555555555556, \"#d8576b\"], [0.6666666666666666, \"#ed7953\"], [0.7777777777777778, \"#fb9f3a\"], [0.8888888888888888, \"#fdca26\"], [1.0, \"#f0f921\"]], \"sequentialminus\": [[0.0, \"#0d0887\"], [0.1111111111111111, \"#46039f\"], [0.2222222222222222, \"#7201a8\"], [0.3333333333333333, \"#9c179e\"], [0.4444444444444444, \"#bd3786\"], [0.5555555555555556, \"#d8576b\"], [0.6666666666666666, \"#ed7953\"], [0.7777777777777778, \"#fb9f3a\"], [0.8888888888888888, \"#fdca26\"], [1.0, \"#f0f921\"]]}, \"colorway\": [\"#636efa\", \"#EF553B\", \"#00cc96\", \"#ab63fa\", \"#FFA15A\", \"#19d3f3\", \"#FF6692\", \"#B6E880\", \"#FF97FF\", \"#FECB52\"], \"font\": {\"color\": \"#2a3f5f\"}, \"geo\": {\"bgcolor\": \"white\", \"lakecolor\": \"white\", \"landcolor\": \"#E5ECF6\", \"showlakes\": true, \"showland\": true, \"subunitcolor\": \"white\"}, \"hoverlabel\": {\"align\": \"left\"}, \"hovermode\": \"closest\", \"mapbox\": {\"style\": \"light\"}, \"paper_bgcolor\": \"white\", \"plot_bgcolor\": \"#E5ECF6\", \"polar\": {\"angularaxis\": {\"gridcolor\": \"white\", \"linecolor\": \"white\", \"ticks\": \"\"}, \"bgcolor\": \"#E5ECF6\", \"radialaxis\": {\"gridcolor\": \"white\", \"linecolor\": \"white\", \"ticks\": \"\"}}, \"scene\": {\"xaxis\": {\"backgroundcolor\": \"#E5ECF6\", \"gridcolor\": \"white\", \"gridwidth\": 2, \"linecolor\": \"white\", \"showbackground\": true, \"ticks\": \"\", \"zerolinecolor\": \"white\"}, \"yaxis\": {\"backgroundcolor\": \"#E5ECF6\", \"gridcolor\": \"white\", \"gridwidth\": 2, \"linecolor\": \"white\", \"showbackground\": true, \"ticks\": \"\", \"zerolinecolor\": \"white\"}, \"zaxis\": {\"backgroundcolor\": \"#E5ECF6\", \"gridcolor\": \"white\", \"gridwidth\": 2, \"linecolor\": \"white\", \"showbackground\": true, \"ticks\": \"\", \"zerolinecolor\": \"white\"}}, \"shapedefaults\": {\"line\": {\"color\": \"#2a3f5f\"}}, \"ternary\": {\"aaxis\": {\"gridcolor\": \"white\", \"linecolor\": \"white\", \"ticks\": \"\"}, \"baxis\": {\"gridcolor\": \"white\", \"linecolor\": \"white\", \"ticks\": \"\"}, \"bgcolor\": \"#E5ECF6\", \"caxis\": {\"gridcolor\": \"white\", \"linecolor\": \"white\", \"ticks\": \"\"}}, \"title\": {\"x\": 0.05}, \"xaxis\": {\"automargin\": true, \"gridcolor\": \"white\", \"linecolor\": \"white\", \"ticks\": \"\", \"title\": {\"standoff\": 15}, \"zerolinecolor\": \"white\", \"zerolinewidth\": 2}, \"yaxis\": {\"automargin\": true, \"gridcolor\": \"white\", \"linecolor\": \"white\", \"ticks\": \"\", \"title\": {\"standoff\": 15}, \"zerolinecolor\": \"white\", \"zerolinewidth\": 2}}}, \"width\": 800},                        {\"responsive\": true}                    ).then(function(){\n",
       "                            \n",
       "var gd = document.getElementById('84e5257b-2152-4ba7-b9c3-818c30a24e25');\n",
       "var x = new MutationObserver(function (mutations, observer) {{\n",
       "        var display = window.getComputedStyle(gd).display;\n",
       "        if (!display || display === 'none') {{\n",
       "            console.log([gd, 'removed!']);\n",
       "            Plotly.purge(gd);\n",
       "            observer.disconnect();\n",
       "        }}\n",
       "}});\n",
       "\n",
       "// Listen for the removal of the full notebook cells\n",
       "var notebookContainer = gd.closest('#notebook-container');\n",
       "if (notebookContainer) {{\n",
       "    x.observe(notebookContainer, {childList: true});\n",
       "}}\n",
       "\n",
       "// Listen for the clearing of the current output cell\n",
       "var outputEl = gd.closest('.output');\n",
       "if (outputEl) {{\n",
       "    x.observe(outputEl, {childList: true});\n",
       "}}\n",
       "\n",
       "                        })                };                });            </script>        </div>"
      ]
     },
     "metadata": {},
     "output_type": "display_data"
    }
   ],
   "source": [
    "# Creating a 3D-Scatter with the PCA data and the clusters\n",
    "fig = px.scatter_3d(\n",
    "    clustered_df,\n",
    "    x = \"PC 1\",\n",
    "    y = \"PC 2\",\n",
    "    z = \"PC 3\",\n",
    "    color = \"class\",\n",
    "    symbol = \"class\", \n",
    "    width = 800,\n",
    "    hover_name = \"CoinName\",\n",
    "    hover_data = [\"Algorithm\"]\n",
    "    )\n",
    "fig.update_layout(legend = dict(x=0, y=1))\n",
    "fig.show()\n"
   ]
  },
  {
   "cell_type": "code",
   "execution_count": 132,
   "metadata": {},
   "outputs": [
    {
     "data": {},
     "metadata": {},
     "output_type": "display_data"
    },
    {
     "data": {
      "application/vnd.holoviews_exec.v0+json": "",
      "text/html": [
       "<div id='2099'>\n",
       "\n",
       "\n",
       "\n",
       "\n",
       "\n",
       "  <div class=\"bk-root\" id=\"46d67eb2-d047-4081-b1d6-504a516083a2\" data-root-id=\"2099\"></div>\n",
       "</div>\n",
       "<script type=\"application/javascript\">(function(root) {\n",
       "  function embed_document(root) {\n",
       "    var docs_json = {\"a24d0ff3-4376-4a66-9b3f-fc9042bbd5fe\":{\"roots\":{\"references\":[{\"attributes\":{},\"id\":\"2119\",\"type\":\"StringEditor\"},{\"attributes\":{},\"id\":\"2104\",\"type\":\"StringEditor\"},{\"attributes\":{\"format\":\"0,0.0[00000]\"},\"id\":\"2123\",\"type\":\"NumberFormatter\"},{\"attributes\":{},\"id\":\"2129\",\"type\":\"IntEditor\"},{\"attributes\":{\"editor\":{\"id\":\"2104\"},\"field\":\"CoinName\",\"formatter\":{\"id\":\"2103\"},\"title\":\"CoinName\"},\"id\":\"2105\",\"type\":\"TableColumn\"},{\"attributes\":{\"margin\":[5,5,5,5],\"name\":\"HSpacer03901\",\"sizing_mode\":\"stretch_width\"},\"id\":\"2139\",\"type\":\"Spacer\"},{\"attributes\":{\"editor\":{\"id\":\"2124\"},\"field\":\"TotalCoinsMined\",\"formatter\":{\"id\":\"2123\"},\"title\":\"TotalCoinsMined\"},\"id\":\"2125\",\"type\":\"TableColumn\"},{\"attributes\":{},\"id\":\"2114\",\"type\":\"StringEditor\"},{\"attributes\":{\"editor\":{\"id\":\"2109\"},\"field\":\"Algorithm\",\"formatter\":{\"id\":\"2108\"},\"title\":\"Algorithm\"},\"id\":\"2110\",\"type\":\"TableColumn\"},{\"attributes\":{},\"id\":\"2124\",\"type\":\"NumberEditor\"},{\"attributes\":{\"margin\":[5,5,5,5],\"name\":\"HSpacer03900\",\"sizing_mode\":\"stretch_width\"},\"id\":\"2100\",\"type\":\"Spacer\"},{\"attributes\":{},\"id\":\"2128\",\"type\":\"NumberFormatter\"},{\"attributes\":{},\"id\":\"2108\",\"type\":\"StringFormatter\"},{\"attributes\":{},\"id\":\"2103\",\"type\":\"StringFormatter\"},{\"attributes\":{\"editor\":{\"id\":\"2114\"},\"field\":\"ProofType\",\"formatter\":{\"id\":\"2113\"},\"title\":\"ProofType\"},\"id\":\"2115\",\"type\":\"TableColumn\"},{\"attributes\":{},\"id\":\"2118\",\"type\":\"StringFormatter\"},{\"attributes\":{\"editor\":{\"id\":\"2119\"},\"field\":\"TotalCoinSupply\",\"formatter\":{\"id\":\"2118\"},\"title\":\"TotalCoinSupply\"},\"id\":\"2120\",\"type\":\"TableColumn\"},{\"attributes\":{},\"id\":\"2113\",\"type\":\"StringFormatter\"},{\"attributes\":{\"children\":[{\"id\":\"2100\"},{\"id\":\"2133\"},{\"id\":\"2139\"}],\"margin\":[0,0,0,0],\"name\":\"Row03896\",\"tags\":[\"embedded\"]},\"id\":\"2099\",\"type\":\"Row\"},{\"attributes\":{\"source\":{\"id\":\"2101\"}},\"id\":\"2134\",\"type\":\"CDSView\"},{\"attributes\":{\"editor\":{\"id\":\"2129\"},\"field\":\"class\",\"formatter\":{\"id\":\"2128\"},\"title\":\"class\"},\"id\":\"2130\",\"type\":\"TableColumn\"},{\"attributes\":{},\"id\":\"2109\",\"type\":\"StringEditor\"},{\"attributes\":{\"columns\":[{\"id\":\"2105\"},{\"id\":\"2110\"},{\"id\":\"2115\"},{\"id\":\"2120\"},{\"id\":\"2125\"},{\"id\":\"2130\"}],\"height\":300,\"reorderable\":false,\"source\":{\"id\":\"2101\"},\"view\":{\"id\":\"2134\"},\"width\":700},\"id\":\"2133\",\"type\":\"DataTable\"},{\"attributes\":{},\"id\":\"2102\",\"type\":\"Selection\"},{\"attributes\":{},\"id\":\"2135\",\"type\":\"UnionRenderers\"},{\"attributes\":{\"data\":{\"Algorithm\":[\"Scrypt\",\"Scrypt\",\"X13\",\"SHA-256\",\"Ethash\",\"Scrypt\",\"X11\",\"CryptoNight-V7\",\"Ethash\",\"Equihash\",\"SHA-512\",\"Multiple\",\"SHA-256\",\"SHA-256\",\"Scrypt\",\"X15\",\"X11\",\"Scrypt\",\"Scrypt\",\"Scrypt\",\"Multiple\",\"Scrypt\",\"SHA-256\",\"Scrypt\",\"Scrypt\",\"Scrypt\",\"Quark\",\"Groestl\",\"Scrypt\",\"Scrypt\",\"Scrypt\",\"Scrypt\",\"Scrypt\",\"X11\",\"Scrypt\",\"Groestl\",\"Multiple\",\"SHA-256\",\"Scrypt\",\"Scrypt\",\"Scrypt\",\"Scrypt\",\"PoS\",\"Scrypt\",\"Scrypt\",\"NeoScrypt\",\"Scrypt\",\"Scrypt\",\"Scrypt\",\"Scrypt\",\"X11\",\"Scrypt\",\"X11\",\"SHA-256\",\"Scrypt\",\"Scrypt\",\"Scrypt\",\"SHA3\",\"Scrypt\",\"HybridScryptHash256\",\"Scrypt\",\"Scrypt\",\"SHA-256\",\"Scrypt\",\"X13\",\"Scrypt\",\"SHA-256\",\"Scrypt\",\"X13\",\"NeoScrypt\",\"Scrypt\",\"Scrypt\",\"Scrypt\",\"Scrypt\",\"Scrypt\",\"Scrypt\",\"X11\",\"X11\",\"SHA-256\",\"Multiple\",\"SHA-256\",\"PHI1612\",\"X11\",\"SHA-256\",\"SHA-256\",\"SHA-256\",\"X11\",\"Scrypt\",\"Scrypt\",\"Scrypt\",\"Scrypt\",\"Lyra2REv2\",\"Scrypt\",\"X11\",\"Multiple\",\"SHA-256\",\"X13\",\"Scrypt\",\"CryptoNight\",\"CryptoNight\",\"Shabal256\",\"Counterparty\",\"Scrypt\",\"SHA-256\",\"Groestl\",\"Scrypt\",\"Scrypt\",\"Scrypt\",\"X13\",\"Scrypt\",\"Scrypt\",\"Scrypt\",\"Scrypt\",\"X13\",\"Scrypt\",\"Stanford Folding\",\"X11\",\"Multiple\",\"QuBit\",\"Scrypt\",\"Scrypt\",\"Scrypt\",\"M7 POW\",\"Scrypt\",\"SHA-256\",\"Scrypt\",\"X11\",\"SHA3\",\"X11\",\"Lyra2RE\",\"SHA-256\",\"QUAIT\",\"X11\",\"X11\",\"Scrypt\",\"Scrypt\",\"Scrypt\",\"Ethash\",\"X13\",\"Blake2b\",\"SHA-256\",\"X15\",\"X11\",\"SHA-256\",\"BLAKE256\",\"Scrypt\",\"1GB AES Pattern Search\",\"SHA-256\",\"X11\",\"Scrypt\",\"SHA-256\",\"SHA-256\",\"NIST5\",\"Scrypt\",\"Scrypt\",\"X11\",\"Dagger\",\"Scrypt\",\"X11GOST\",\"X11\",\"Scrypt\",\"SHA-256\",\"Scrypt\",\"PoS\",\"Scrypt\",\"X11\",\"X11\",\"SHA-256\",\"SHA-256\",\"NIST5\",\"X11\",\"Scrypt\",\"POS 3.0\",\"Scrypt\",\"Scrypt\",\"Scrypt\",\"X13\",\"X11\",\"X11\",\"Equihash\",\"X11\",\"Scrypt\",\"CryptoNight\",\"SHA-256\",\"SHA-256\",\"X11\",\"Scrypt\",\"Multiple\",\"Scrypt\",\"Scrypt\",\"Scrypt\",\"SHA-256\",\"Scrypt\",\"Scrypt\",\"SHA-256D\",\"PoS\",\"Scrypt\",\"X11\",\"Lyra2Z\",\"PoS\",\"X13\",\"X14\",\"PoS\",\"SHA-256D\",\"Ethash\",\"Equihash\",\"DPoS\",\"X11\",\"Scrypt\",\"X11\",\"X13\",\"X11\",\"PoS\",\"Scrypt\",\"Scrypt\",\"X11\",\"PoS\",\"X11\",\"SHA-256\",\"Scrypt\",\"X11\",\"Scrypt\",\"Scrypt\",\"X11\",\"CryptoNight\",\"Scrypt\",\"Scrypt\",\"Scrypt\",\"Scrypt\",\"Quark\",\"QuBit\",\"Scrypt\",\"CryptoNight\",\"Lyra2RE\",\"Scrypt\",\"SHA-256\",\"X11\",\"Scrypt\",\"X11\",\"Scrypt\",\"CryptoNight-V7\",\"Scrypt\",\"Scrypt\",\"Scrypt\",\"X13\",\"X11\",\"Equihash\",\"Scrypt\",\"Scrypt\",\"Lyra2RE\",\"Scrypt\",\"Dagger-Hashimoto\",\"X11\",\"Blake2S\",\"X11\",\"Scrypt\",\"PoS\",\"X11\",\"NIST5\",\"PoS\",\"X11\",\"Scrypt\",\"Scrypt\",\"Scrypt\",\"SHA-256\",\"X11\",\"Scrypt\",\"Scrypt\",\"SHA-256\",\"PoS\",\"Scrypt\",\"X15\",\"SHA-256\",\"Scrypt\",\"POS 3.0\",\"CryptoNight-V7\",\"536\",\"Argon2d\",\"Blake2b\",\"Cloverhash\",\"CryptoNight\",\"NIST5\",\"X11\",\"NIST5\",\"Skein\",\"Scrypt\",\"X13\",\"Scrypt\",\"X11\",\"X11\",\"Scrypt\",\"CryptoNight\",\"X13\",\"Time Travel\",\"Scrypt\",\"Keccak\",\"SkunkHash v2 Raptor\",\"X11\",\"Skein\",\"SHA-256\",\"X11\",\"Scrypt\",\"VeChainThor Authority\",\"Scrypt\",\"PoS\",\"Scrypt\",\"Scrypt\",\"Scrypt\",\"Scrypt\",\"Scrypt\",\"Scrypt\",\"Scrypt\",\"CryptoNight\",\"SHA-512\",\"Ouroboros\",\"X11\",\"Equihash\",\"NeoScrypt\",\"X11\",\"Scrypt\",\"NeoScrypt\",\"Lyra2REv2\",\"Equihash\",\"Scrypt\",\"SHA-256\",\"NIST5\",\"PHI1612\",\"Dagger\",\"Scrypt\",\"Quark\",\"Scrypt\",\"POS 2.0\",\"Scrypt\",\"SHA-256\",\"X11\",\"NeoScrypt\",\"Ethash\",\"NeoScrypt\",\"X11\",\"DPoS\",\"NIST5\",\"X13\",\"Multiple\",\"Scrypt\",\"CryptoNight\",\"CryptoNight\",\"Ethash\",\"NIST5\",\"Quark\",\"X11\",\"CryptoNight-V7\",\"Scrypt\",\"Scrypt\",\"Scrypt\",\"X11\",\"BLAKE256\",\"X11\",\"NeoScrypt\",\"Quark\",\"NeoScrypt\",\"Scrypt\",\"Scrypt\",\"Scrypt\",\"X11\",\"X11\",\"SHA-256\",\"C11\",\"POS 3.0\",\"Ethash\",\"Scrypt\",\"CryptoNight\",\"SkunkHash\",\"Scrypt\",\"CryptoNight\",\"Scrypt\",\"Dagger\",\"Lyra2REv2\",\"X13\",\"Proof-of-BibleHash\",\"SHA-256 + Hive\",\"Scrypt\",\"Scrypt\",\"X11\",\"C11\",\"Proof-of-Authority\",\"X11\",\"XEVAN\",\"Scrypt\",\"VBFT\",\"Ethash\",\"CryptoNight\",\"Scrypt\",\"IMesh\",\"NIST5\",\"Scrypt\",\"Scrypt\",\"Equihash\",\"Scrypt\",\"Lyra2Z\",\"Green Protocol\",\"PoS\",\"Scrypt\",\"Semux BFT consensus\",\"X11\",\"Quark\",\"PoS\",\"CryptoNight\",\"X16R\",\"Scrypt\",\"NIST5\",\"Lyra2RE\",\"XEVAN\",\"Tribus\",\"Scrypt\",\"Lyra2Z\",\"CryptoNight\",\"CryptoNight Heavy\",\"CryptoNight\",\"Scrypt\",\"Scrypt\",\"Jump Consistent Hash\",\"SHA-256D\",\"CryptoNight\",\"Scrypt\",\"X15\",\"Scrypt\",\"Quark\",\"SHA-256\",\"DPoS\",\"X16R\",\"HMQ1725\",\"X11\",\"X16R\",\"Quark\",\"Quark\",\"Scrypt\",\"Lyra2REv2\",\"Quark\",\"Scrypt\",\"Scrypt\",\"CryptoNight-V7\",\"Cryptonight-GPU\",\"XEVAN\",\"CryptoNight Heavy\",\"X11\",\"X11\",\"Scrypt\",\"PoS\",\"SHA-256\",\"Keccak\",\"X11\",\"X11\",\"Scrypt\",\"SHA-512\",\"X16R\",\"ECC 256K1\",\"Equihash\",\"XEVAN\",\"Lyra2Z\",\"SHA-256\",\"XEVAN\",\"X11\",\"CryptoNight\",\"Quark\",\"Blake\",\"Blake\",\"Equihash\",\"Exosis\",\"Scrypt\",\"Scrypt\",\"Equihash\",\"Quark\",\"Equihash\",\"Quark\",\"Scrypt\",\"QuBit\",\"X11\",\"Scrypt\",\"XEVAN\",\"SHA-256D\",\"X11\",\"SHA-256\",\"X13\",\"SHA-256\",\"X11\",\"DPoS\",\"Scrypt\",\"Scrypt\",\"X11\",\"NeoScrypt\",\"Scrypt\",\"Blake\",\"Scrypt\",\"SHA-256\",\"Scrypt\",\"X11\",\"Scrypt\",\"Scrypt\",\"SHA-256\",\"X11\",\"SHA-256\",\"Scrypt\",\"Scrypt\",\"Scrypt\",\"Groestl\",\"X11\",\"Scrypt\",\"PoS\",\"Scrypt\",\"Scrypt\",\"X11\",\"SHA-256\",\"DPoS\",\"Scrypt\",\"Scrypt\",\"NeoScrypt\",\"Multiple\",\"X13\",\"Equihash+Scrypt\",\"DPoS\",\"Ethash\",\"DPoS\",\"SHA-256\",\"Leased POS\",\"PoS\",\"TRC10\",\"PoS\",\"SHA-256\",\"Scrypt\",\"CryptoNight\",\"Equihash\",\"Scrypt\"],\"CoinName\":[\"42 Coin\",\"404Coin\",\"EliteCoin\",\"Bitcoin\",\"Ethereum\",\"Litecoin\",\"Dash\",\"Monero\",\"Ethereum Classic\",\"ZCash\",\"Bitshares\",\"DigiByte\",\"BitcoinDark\",\"PayCoin\",\"ProsperCoin\",\"KoboCoin\",\"Spreadcoin\",\"Argentum\",\"Aurora Coin\",\"BlueCoin\",\"MyriadCoin\",\"MoonCoin\",\"ZetaCoin\",\"SexCoin\",\"Quatloo\",\"EnergyCoin\",\"QuarkCoin\",\"Riecoin\",\"Digitalcoin \",\"BitBar\",\"Catcoin\",\"CryptoBullion\",\"CannaCoin\",\"CryptCoin\",\"CasinoCoin\",\"Diamond\",\"Verge\",\"DevCoin\",\"EarthCoin\",\"E-Gulden\",\"Einsteinium\",\"Emerald\",\"Exclusive Coin\",\"FlutterCoin\",\"Franko\",\"FeatherCoin\",\"GrandCoin\",\"GlobalCoin\",\"GoldCoin\",\"HoboNickels\",\"HyperStake\",\"Infinite Coin\",\"IOCoin\",\"IXcoin\",\"KrugerCoin\",\"LuckyCoin\",\"Litebar \",\"MaxCoin\",\"MegaCoin\",\"MediterraneanCoin\",\"MintCoin\",\"MinCoin\",\"MazaCoin\",\"Nautilus Coin\",\"NavCoin\",\"NobleCoin\",\"Namecoin\",\"NyanCoin\",\"OpalCoin\",\"Orbitcoin\",\"PotCoin\",\"PhoenixCoin\",\"Reddcoin\",\"RonPaulCoin\",\"StableCoin\",\"SmartCoin\",\"SuperCoin\",\"SyncCoin\",\"SysCoin\",\"TeslaCoin\",\"TigerCoin\",\"TittieCoin\",\"TorCoin\",\"TerraCoin\",\"UnbreakableCoin\",\"Unobtanium\",\"UroCoin\",\"UnitaryStatus Dollar\",\"UltraCoin\",\"ViaCoin\",\"VeriCoin\",\"Vertcoin\",\"WorldCoin\",\"X11 Coin\",\"Crypti\",\"JouleCoin\",\"StealthCoin\",\"ZCC Coin\",\"ByteCoin\",\"DigitalNote \",\"BurstCoin\",\"StorjCoin\",\"MonaCoin\",\"Neutron\",\"FairCoin\",\"Gulden\",\"RubyCoin\",\"PesetaCoin\",\"Kore\",\"Wild Beast Coin\",\"Dnotes\",\"Flo\",\"8BIT Coin\",\"Sativa Coin\",\"ArtByte\",\"Folding Coin\",\"Ucoin\",\"Unitus\",\"CypherPunkCoin\",\"OmniCron\",\"Vtorrent\",\"GreenCoin\",\"Cryptonite\",\"MasterCoin\",\"SoonCoin\",\"1Credit\",\"IslaCoin\",\"Nexus\",\"MarsCoin \",\"Crypto\",\"Anarchists Prime\",\"Droidz\",\"BowsCoin\",\"Squall Coin\",\"Song Coin\",\"BitZeny\",\"Diggits\",\"Expanse\",\"Paycon\",\"Siacoin\",\"Emercoin\",\"EverGreenCoin\",\"MindCoin\",\"I0coin\",\"Decred\",\"Revolution VR\",\"HOdlcoin\",\"EDRCoin\",\"Hitcoin\",\"Gamecredits\",\"DubaiCoin\",\"CarpeDiemCoin\",\"PWR Coin\",\"BillaryCoin\",\"GPU Coin\",\"Adzcoin\",\"SoilCoin\",\"YoCoin\",\"SibCoin\",\"EuropeCoin\",\"ZeitCoin\",\"SwingCoin\",\"SafeExchangeCoin\",\"Nebuchadnezzar\",\"Francs\",\"BolivarCoin\",\"Ratecoin\",\"Revenu\",\"Clockcoin\",\"VIP Tokens\",\"BitSend\",\"Omni\",\"Let it Ride\",\"PutinCoin\",\"iBankCoin\",\"Frankywillcoin\",\"MudraCoin\",\"PizzaCoin\",\"Lutetium Coin\",\"Komodo\",\"GoldBlocks\",\"CarterCoin\",\"Karbo\",\"BitTokens\",\"ZayedCoin\",\"MustangCoin\",\"ZoneCoin\",\"Circuits of Value\",\"RootCoin\",\"DopeCoin\",\"BitCurrency\",\"DollarCoin\",\"Swiscoin\",\"Shilling\",\"BuzzCoin\",\"Opair\",\"PesoBit\",\"Halloween Coin\",\"ZCoin\",\"CoffeeCoin\",\"RoyalCoin\",\"GanjaCoin V2\",\"TeamUP\",\"LanaCoin\",\"Elementrem\",\"ZClassic\",\"ARK\",\"InsaneCoin\",\"KiloCoin\",\"ArtexCoin\",\"EmberCoin\",\"XenixCoin\",\"FreeCoin\",\"PLNCoin\",\"AquariusCoin\",\"Kurrent\",\"Creatio\",\"Eternity\",\"Eurocoin\",\"BitcoinFast\",\"Stakenet\",\"BitConnect Coin\",\"MoneyCoin\",\"Enigma\",\"Cannabis Industry Coin\",\"Russiacoin\",\"PandaCoin\",\"GameUnits\",\"GAKHcoin\",\"Allsafe\",\"LiteCreed\",\"OsmiumCoin\",\"Bikercoins\",\"HexxCoin\",\"Klingon Empire Darsek\",\"Internet of People\",\"KushCoin\",\"Printerium\",\"PacCoin\",\"Impeach\",\"Citadel\",\"Zilbercoin\",\"FirstCoin\",\"BeaverCoin\",\"FindCoin\",\"VaultCoin\",\"Zero\",\"OpenChat\",\"Canada eCoin\",\"Zoin\",\"RenosCoin\",\"DubaiCoin\",\"VirtacoinPlus\",\"TajCoin\",\"Impact\",\"EB3coin\",\"Atmos\",\"HappyCoin\",\"Coinonat\",\"MacronCoin\",\"Condensate\",\"Independent Money System\",\"ArgusCoin\",\"LomoCoin\",\"ProCurrency\",\"GoldReserve\",\"BenjiRolls\",\"GrowthCoin\",\"ILCoin\",\"Phreak\",\"Degas Coin\",\"HTML5 Coin\",\"Ultimate Secure Cash\",\"EquiTrader\",\"QTUM\",\"Quantum Resistant Ledger\",\"Espers\",\"Dynamic\",\"Nano\",\"ChanCoin\",\"Dinastycoin\",\"Denarius\",\"DigitalPrice\",\"Virta Unique Coin\",\"Bitcoin Planet\",\"Unify\",\"BritCoin\",\"SocialCoin\",\"ArcticCoin\",\"DAS\",\"Linda\",\"LeviarCoin\",\"DeepOnion\",\"Bitcore\",\"gCn Coin\",\"SmartCash\",\"Signatum\",\"Onix\",\"Cream\",\"Bitcoin Cash\",\"Monoeci\",\"Draftcoin\",\"Vechain\",\"Sojourn Coin\",\"Stakecoin\",\"NewYorkCoin\",\"FrazCoin\",\"Kronecoin\",\"AdCoin\",\"Linx\",\"CoinonatX\",\"Ethereum Dark\",\"Sumokoin\",\"Obsidian\",\"Cardano\",\"Regalcoin\",\"BitcoinZ\",\"TrezarCoin\",\"Elements\",\"TerraNovaCoin\",\"VIVO Coin\",\"Rupee\",\"Bitcoin Gold\",\"WomenCoin\",\"Theresa May Coin\",\"NamoCoin\",\"LUXCoin\",\"Pirl\",\"Xios\",\"Bitcloud 2.0\",\"eBoost\",\"KekCoin\",\"BlackholeCoin\",\"Infinity Economics\",\"Pura\",\"Innova\",\"Ellaism\",\"GoByte\",\"Magnet\",\"Lamden Tau\",\"Electra\",\"Bitcoin Diamond\",\"SHIELD\",\"Cash & Back Coin\",\"UltraNote\",\"BitCoal\",\"DaxxCoin\",\"Bulwark\",\"Kalkulus\",\"AC3\",\"Lethean\",\"GermanCoin\",\"LiteCoin Ultra\",\"PopularCoin\",\"PhantomX\",\"Photon\",\"Sucre\",\"SparksPay\",\"Digiwage\",\"GunCoin\",\"IrishCoin\",\"Trollcoin\",\"Litecoin Plus\",\"Monkey Project\",\"Pioneer Coin\",\"UnitedBitcoin\",\"Interzone\",\"TokenPay\",\"1717 Masonic Commemorative Token\",\"My Big Coin\",\"TurtleCoin\",\"MUNcoin\",\"Unified Society USDEX\",\"Niobio Cash\",\"ShareChain\",\"Travelflex\",\"KREDS\",\"Tokyo Coin\",\"BiblePay\",\"LitecoinCash\",\"BitFlip\",\"LottoCoin\",\"Crypto Improvement Fund\",\"Stipend\",\"Poa Network\",\"Pushi\",\"Ellerium\",\"Velox\",\"Ontology\",\"Callisto Network\",\"BitTube\",\"Poseidon\",\"Aidos Kuneen\",\"Bitspace\",\"Briacoin\",\"Ignition\",\"Bitrolium\",\"MedicCoin\",\"Alpenschillling\",\"Bitcoin Green\",\"Deviant Coin\",\"Abjcoin\",\"Semux\",\"FuturoCoin\",\"Carebit\",\"Zealium\",\"Monero Classic\",\"Proton\",\"iDealCash\",\"Jumpcoin\",\"Infinex\",\"Bitcoin Incognito\",\"KEYCO\",\"HollyWoodCoin\",\"GINcoin\",\"PlatinCoin\",\"Loki\",\"Newton Coin\",\"Swisscoin\",\"Xt3ch\",\"MassGrid\",\"TheVig\",\"PluraCoin\",\"EmaratCoin\",\"Dekado\",\"Lynx\",\"Poseidon Quark\",\"BitcoinWSpectrum\",\"Muse\",\"Motion\",\"PlusOneCoin\",\"Axe\",\"Trivechain\",\"Dystem\",\"Giant\",\"Peony Coin\",\"Absolute Coin\",\"Vitae\",\"HexCoin\",\"TPCash\",\"Webchain\",\"Ryo\",\"Urals Coin\",\"Qwertycoin\",\"ARENON\",\"EUNO\",\"MMOCoin\",\"Ketan\",\"Project Pai\",\"XDNA\",\"PAXEX\",\"Azart\",\"ThunderStake\",\"Kcash\",\"Xchange\",\"Acute Angle Cloud\",\"CrypticCoin\",\"Bettex coin\",\"Actinium\",\"Bitcoin SV\",\"BitMoney\",\"Junson Ming Chan Coin\",\"FREDEnergy\",\"HerbCoin\",\"Universal Molecule\",\"Lithium\",\"PirateCash\",\"Exosis\",\"Block-Logic\",\"Oduwa\",\"Beam\",\"Galilel\",\"Bithereum\",\"Crypto Sports\",\"Credit\",\"SLICE\",\"Dash Platinum\",\"Nasdacoin\",\"Beetle Coin\",\"Titan Coin\",\"Award\",\"BLAST\",\"Bitcoin Rhodium\",\"GlobalToken\",\"Insane Coin\",\"ALAX\",\"LiteDoge\",\"SolarCoin\",\"TruckCoin\",\"UFO Coin\",\"OrangeCoin\",\"BlakeCoin\",\"BitstarCoin\",\"NeosCoin\",\"HyperCoin\",\"PinkCoin\",\"Crypto Escudo\",\"AudioCoin\",\"IncaKoin\",\"Piggy Coin\",\"Crown Coin\",\"Genstake\",\"SmileyCoin\",\"XiaoMiCoin\",\"Groestlcoin\",\"CapriCoin\",\" ClubCoin\",\"Radium\",\"Bata\",\"Pakcoin\",\"Creditbit \",\"OKCash\",\"Lisk\",\"HiCoin\",\"WhiteCoin\",\"FriendshipCoin\",\"JoinCoin\",\"Triangles Coin\",\"Vollar\",\"EOS\",\"Reality Clash\",\"Oxycoin\",\"TigerCash\",\"Waves\",\"Particl\",\"BitTorrent\",\"Nxt\",\"ZEPHYR\",\"Gapcoin\",\"Beldex\",\"Horizen\",\"BitcoinPlus\"],\"ProofType\":[\"PoW/PoS\",\"PoW/PoS\",\"PoW/PoS\",\"PoW\",\"PoW\",\"PoW\",\"PoW/PoS\",\"PoW\",\"PoW\",\"PoW\",\"PoS\",\"PoW\",\"PoW/PoS\",\"PoS\",\"PoW\",\"PoW/PoS\",\"PoW\",\"PoW\",\"PoW/PoS\",\"PoW/PoS\",\"PoW\",\"PoW\",\"PoW\",\"PoW\",\"PoW\",\"PoW/PoS\",\"PoW\",\"PoW\",\"PoW\",\"PoW/PoS\",\"PoW\",\"PoW/PoS\",\"PoW\",\"PoW\",\"PoC\",\"PoW/PoS\",\"PoW\",\"PoW\",\"PoW\",\"PoW\",\"PoW\",\"PoW\",\"PoS\",\"PoS/PoW/PoT\",\"PoW\",\"PoW\",\"PoW\",\"PoW\",\"PoW\",\"PoW/PoS\",\"PoS\",\"PoW\",\"PoW/PoS\",\"PoW\",\"PoW\",\"PoW\",\"PoW\",\"PoW/PoS\",\"PoW\",\"PoW\",\"PoS\",\"PoW\",\"PoW/PoS\",\"PoS\",\"PoW/PoS\",\"PoW\",\"PoW\",\"PoW\",\"PoW/PoS\",\"PoW/PoS\",\"PoW/PoS\",\"PoW/PoS\",\"PoW/PoS\",\"PoW\",\"PoW\",\"PoW\",\"PoS\",\"PoW/PoS\",\"PoW\",\"PoS\",\"PoW\",\"PoS\",\"PoW/PoS\",\"PoW\",\"PoW\",\"PoW\",\"PoW\",\"PoW/PoS\",\"PoW/PoS\",\"PoW\",\"PoST\",\"PoW\",\"PoW\",\"PoW/PoS\",\"PoS\",\"PoW\",\"PoW/PoS\",\"PoW/PoS\",\"PoW\",\"PoW\",\"PoC\",\"PoS\",\"PoW\",\"PoW/PoS\",\"PoW/PoS\",\"PoW\",\"PoS\",\"PoW\",\"PoW/PoS\",\"PoW\",\"PoS\",\"PoW\",\"PoW/PoS\",\"PoW/PoS\",\"PoW\",\"PoW\",\"PoS\",\"PoW\",\"PoW\",\"PoW\",\"PoW/PoS\",\"PoW\",\"PoW\",\"PoW\",\"PoW\",\"PoW\",\"PoW/PoS\",\"PoW/nPoS\",\"PoW\",\"PoW\",\"PoW\",\"PoW/PoS\",\"PoW\",\"PoS/PoW\",\"PoW\",\"PoW\",\"PoS\",\"PoW\",\"PoW/PoS\",\"PoW\",\"PoW/PoS\",\"PoW/PoS\",\"PoW\",\"PoW\",\"PoW/PoS\",\"PoW\",\"PoW\",\"PoW/PoS\",\"PoW/PoS\",\"PoW\",\"PoW/PoS\",\"PoW\",\"PoW/PoS\",\"PoW/PoS\",\"PoS\",\"PoW\",\"PoW\",\"PoW\",\"PoW\",\"PoW/PoS\",\"PoS\",\"PoW/PoS\",\"PoC\",\"PoS\",\"PoW\",\"PoW\",\"PoW/PoS\",\"PoW/PoS\",\"PoW/PoS\",\"PoW/PoS\",\"PoW/PoS\",\"PoW\",\"PoS\",\"PoW/PoS\",\"PoW/PoS\",\"PoW/PoS\",\"PoS\",\"PoW\",\"PoS\",\"dPoW/PoW\",\"PoW/PoS\",\"PoW/PoS\",\"PoW\",\"PoW/PoS\",\"PoW\",\"PoW/PoS\",\"PoW/PoS\",\"PoW\",\"PoW/PoS\",\"PoW\",\"PoS\",\"PoW\",\"PoW/PoW\",\"PoW\",\"PoW/PoS\",\"PoS\",\"PoW/PoS\",\"PoW/PoS\",\"PoW\",\"PoS\",\"PoS\",\"PoW/PoS\",\"PoS\",\"PoW/PoS\",\"PoW\",\"PoW\",\"DPoS\",\"PoW/PoS\",\"PoW\",\"PoW\",\"PoW/PoS\",\"PoW/PoS\",\"PoS\",\"PoW/PoS\",\"PoW/PoS\",\"PoW\",\"PoS\",\"PoW/PoS\",\"PoW/PoS\",\"PoW/PoS\",\"TPoS\",\"PoW/PoS\",\"PoW/PoS\",\"PoW/PoS\",\"PoW\",\"PoW/PoS\",\"PoS\",\"PoW/PoS\",\"PoW/PoS\",\"PoS\",\"PoW/PoS\",\"PoW\",\"PoW\",\"PoW\",\"PoW/PoS\",\"PoW/PoS\",\"PoW/PoS\",\"PoW/PoS\",\"PoW\",\"PoW/PoS\",\"PoW\",\"PoS\",\"PoW/PoS \",\"PoW\",\"PoS\",\"PoW\",\"PoW\",\"PoW/PoS\",\"PoW\",\"PoW\",\"PoS\",\"PoW\",\"PoW/PoS\",\"PoW/PoS\",\"PoW/PoS\",\"PoW\",\"PoS\",\"PoW/PoS\",\"PoW\",\"PoS\",\"PoW/PoS\",\"PoW/PoS\",\"PoW/PoS\",\"PoW/PoS\",\"PoS\",\"PoW/PoS\",\"PoW\",\"PoS\",\"PoW\",\"PoS\",\"PoW/PoS\",\"PoW/PoS\",\"PoS\",\"PoW\",\"PoS\",\"PoW\",\"PoW/PoS\",\"PoW\",\"PoW\",\"PoW\",\"PoW\",\"PoW/PoS\",\"PoW\",\"PoW/PoS\",\"PoW/PoS\",\"PoW\",\"PoW/PoS\",\"PoW\",\"PoW\",\"PoW\",\"PoW/PoS\",\"PoW\",\"PoW/PoS\",\"PoW\",\"PoW\",\"PoW\",\"PoS\",\"PoW\",\"PoW/PoS\",\"PoW\",\"PoW/PoS\",\"PoS\",\"Proof of Authority\",\"PoW\",\"PoS\",\"PoW\",\"PoW\",\"PoW\",\"PoW\",\"PoW\",\"PoW/PoS\",\"PoW/PoS\",\"PoW\",\"PoS\",\"PoS\",\"PoW/PoS\",\"PoW\",\"PoW/PoS\",\"PoW\",\"PoW/PoS\",\"PoW\",\"PoS\",\"PoW\",\"PoW/PoS\",\"PoW/PoS\",\"PoW/PoS\",\"PoW/PoS\",\"PoW\",\"PoW/PoS\",\"PoW/PoS\",\"PoW\",\"PoS\",\"PoW/PoS\",\"PoS\",\"PoW\",\"PoW\",\"PoW\",\"PoW\",\"PoW/PoS\",\"DPoS\",\"PoW/PoS\",\"PoW/PoS\",\"PoW\",\"PoW/PoS\",\"PoW\",\"PoW\",\"PoW\",\"PoS\",\"PoS\",\"PoW\",\"PoW\",\"PoW/PoS\",\"PoW/PoS\",\"PoW\",\"PoW/PoS\",\"PoW\",\"PoW\",\"PoW\",\"PoS\",\"PoW\",\"PoW\",\"PoW/PoS\",\"PoW/PoS\",\"PoS\",\"PoW\",\"PoW\",\"PoW\",\"PoS\",\"PoS\",\"PoW and PoS\",\"PoW\",\"PoW\",\"PoW/PoS\",\"PoW\",\"PoW\",\"PoW\",\"PoW\",\"PoS\",\"POBh\",\"PoW + Hive\",\"PoW\",\"PoW\",\"PoW\",\"PoW/PoS\",\"PoA\",\"PoW/PoS\",\"PoW/PoS\",\"PoS\",\"PoS\",\"PoW\",\"PoW\",\"PoW\",\"PoW\",\"PoW/PoS\",\"PoW/PoS\",\"PoW/PoS\",\"PoW\",\"PoS\",\"PoW\",\"PoS\",\"PoS\",\"PoW/PoS\",\"DPoS\",\"PoW\",\"PoW/PoS\",\"PoS\",\"PoW\",\"PoS\",\"PoW/PoS\",\"PoW\",\"PoW\",\"PoS/PoW\",\"PoW\",\"PoS\",\"PoW\",\"PoW\",\"PoW\",\"PoW\",\"PoW/PoS\",\"PoS\",\"PoW\",\"PoW/PoS\",\"PoW\",\"PoW/PoS\",\"PoS\",\"HPoW\",\"PoS\",\"PoS\",\"PoS\",\"PoW\",\"PoW\",\"PoW\",\"PoW/PoS\",\"PoS\",\"PoW/PoS\",\"PoS\",\"PoW/PoS\",\"PoS\",\"PoW\",\"PoW/PoS\",\"PoW\",\"PoW\",\"PoW\",\"PoW\",\"PoS\",\"PoW/PoS\",\"PoS\",\"PoS\",\"PoW\",\"PoW/PoS\",\"PoS\",\"PoW\",\"PoW/PoS\",\"Zero-Knowledge Proof\",\"PoW\",\"DPOS\",\"PoW\",\"PoS\",\"PoW\",\"PoW\",\"Pos\",\"PoS\",\"PoW\",\"PoW/PoS\",\"PoW\",\"PoW\",\"PoS\",\"PoW\",\"PoW\",\"PoW/PoS\",\"PoW\",\"PoW/PoS\",\"PoW\",\"PoS\",\"PoW/PoS\",\"PoW\",\"PoS\",\"PoW/PoS\",\"PoW/PoS\",\"PoW/PoS\",\"PoW/PoS\",\"PoW\",\"PoW\",\"PoW\",\"PoW/PoS\",\"DPoS\",\"PoW/PoS\",\"PoW\",\"PoW/PoS\",\"PoW\",\"PoW/PoS\",\"PoW\",\"PoW/PoS\",\"PoS\",\"PoW/PoS\",\"PoW/PoS\",\"PoW\",\"PoW/PoS\",\"PoW/PoS\",\"PoW/PoS\",\"PoW\",\"PoW/PoS\",\"PoW\",\"PoW/PoS\",\"PoW\",\"PoW/PoS\",\"PoW/PoS\",\"PoS\",\"PoW\",\"PoW\",\"Proof of Trust\",\"PoW/PoS\",\"DPoS\",\"PoS\",\"PoW/PoS\",\"PoW/PoS\",\"PoW\",\"PoW/PoS\",\"PoW\",\"DPoS\",\"PoW\",\"DPoS\",\"PoS\",\"LPoS\",\"PoS\",\"DPoS\",\"PoS/LPoS\",\"DPoS\",\"PoW/PoS\",\"PoW\",\"PoW\",\"PoS\"],\"TotalCoinSupply\":[\"42\",\"532000000\",\"314159265359\",\"21000000\",\"0\",\"84000000\",\"22000000\",\"0\",\"210000000\",\"21000000\",\"3600570502\",\"21000000000\",\"22000000\",\"12500000\",\"21000000\",\"350000000\",\"20000000\",\"64000000\",\"16768584\",\"0\",\"2000000000\",\"384000000000\",\"169795588\",\"250000000\",\"100000000\",\"0\",\"247000000\",\"84000000\",\"48166000\",\"500000\",\"21000000 \",\"1000000\",\"13140000\",\"18000000\",\"40000000000\",\"4380000\",\"16555000000\",\"21000000000\",\"13500000000\",\"21000000 \",\"299792458\",\"32000000\",\"0\",\"0\",\"11235813\",\"336000000\",\"1420609614\",\"70000000\",\"72245700\",\"120000000\",\"0\",\"90600000000\",\"22000000\",\"21000000\",\"265420800\",\"20000000\",\"1350000\",\"100000000\",\"42000000\",\"200000000\",\"0\",\"10000000\",\"2419200000\",\"16180000\",\"0\",\"15000000000\",\"21000000\",\"337000000\",\"0\",\"3770000\",\"420000000\",\"98000000\",\"0\",\"21000000\",\"250000000\",\"51200000\",\"0\",\"1000\",\"888000000\",\"100000000\",\"47011968\",\"2300000000\",\"10000000\",\"42000000\",\"80000000\",\"250000\",\"0\",\"1600000000\",\"100000000\",\"23000000\",\"0\",\"84000000\",\"265420800\",\"5500000\",\"0\",\"45000000\",\"0\",\"1000000000\",\"184467440735\",\"10000000000\",\"2158812800\",\"500000000\",\"105120000\",\"68000000\",\"0\",\"1680000000\",\"0\",\"166386000\",\"12000000\",\"2628000\",\"500000000\",\"160000000\",\"0\",\"10000000\",\"1000000000\",\"1000000000\",\"20000000\",\"0\",\"0\",\"3371337\",\"20000000\",\"10000000000\",\"1840000000\",\"619478\",\"21000000\",\"92000000000\",\"0\",\"78000000\",\"33000000\",\"65789100\",\"53760000\",\"5060000\",\"21000000\",\"0\",\"210240000\",\"250000000\",\"100000000\",\"16906397\",\"50000000\",\"0\",\"1000000000\",\"26298000\",\"16000000\",\"21000000\",\"21000000\",\"210000000\",\"81962100\",\"22000000\",\"26550000000\",\"84000000\",\"10500000\",\"21626280000 \",\"0\",\"42000000\",\"221052632\",\"84000000\",\"30000000\",\"168351300\",\"24000000\",\"384000000\",\" 99000000000\",\"40000000\",\"2147483647\",\"20000000\",\"20000000\",\"25000000\",\"75000000\",\"222725000\",\"525000000\",\"90000000\",\"139000000\",\"616448\",\"33500000\",\"2000000000\",\"44333333\",\"100000000\",\"200000000\",\"25000000\",\"657000000\",\"200000000\",\"50000000\",\"90000000\",\"10000000\",\"21000000\",\"9736000\",\"3000000\",\"21000000\",\"1200000000\",\"0\",\"200000000\",\"0\",\"10638298\",\"3100000000\",\"30000000\",\"20000000000\",\"74000000\",\"0\",\"1500000000\",\"21400000\",\"39999898\",\"2500124\",\"100000000\",\"301000000\",\"7506000000\",\"26205539\",\"21000000\",\"125000000\",\"30000000\",\"10000000000\",\"500000000\",\"850000000\",\"3853326.77707314\",\"50000000\",\"38540000 \",\"42000000\",\"228000000\",\"20000000\",\"60000000\",\"20000000\",\"33000000\",\"76500000\",\"28000000\",\"650659833\",\"5000000\",\"21000000\",\"144000000\",\"32514916898\",\"13000000\",\"3315789\",\"15000000\",\"78835200\",\"2714286\",\"25000000\",\"9999999\",\"500000000\",\"21000000\",\"9354000\",\"20000000\",\"100000000000\",\"21933333\",\"185000000\",\"55000000\",\"110000000\",\"3360000\",\"14524851.4827\",\"1000000000\",\"17000000\",\"1000000000\",\"100000000 \",\"21000000\",\"34426423\",\"2232901\",\"100000000\",\"36900000\",\"110000000\",\"4000000000\",\"110290030\",\"100000000\",\"48252000\",\"400000000\",\"500000000\",\"21212121\",\"28600000\",\"1000000000\",\"75000000000\",\"40000000\",\"35520400\",\"2000000000\",\"2500000000\",\"30000000\",\"105000000\",\"90000000000\",\"200084200\",\"72000000\",\"100000000\",\"105000000\",\"50000000000\",\"0\",\"340282367\",\"30000000\",\"2000000000\",\"10000000\",\"100000000\",\"120000000\",\"100000000\",\"19276800\",\"30000000\",\" 75000000\",\"60000000\",\"18900000\",\"50000000000\",\"54000000\",\"18898187.6216583\",\"21000000\",\"200000000000\",\"5000000000\",\"137500000\",\"1100000000\",\"100000000\",\"21000000\",\"9507271\",\"17405891.19707116\",\"86712634466\",\"10500000000\",\"61599965\",\"0\",\"20000000\",\"84000000\",\"100000000\",\"100000000\",\"48252000\",\"4200000\",\"88888888\",\"91388946\",\"45000000000\",\"27000000\",\"21000000000\",\"400000000\",\"1800000000\",\"15733333\",\"27000000\",\"24000000\",\"21000000\",\"25000000000\",\"100000000\",\"1200000000\",\"60000000\",\"156306732.71\",\"21000000\",\"200000000\",\"100000000\",\"21000000\",\"14788275.991\",\"9000000000\",\"350000000\",\"45000000\",\"280000000\",\"31800000\",\"144000000\",\"500000000\",\"30000000000\",\"210000000\",\"660000000\",\"210000000\",\"85000000000\",\"12500000\",\"10000000000\",\"27716121\",\"20000000\",\"550000000\",\"999481516\",\"50000000000\",\"150000000\",\"4999999999\",\"50000000\",\" 90000000000\",\"19800000\",\"21000000\",\"120000000\",\"500000000\",\"64000000\",\"900000000\",\"4000000\",\"21000000\",\"23000000\",\"20166000\",\"23000000\",\"25000000\",\"1618033\",\"30000000\",\"1000000000000\",\"16600000\",\"232000000\",\"336000000\",\"10000000000\",\"100000000\",\"1100000000\",\"800000000\",\"5200000000\",\"840000000\",\"40000000\",\"18406979840\",\"500000000\",\"19340594\",\"252460800\",\"25000000\",\"60000000\",\"124000000\",\"1000000000\",\"6500000000\",\"1000000000\",\"21000000\",\"25000000\",\"50000000\",\"3000000\",\"5000000\",\"70000000\",\"500000000\",\"300000000\",\"21000000\",\"88000000\",\"30000000\",\"100000000\",\"100000000\",\"200000000\",\"80000000\",\"18400000\",\"45000000\",\"5121951220\",\"21000000\",\"26280000\",\"21000000\",\"18000000\",\"26000000\",\"10500000\",\"600000518\",\"150000000\",\"184000000000\",\"10200000000\",\"44000000\",\"168000000\",\"100000000\",\"1000000000\",\"84000000\",\"90000000\",\"92000000000\",\"650000000 \",\"100262205\",\"18081806 \",\"22075700\",\"21000000\",\"21000000\",\"82546564\",\"21000000\",\"5151000\",\"16880000000\",\"52500000\",\"100000000\",\"22105263\",\"1000000000\",\"1750000000\",\"88188888\",\"210000000\",\"184470000000\",\"55000000\",\"50000000\",\"260000000\",\"210000000\",\"2100000000\",\"366000000\",\"100000000\",\"25000000\",\"18000000000\",\"1000000000\",\"100000000\",\"1000000000\",\"7600000000\",\"50000000\",\"84000000\",\"21000000\",\"70000000000\",\"0\",\"8080000000\",\"54000000\",\"105120001.44\",\"25228800\",\"105000000\",\"21000000\",\"120000000\",\"21000000\",\"262800000\",\"19035999\",\"30886000\",\"13370000\",\"74800000000\",\"100000000\",\"19700000\",\"84000000\",\"500000000\",\"5000000000\",\"420000000\",\"64000000\",\"2100000\",\"168000000\",\"30000000\",\"1000000000\",\"35000000000\",\"98100000000\",\"0\",\"4000000000\",\"200000000\",\"7000000000\",\"54256119\",\"21000000\",\"0\",\"500000000\",\"1000000000\",\"10500000000\",\"190000000\",\"1000000000\",\"42000000\",\"15000000\",\"50000000000\",\"400000000\",\"105000000\",\"208000000\",\"160000000\",\"9000000\",\"5000000\",\"182000000\",\"16504333\",\"105000000\",\"159918400\",\"10008835635\",\"300000000\",\"60168145\",\"2800000\",\"120000\",\"2100000000\",\"0\",\"24487944\",\"0\",\"1000000000\",\"100000000\",\"8634140\",\"990000000000\",\"1000000000\",\"2000000000\",\"250000000\",\"1400222610\",\"21000000\",\"1000000\"],\"TotalCoinsMined\":{\"__ndarray__\":\"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\",\"dtype\":\"float64\",\"order\":\"little\",\"shape\":[532]},\"class\":{\"__ndarray__\":\"AAAAAAAAAAAAAAAAAAAAAAAAAAAAAAAAAAAAAAAAAAAAAAAAAAAAAAAAAAAAAAAAAAAAAAAAAAAAAAAAAAAAAAAAAAAAAAAAAAAAAAAAAAAAAAAAAAAAAAAAAAAAAAAAAAAAAAAAAAAAAAAAAAAAAAAAAAAAAAAAAAAAAAAAAAAAAAAAAAAAAAAAAAAAAAAAAAAAAAAAAAAAAAAAAAAAAAAAAAAAAAAAAAAAAAAAAAAAAAAAAAAAAAAAAAAAAAAAAAAAAAAAAAAAAAAAAAAAAAAAAAAAAAAAAAAAAAAAAAAAAAAAAAAAAAAAAAAAAAAAAAAAAAAAAAAAAAAAAAAAAAAAAAAAAAAAAAAAAAAAAAAAAAAAAAAAAAAAAAAAAAAAAAAAAAAAAAAAAAAAAAAAAAAAAAAAAAAAAAAAAAAAAAAAAAAAAAAAAAAAAAAAAAAAAAAAAAAAAAAAAAAAAAAAAAAAAAAAAAAAAAAAAAAAAAAAAAAAAAAAAAAAAAAAAAAAAAAAAAAAAAAAAAAAAAAAAAAAAAAAAAAAAAAAAAAAAAAAAAAAAAAAAAAAAAAAAAAAAAAAAAAAAAAAAAAAAAAAAAAAAAAAAAAAAAAAAAAAAAAAAAAAAAAAAAAAAAAAAAAAAAAAAAAAAAAAAAAAAAAAAAAAAAAAAAAAAAAAAAAAAAAAAAAAAAAAAAAAAAAAAAAAAAAAAAAAAAAAAAAAAAAAAAAAAAAAAAAAAAAAAAAAAAAAAAAAAAAAAAAAAAAAAAAAAAAAAAAAAAAAAAAAAAAAAAAAAAAAAAAAAAAAAAAAAAAAAAAAAAAAAAAAAAAAAAAAAAAAAAAAAAAAAAAAAAAAAAAAAAAAAAAAAAAAAAAAAAAAAAAAAAAAAAAAAAAAAAAAAAAAAAAAAAAAAAAAAAAAAAAAAAAAAAAAAAAAAAAAAAAAAAAAAAAAAAAAAAAAAAAAAAAAAAAAAAAAAAAAAAAAAAAAAAAAAAAAAAAAAAAAAAAAAAAAAAAAAAAAAAAAAAAAAAAAAAAAAAAAAAAAAAAAAAAAAAAAAAAAAAAAAAAAAAAAAAAAAAAAAAAAAAAAAAAAAAAAAAAAAAAAAAAAAAAAAAAAAAAAAAAAAAAAAAAAAAAAAAAAAAAAAAAAAAAAAAAAAAAAAAAAAAAAAAAAAAAAAAAAAAAAAAAAAAAAAAAAAAAAAAAAAAAAAAAAAAAAAAAAAAAAAAAAAAAAAAAAAAAAAAAAAAAAAAAAAAAAAAAAAAAAAAAAAAAAAAAAAAAAAAAAAAAAAAAAAAAAAAAAAAAAAAAAAAAAAAAAAAAAAAAAAAAAAAAAAAAAAAAAAAAAAAAAAAAAAAAAAAAAAAAAAAAAAAAAAAAAAAAAAAAAAAAAAAAAAAAAAAAAAAAAAAAAAAAAAAAAAAAAAAAAAAAAAAAAAAAAAAAAAAAAAAAAAAAAAAAAAAAAAAAAAAAAAAAAAAAAAAAAAAAAAAAAAAAAAAAAAAAAAAAAAAAAAAAAAAAAAAAAAAAAAAAAAAAAAAAAAAAAAAAAAAAAAAAAAAAAAAAAAAAAAAAAAAAAAAAAAAAAAAAAAAAAAAAAAAAAAAAAAAAAAAAAAAAAAAAAAAAAAAAAAAAAAAAAAAAAAAAAAAAAAAAAAAAAAAAAAAAAAAAAAAAAAAAAAAAAAAAAAAAAAAAAAAAAAAAAAAAAAAAAAAAAAAAAAAAAAAAAAAAAAAAAAAAAAAAAAAAAAAAAAAAAAAAAAAAAAAAAAAAAAAAAAAAAAAAAAAAAAAAAAAAAAAAAAAAAAAAAAAAAAAAAAAAAAAAAAAAAAAAAAAAAAAAAAAAAAAAAAAAAAAAAAAAAAAAAAAAAAAAAAAAAAAAAAAAAAAAAAAAAAAAAAAAAAAAAAAAAAAAAAAAAAAAAAAAAAAAAAAAAAAAAAAAAAAAAAAAAAAAAAAAAAAAAAAAAAAAAAAAAAAAAAAAAAAAAAAAAAAAAAAAAAAAAAAAAAAAAAAAAAAAAAAAAAAAAAAAAAwAAAAEAAAAAAAAAAAAAAAAAAAAAAAAAAQAAAAAAAAAAAAAAAAAAAAAAAAAAAAAAAAAAAAAAAAAAAAAAAAAAAAAAAAAAAAAAAAAAAAAAAAAAAAAAAAAAAAAAAAAAAAAAAAAAAAAAAAAAAAAAAAAAAAAAAAAAAAAAAAAAAAAAAAAAAAAAAAAAAAAAAAAAAAAAAAAAAAAAAAAAAAAAAAAAAAAAAAAAAAAAAAAAAAAAAAAAAAAAAAAAAAAAAAAAAAAAAAAAAAAAAAAAAAAAAAAAAAAAAAAAAAAAAAAAAAAAAAAAAAAAAAAAAAAAAAAAAAAAAAAAAAAAAAAAAAAAAAAAAAAAAAAAAAAAAAAAAAAAAAAAAAAAAAAAAAAAAAAAAAAAAAAAAAAAAAAAAAAAAAAAAAAAAAAAAAAAAAAAAAAAAAAAAAAAAAAAAAAAAAAAAAAAAAAAAAAAAAAAAAAAAAAAAAAAAAAAAAAAAAAAAAAAAAAAAAAAAAAAAAAAAAAAAAAAAAAAAAAAAAAAAAAAAAAAAAAAAAAAAAAAAAAAAAAAAAAAAAAAAAAAAAAAAAAAAAAAAAAAAAAAAAAAAAAAAAAAAAAAAAAAAAAAAAAAAAAAAAAAAAAAAAAAAAAAAAAAAAAAAAAAAAAAAAAAAAAAAAAAAAAAAAAAAAAAAAAAAAAAAAAAAAAAAAAAAAAAAAAAAAAAAAAAAAAAAAAAAAAAAAAAAAAAAAAAAAAAAAAAAAAAAAAAAAAAAAAAAAAAAAAAAAAAAAAAAAAAAAAAAAAAAgAAAAAAAAAAAAAAAAAAAAAAAAAAAAAAAAAAAA==\",\"dtype\":\"int32\",\"order\":\"little\",\"shape\":[532]}},\"selected\":{\"id\":\"2102\"},\"selection_policy\":{\"id\":\"2135\"}},\"id\":\"2101\",\"type\":\"ColumnDataSource\"}],\"root_ids\":[\"2099\"]},\"title\":\"Bokeh Application\",\"version\":\"2.2.3\"}};\n",
       "    var render_items = [{\"docid\":\"a24d0ff3-4376-4a66-9b3f-fc9042bbd5fe\",\"root_ids\":[\"2099\"],\"roots\":{\"2099\":\"46d67eb2-d047-4081-b1d6-504a516083a2\"}}];\n",
       "    root.Bokeh.embed.embed_items_notebook(docs_json, render_items);\n",
       "  }\n",
       "  if (root.Bokeh !== undefined && root.Bokeh.Panel !== undefined) {\n",
       "    embed_document(root);\n",
       "  } else {\n",
       "    var attempts = 0;\n",
       "    var timer = setInterval(function(root) {\n",
       "      if (root.Bokeh !== undefined && root.Bokeh.Panel !== undefined) {\n",
       "        clearInterval(timer);\n",
       "        embed_document(root);\n",
       "      } else if (document.readyState == \"complete\") {\n",
       "        attempts++;\n",
       "        if (attempts > 100) {\n",
       "          clearInterval(timer);\n",
       "          console.log(\"Bokeh: ERROR: Unable to run BokehJS code because BokehJS library is missing\");\n",
       "        }\n",
       "      }\n",
       "    }, 10, root)\n",
       "  }\n",
       "})(window);</script>"
      ],
      "text/plain": [
       ":Table   [CoinName,Algorithm,ProofType,TotalCoinSupply,TotalCoinsMined,class]"
      ]
     },
     "execution_count": 132,
     "metadata": {
      "application/vnd.holoviews_exec.v0+json": {
       "id": "2099"
      }
     },
     "output_type": "execute_result"
    }
   ],
   "source": [
    "# Create a table with tradable cryptocurrencies.\n",
    "table_columns = [\"CoinName\", \"Algorithm\", \"ProofType\", \"TotalCoinSupply\", \"TotalCoinsMined\", \"class\"]\n",
    "clustered_df.hvplot.table(table_columns, sortable=True, selectable=True)"
   ]
  },
  {
   "cell_type": "code",
   "execution_count": 133,
   "metadata": {},
   "outputs": [
    {
     "data": {
      "text/plain": [
       "532"
      ]
     },
     "execution_count": 133,
     "metadata": {},
     "output_type": "execute_result"
    }
   ],
   "source": [
    "# Print the total number of tradable cryptocurrencies.\n",
    "tradable_count = clustered_df[\"CoinName\"].count()\n",
    "tradable_count"
   ]
  },
  {
   "cell_type": "code",
   "execution_count": 134,
   "metadata": {},
   "outputs": [
    {
     "data": {
      "text/plain": [
       "array([[4.20000000e-11, 0.00000000e+00],\n",
       "       [5.32000000e-04, 1.06585544e-03],\n",
       "       [3.14159265e-01, 2.95755135e-02],\n",
       "       ...,\n",
       "       [1.40022261e-03, 9.90135079e-04],\n",
       "       [2.10000000e-05, 7.37028150e-06],\n",
       "       [1.00000000e-06, 1.29582282e-07]])"
      ]
     },
     "execution_count": 134,
     "metadata": {},
     "output_type": "execute_result"
    }
   ],
   "source": [
    "# Scaling data to create the scatter plot with tradable cryptocurrencies.\n",
    "scaler = MinMaxScaler()\n",
    "scaled_df = clustered_df[[\"TotalCoinSupply\", \"TotalCoinsMined\"]].copy()\n",
    "\n",
    "X_scaled_df = scaler.fit_transform(scaled_df)\n",
    "X_scaled_df\n"
   ]
  },
  {
   "cell_type": "code",
   "execution_count": 138,
   "metadata": {},
   "outputs": [
    {
     "data": {
      "text/html": [
       "<div>\n",
       "<style scoped>\n",
       "    .dataframe tbody tr th:only-of-type {\n",
       "        vertical-align: middle;\n",
       "    }\n",
       "\n",
       "    .dataframe tbody tr th {\n",
       "        vertical-align: top;\n",
       "    }\n",
       "\n",
       "    .dataframe thead th {\n",
       "        text-align: right;\n",
       "    }\n",
       "</style>\n",
       "<table border=\"1\" class=\"dataframe\">\n",
       "  <thead>\n",
       "    <tr style=\"text-align: right;\">\n",
       "      <th></th>\n",
       "      <th>TotalCoinSupply</th>\n",
       "      <th>TotalCoinsMined</th>\n",
       "      <th>CoinName</th>\n",
       "      <th>Class</th>\n",
       "    </tr>\n",
       "  </thead>\n",
       "  <tbody>\n",
       "    <tr>\n",
       "      <th>42</th>\n",
       "      <td>4.200000e-11</td>\n",
       "      <td>0.000000</td>\n",
       "      <td>42 Coin</td>\n",
       "      <td>0</td>\n",
       "    </tr>\n",
       "    <tr>\n",
       "      <th>404</th>\n",
       "      <td>5.320000e-04</td>\n",
       "      <td>0.001066</td>\n",
       "      <td>404Coin</td>\n",
       "      <td>0</td>\n",
       "    </tr>\n",
       "    <tr>\n",
       "      <th>1337</th>\n",
       "      <td>3.141593e-01</td>\n",
       "      <td>0.029576</td>\n",
       "      <td>EliteCoin</td>\n",
       "      <td>0</td>\n",
       "    </tr>\n",
       "    <tr>\n",
       "      <th>BTC</th>\n",
       "      <td>2.100000e-05</td>\n",
       "      <td>0.000018</td>\n",
       "      <td>Bitcoin</td>\n",
       "      <td>0</td>\n",
       "    </tr>\n",
       "    <tr>\n",
       "      <th>ETH</th>\n",
       "      <td>0.000000e+00</td>\n",
       "      <td>0.000109</td>\n",
       "      <td>Ethereum</td>\n",
       "      <td>0</td>\n",
       "    </tr>\n",
       "    <tr>\n",
       "      <th>LTC</th>\n",
       "      <td>8.400000e-05</td>\n",
       "      <td>0.000064</td>\n",
       "      <td>Litecoin</td>\n",
       "      <td>0</td>\n",
       "    </tr>\n",
       "    <tr>\n",
       "      <th>DASH</th>\n",
       "      <td>2.200000e-05</td>\n",
       "      <td>0.000009</td>\n",
       "      <td>Dash</td>\n",
       "      <td>0</td>\n",
       "    </tr>\n",
       "    <tr>\n",
       "      <th>XMR</th>\n",
       "      <td>0.000000e+00</td>\n",
       "      <td>0.000017</td>\n",
       "      <td>Monero</td>\n",
       "      <td>0</td>\n",
       "    </tr>\n",
       "    <tr>\n",
       "      <th>ETC</th>\n",
       "      <td>2.100000e-04</td>\n",
       "      <td>0.000115</td>\n",
       "      <td>Ethereum Classic</td>\n",
       "      <td>0</td>\n",
       "    </tr>\n",
       "    <tr>\n",
       "      <th>ZEC</th>\n",
       "      <td>2.100000e-05</td>\n",
       "      <td>0.000007</td>\n",
       "      <td>ZCash</td>\n",
       "      <td>0</td>\n",
       "    </tr>\n",
       "  </tbody>\n",
       "</table>\n",
       "</div>"
      ],
      "text/plain": [
       "      TotalCoinSupply  TotalCoinsMined          CoinName  Class\n",
       "42       4.200000e-11         0.000000           42 Coin      0\n",
       "404      5.320000e-04         0.001066           404Coin      0\n",
       "1337     3.141593e-01         0.029576         EliteCoin      0\n",
       "BTC      2.100000e-05         0.000018           Bitcoin      0\n",
       "ETH      0.000000e+00         0.000109          Ethereum      0\n",
       "LTC      8.400000e-05         0.000064          Litecoin      0\n",
       "DASH     2.200000e-05         0.000009              Dash      0\n",
       "XMR      0.000000e+00         0.000017            Monero      0\n",
       "ETC      2.100000e-04         0.000115  Ethereum Classic      0\n",
       "ZEC      2.100000e-05         0.000007             ZCash      0"
      ]
     },
     "execution_count": 138,
     "metadata": {},
     "output_type": "execute_result"
    }
   ],
   "source": [
    "# Create a new DataFrame that has the scaled data with the clustered_df DataFrame index.\n",
    "plot_df = pd.DataFrame(data = X_scaled_df, columns =[\"TotalCoinSupply\", \"TotalCoinsMined\"], index = n)\n",
    "\n",
    "# Add the \"CoinName\" column from the clustered_df DataFrame to the new DataFrame.\n",
    "plot_df[\"CoinName\"] = crypto_names_df\n",
    "\n",
    "# Add the \"Class\" column from the clustered_df DataFrame to the new DataFrame. \n",
    "\n",
    "plot_df[\"Class\"] = model.labels_\n",
    "plot_df.head(10)"
   ]
  },
  {
   "cell_type": "code",
   "execution_count": 140,
   "metadata": {},
   "outputs": [
    {
     "data": {},
     "metadata": {},
     "output_type": "display_data"
    },
    {
     "data": {
      "application/vnd.holoviews_exec.v0+json": "",
      "text/html": [
       "<div id='3114'>\n",
       "\n",
       "\n",
       "\n",
       "\n",
       "\n",
       "  <div class=\"bk-root\" id=\"76a93674-51a2-4067-8168-bd769d029c16\" data-root-id=\"3114\"></div>\n",
       "</div>\n",
       "<script type=\"application/javascript\">(function(root) {\n",
       "  function embed_document(root) {\n",
       "    var docs_json = {\"16922769-3b0a-459a-be55-43356129dc83\":{\"roots\":{\"references\":[{\"attributes\":{},\"id\":\"3143\",\"type\":\"ResetTool\"},{\"attributes\":{\"label\":{\"value\":\"0\"},\"renderers\":[{\"id\":\"3162\"}]},\"id\":\"3173\",\"type\":\"LegendItem\"},{\"attributes\":{\"overlay\":{\"id\":\"3144\"}},\"id\":\"3142\",\"type\":\"BoxZoomTool\"},{\"attributes\":{\"label\":{\"value\":\"1\"},\"renderers\":[{\"id\":\"3180\"}]},\"id\":\"3192\",\"type\":\"LegendItem\"},{\"attributes\":{\"text\":\"\",\"text_color\":{\"value\":\"black\"},\"text_font_size\":{\"value\":\"12pt\"}},\"id\":\"3123\",\"type\":\"Title\"},{\"attributes\":{},\"id\":\"3190\",\"type\":\"UnionRenderers\"},{\"attributes\":{\"data_source\":{\"id\":\"3214\"},\"glyph\":{\"id\":\"3217\"},\"hover_glyph\":null,\"muted_glyph\":{\"id\":\"3219\"},\"nonselection_glyph\":{\"id\":\"3218\"},\"selection_glyph\":null,\"view\":{\"id\":\"3221\"}},\"id\":\"3220\",\"type\":\"GlyphRenderer\"},{\"attributes\":{\"axis\":{\"id\":\"3135\"},\"dimension\":1,\"grid_line_color\":null,\"ticker\":null},\"id\":\"3138\",\"type\":\"Grid\"},{\"attributes\":{\"axis_label\":\"TotalCoinsMined\",\"bounds\":\"auto\",\"formatter\":{\"id\":\"3152\"},\"major_label_orientation\":\"horizontal\",\"ticker\":{\"id\":\"3132\"}},\"id\":\"3131\",\"type\":\"LinearAxis\"},{\"attributes\":{},\"id\":\"3170\",\"type\":\"UnionRenderers\"},{\"attributes\":{\"label\":{\"value\":\"3\"},\"renderers\":[{\"id\":\"3220\"}]},\"id\":\"3236\",\"type\":\"LegendItem\"},{\"attributes\":{\"fill_alpha\":{\"value\":0.1},\"fill_color\":{\"value\":\"#30a2da\"},\"line_alpha\":{\"value\":0.1},\"line_color\":{\"value\":\"#30a2da\"},\"size\":{\"units\":\"screen\",\"value\":5.477225575051661},\"x\":{\"field\":\"TotalCoinsMined\"},\"y\":{\"field\":\"TotalCoinSupply\"}},\"id\":\"3160\",\"type\":\"Scatter\"},{\"attributes\":{\"data_source\":{\"id\":\"3193\"},\"glyph\":{\"id\":\"3196\"},\"hover_glyph\":null,\"muted_glyph\":{\"id\":\"3198\"},\"nonselection_glyph\":{\"id\":\"3197\"},\"selection_glyph\":null,\"view\":{\"id\":\"3200\"}},\"id\":\"3199\",\"type\":\"GlyphRenderer\"},{\"attributes\":{},\"id\":\"3129\",\"type\":\"LinearScale\"},{\"attributes\":{\"callback\":null,\"renderers\":[{\"id\":\"3162\"},{\"id\":\"3180\"},{\"id\":\"3199\"},{\"id\":\"3220\"}],\"tags\":[\"hv_created\"],\"tooltips\":[[\"Class\",\"@{Class}\"],[\"TotalCoinsMined\",\"@{TotalCoinsMined}\"],[\"TotalCoinSupply\",\"@{TotalCoinSupply}\"]]},\"id\":\"3118\",\"type\":\"HoverTool\"},{\"attributes\":{\"data\":{\"Class\":[2],\"TotalCoinSupply\":{\"__ndarray__\":\"rkfhehSu7z8=\",\"dtype\":\"float64\",\"order\":\"little\",\"shape\":[1]},\"TotalCoinsMined\":{\"__ndarray__\":\"AAAAAAAA8D8=\",\"dtype\":\"float64\",\"order\":\"little\",\"shape\":[1]}},\"selected\":{\"id\":\"3194\"},\"selection_policy\":{\"id\":\"3211\"}},\"id\":\"3193\",\"type\":\"ColumnDataSource\"},{\"attributes\":{\"below\":[{\"id\":\"3131\"}],\"center\":[{\"id\":\"3134\"},{\"id\":\"3138\"}],\"left\":[{\"id\":\"3135\"}],\"margin\":[5,5,5,5],\"min_border_bottom\":10,\"min_border_left\":10,\"min_border_right\":10,\"min_border_top\":10,\"plot_height\":300,\"plot_width\":700,\"renderers\":[{\"id\":\"3162\"},{\"id\":\"3180\"},{\"id\":\"3199\"},{\"id\":\"3220\"}],\"right\":[{\"id\":\"3172\"}],\"sizing_mode\":\"fixed\",\"title\":{\"id\":\"3123\"},\"toolbar\":{\"id\":\"3145\"},\"x_range\":{\"id\":\"3116\"},\"x_scale\":{\"id\":\"3127\"},\"y_range\":{\"id\":\"3117\"},\"y_scale\":{\"id\":\"3129\"}},\"id\":\"3122\",\"subtype\":\"Figure\",\"type\":\"Plot\"},{\"attributes\":{},\"id\":\"3132\",\"type\":\"BasicTicker\"},{\"attributes\":{\"source\":{\"id\":\"3156\"}},\"id\":\"3163\",\"type\":\"CDSView\"},{\"attributes\":{\"margin\":[5,5,5,5],\"name\":\"HSpacer06461\",\"sizing_mode\":\"stretch_width\"},\"id\":\"3363\",\"type\":\"Spacer\"},{\"attributes\":{\"click_policy\":\"mute\",\"items\":[{\"id\":\"3173\"},{\"id\":\"3192\"},{\"id\":\"3213\"},{\"id\":\"3236\"}],\"location\":[0,0],\"title\":\"Class\"},\"id\":\"3172\",\"type\":\"Legend\"},{\"attributes\":{\"end\":1.1,\"reset_end\":1.1,\"reset_start\":-0.1,\"start\":-0.1,\"tags\":[[[\"TotalCoinSupply\",\"TotalCoinSupply\",null]]]},\"id\":\"3117\",\"type\":\"Range1d\"},{\"attributes\":{},\"id\":\"3141\",\"type\":\"WheelZoomTool\"},{\"attributes\":{\"data_source\":{\"id\":\"3174\"},\"glyph\":{\"id\":\"3177\"},\"hover_glyph\":null,\"muted_glyph\":{\"id\":\"3179\"},\"nonselection_glyph\":{\"id\":\"3178\"},\"selection_glyph\":null,\"view\":{\"id\":\"3181\"}},\"id\":\"3180\",\"type\":\"GlyphRenderer\"},{\"attributes\":{\"fill_alpha\":{\"value\":0.2},\"fill_color\":{\"value\":\"#6d904f\"},\"line_alpha\":{\"value\":0.2},\"line_color\":{\"value\":\"#6d904f\"},\"size\":{\"units\":\"screen\",\"value\":5.477225575051661},\"x\":{\"field\":\"TotalCoinsMined\"},\"y\":{\"field\":\"TotalCoinSupply\"}},\"id\":\"3219\",\"type\":\"Scatter\"},{\"attributes\":{\"axis\":{\"id\":\"3131\"},\"grid_line_color\":null,\"ticker\":null},\"id\":\"3134\",\"type\":\"Grid\"},{\"attributes\":{\"data_source\":{\"id\":\"3156\"},\"glyph\":{\"id\":\"3159\"},\"hover_glyph\":null,\"muted_glyph\":{\"id\":\"3161\"},\"nonselection_glyph\":{\"id\":\"3160\"},\"selection_glyph\":null,\"view\":{\"id\":\"3163\"}},\"id\":\"3162\",\"type\":\"GlyphRenderer\"},{\"attributes\":{\"axis_label\":\"TotalCoinSupply\",\"bounds\":\"auto\",\"formatter\":{\"id\":\"3154\"},\"major_label_orientation\":\"horizontal\",\"ticker\":{\"id\":\"3136\"}},\"id\":\"3135\",\"type\":\"LinearAxis\"},{\"attributes\":{\"active_drag\":\"auto\",\"active_inspect\":\"auto\",\"active_multi\":null,\"active_scroll\":\"auto\",\"active_tap\":\"auto\",\"tools\":[{\"id\":\"3118\"},{\"id\":\"3139\"},{\"id\":\"3140\"},{\"id\":\"3141\"},{\"id\":\"3142\"},{\"id\":\"3143\"}]},\"id\":\"3145\",\"type\":\"Toolbar\"},{\"attributes\":{},\"id\":\"3136\",\"type\":\"BasicTicker\"},{\"attributes\":{},\"id\":\"3154\",\"type\":\"BasicTickFormatter\"},{\"attributes\":{},\"id\":\"3152\",\"type\":\"BasicTickFormatter\"},{\"attributes\":{\"fill_color\":{\"value\":\"#6d904f\"},\"line_color\":{\"value\":\"#6d904f\"},\"size\":{\"units\":\"screen\",\"value\":5.477225575051661},\"x\":{\"field\":\"TotalCoinsMined\"},\"y\":{\"field\":\"TotalCoinSupply\"}},\"id\":\"3217\",\"type\":\"Scatter\"},{\"attributes\":{\"fill_alpha\":{\"value\":0.2},\"fill_color\":{\"value\":\"#30a2da\"},\"line_alpha\":{\"value\":0.2},\"line_color\":{\"value\":\"#30a2da\"},\"size\":{\"units\":\"screen\",\"value\":5.477225575051661},\"x\":{\"field\":\"TotalCoinsMined\"},\"y\":{\"field\":\"TotalCoinSupply\"}},\"id\":\"3161\",\"type\":\"Scatter\"},{\"attributes\":{\"fill_alpha\":{\"value\":0.1},\"fill_color\":{\"value\":\"#6d904f\"},\"line_alpha\":{\"value\":0.1},\"line_color\":{\"value\":\"#6d904f\"},\"size\":{\"units\":\"screen\",\"value\":5.477225575051661},\"x\":{\"field\":\"TotalCoinsMined\"},\"y\":{\"field\":\"TotalCoinSupply\"}},\"id\":\"3218\",\"type\":\"Scatter\"},{\"attributes\":{\"fill_alpha\":{\"value\":0.2},\"fill_color\":{\"value\":\"#e5ae38\"},\"line_alpha\":{\"value\":0.2},\"line_color\":{\"value\":\"#e5ae38\"},\"size\":{\"units\":\"screen\",\"value\":5.477225575051661},\"x\":{\"field\":\"TotalCoinsMined\"},\"y\":{\"field\":\"TotalCoinSupply\"}},\"id\":\"3198\",\"type\":\"Scatter\"},{\"attributes\":{\"bottom_units\":\"screen\",\"fill_alpha\":0.5,\"fill_color\":\"lightgrey\",\"left_units\":\"screen\",\"level\":\"overlay\",\"line_alpha\":1.0,\"line_color\":\"black\",\"line_dash\":[4,4],\"line_width\":2,\"right_units\":\"screen\",\"top_units\":\"screen\"},\"id\":\"3144\",\"type\":\"BoxAnnotation\"},{\"attributes\":{\"fill_color\":{\"value\":\"#e5ae38\"},\"line_color\":{\"value\":\"#e5ae38\"},\"size\":{\"units\":\"screen\",\"value\":5.477225575051661},\"x\":{\"field\":\"TotalCoinsMined\"},\"y\":{\"field\":\"TotalCoinSupply\"}},\"id\":\"3196\",\"type\":\"Scatter\"},{\"attributes\":{\"data\":{\"Class\":[3],\"TotalCoinSupply\":{\"__ndarray__\":\"lPYGX5hMdT8=\",\"dtype\":\"float64\",\"order\":\"little\",\"shape\":[1]},\"TotalCoinsMined\":{\"__ndarray__\":\"j1gNkdpTXT8=\",\"dtype\":\"float64\",\"order\":\"little\",\"shape\":[1]}},\"selected\":{\"id\":\"3215\"},\"selection_policy\":{\"id\":\"3234\"}},\"id\":\"3214\",\"type\":\"ColumnDataSource\"},{\"attributes\":{\"source\":{\"id\":\"3214\"}},\"id\":\"3221\",\"type\":\"CDSView\"},{\"attributes\":{},\"id\":\"3157\",\"type\":\"Selection\"},{\"attributes\":{\"fill_alpha\":{\"value\":0.1},\"fill_color\":{\"value\":\"#e5ae38\"},\"line_alpha\":{\"value\":0.1},\"line_color\":{\"value\":\"#e5ae38\"},\"size\":{\"units\":\"screen\",\"value\":5.477225575051661},\"x\":{\"field\":\"TotalCoinsMined\"},\"y\":{\"field\":\"TotalCoinSupply\"}},\"id\":\"3197\",\"type\":\"Scatter\"},{\"attributes\":{},\"id\":\"3215\",\"type\":\"Selection\"},{\"attributes\":{\"children\":[{\"id\":\"3115\"},{\"id\":\"3122\"},{\"id\":\"3363\"}],\"margin\":[0,0,0,0],\"name\":\"Row06456\",\"tags\":[\"embedded\"]},\"id\":\"3114\",\"type\":\"Row\"},{\"attributes\":{\"fill_alpha\":{\"value\":0.2},\"fill_color\":{\"value\":\"#fc4f30\"},\"line_alpha\":{\"value\":0.2},\"line_color\":{\"value\":\"#fc4f30\"},\"size\":{\"units\":\"screen\",\"value\":5.477225575051661},\"x\":{\"field\":\"TotalCoinsMined\"},\"y\":{\"field\":\"TotalCoinSupply\"}},\"id\":\"3179\",\"type\":\"Scatter\"},{\"attributes\":{\"end\":1.042857142857143,\"reset_end\":1.042857142857143,\"reset_start\":-0.04285714285714286,\"start\":-0.04285714285714286,\"tags\":[[[\"TotalCoinsMined\",\"TotalCoinsMined\",null]]]},\"id\":\"3116\",\"type\":\"Range1d\"},{\"attributes\":{},\"id\":\"3194\",\"type\":\"Selection\"},{\"attributes\":{},\"id\":\"3234\",\"type\":\"UnionRenderers\"},{\"attributes\":{},\"id\":\"3127\",\"type\":\"LinearScale\"},{\"attributes\":{\"fill_color\":{\"value\":\"#30a2da\"},\"line_color\":{\"value\":\"#30a2da\"},\"size\":{\"units\":\"screen\",\"value\":5.477225575051661},\"x\":{\"field\":\"TotalCoinsMined\"},\"y\":{\"field\":\"TotalCoinSupply\"}},\"id\":\"3159\",\"type\":\"Scatter\"},{\"attributes\":{\"fill_color\":{\"value\":\"#fc4f30\"},\"line_color\":{\"value\":\"#fc4f30\"},\"size\":{\"units\":\"screen\",\"value\":5.477225575051661},\"x\":{\"field\":\"TotalCoinsMined\"},\"y\":{\"field\":\"TotalCoinSupply\"}},\"id\":\"3177\",\"type\":\"Scatter\"},{\"attributes\":{\"source\":{\"id\":\"3193\"}},\"id\":\"3200\",\"type\":\"CDSView\"},{\"attributes\":{},\"id\":\"3139\",\"type\":\"SaveTool\"},{\"attributes\":{\"data\":{\"Class\":[0,0,0,0,0,0,0,0,0,0,0,0,0,0,0,0,0,0,0,0,0,0,0,0,0,0,0,0,0,0,0,0,0,0,0,0,0,0,0,0,0,0,0,0,0,0,0,0,0,0,0,0,0,0,0,0,0,0,0,0,0,0,0,0,0,0,0,0,0,0,0,0,0,0,0,0,0,0,0,0,0,0,0,0,0,0,0,0,0,0,0,0,0,0,0,0,0,0,0,0,0,0,0,0,0,0,0,0,0,0,0,0,0,0,0,0,0,0,0,0,0,0,0,0,0,0,0,0,0,0,0,0,0,0,0,0,0,0,0,0,0,0,0,0,0,0,0,0,0,0,0,0,0,0,0,0,0,0,0,0,0,0,0,0,0,0,0,0,0,0,0,0,0,0,0,0,0,0,0,0,0,0,0,0,0,0,0,0,0,0,0,0,0,0,0,0,0,0,0,0,0,0,0,0,0,0,0,0,0,0,0,0,0,0,0,0,0,0,0,0,0,0,0,0,0,0,0,0,0,0,0,0,0,0,0,0,0,0,0,0,0,0,0,0,0,0,0,0,0,0,0,0,0,0,0,0,0,0,0,0,0,0,0,0,0,0,0,0,0,0,0,0,0,0,0,0,0,0,0,0,0,0,0,0,0,0,0,0,0,0,0,0,0,0,0,0,0,0,0,0,0,0,0,0,0,0,0,0,0,0,0,0,0,0,0,0,0,0,0,0,0,0,0,0,0,0,0,0,0,0,0,0,0,0,0,0,0,0,0,0,0,0,0,0,0,0,0,0,0,0,0,0,0,0,0,0,0,0,0,0,0,0,0,0,0,0,0,0,0,0,0,0,0,0,0,0,0,0,0,0,0,0,0,0,0,0,0,0,0,0,0,0,0,0,0,0,0,0,0,0,0,0,0,0,0,0,0,0,0,0,0,0,0,0,0,0,0,0,0,0,0,0,0,0,0,0,0,0,0,0,0,0,0,0,0,0,0,0,0,0,0,0,0,0,0,0,0,0,0,0,0,0,0,0,0,0,0,0,0,0,0,0,0,0,0,0,0,0,0,0,0,0,0,0,0,0,0,0,0,0,0,0,0,0,0,0,0,0,0,0,0,0,0,0,0,0,0,0,0,0,0,0,0,0,0,0,0,0,0,0,0,0,0,0,0,0,0,0,0,0,0,0,0,0,0,0,0,0],\"TotalCoinSupply\":{\"__ndarray__\":\"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\",\"dtype\":\"float64\",\"order\":\"little\",\"shape\":[528]},\"TotalCoinsMined\":{\"__ndarray__\":\"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\",\"dtype\":\"float64\",\"order\":\"little\",\"shape\":[528]}},\"selected\":{\"id\":\"3157\"},\"selection_policy\":{\"id\":\"3170\"}},\"id\":\"3156\",\"type\":\"ColumnDataSource\"},{\"attributes\":{\"data\":{\"Class\":[1,1],\"TotalCoinSupply\":{\"__ndarray__\":\"vHmqQ26GSz+EWijhloswPw==\",\"dtype\":\"float64\",\"order\":\"little\",\"shape\":[2]},\"TotalCoinsMined\":{\"__ndarray__\":\"kKTF8kohRT+cGSV4jxIrPw==\",\"dtype\":\"float64\",\"order\":\"little\",\"shape\":[2]}},\"selected\":{\"id\":\"3175\"},\"selection_policy\":{\"id\":\"3190\"}},\"id\":\"3174\",\"type\":\"ColumnDataSource\"},{\"attributes\":{},\"id\":\"3211\",\"type\":\"UnionRenderers\"},{\"attributes\":{},\"id\":\"3140\",\"type\":\"PanTool\"},{\"attributes\":{\"label\":{\"value\":\"2\"},\"renderers\":[{\"id\":\"3199\"}]},\"id\":\"3213\",\"type\":\"LegendItem\"},{\"attributes\":{\"fill_alpha\":{\"value\":0.1},\"fill_color\":{\"value\":\"#fc4f30\"},\"line_alpha\":{\"value\":0.1},\"line_color\":{\"value\":\"#fc4f30\"},\"size\":{\"units\":\"screen\",\"value\":5.477225575051661},\"x\":{\"field\":\"TotalCoinsMined\"},\"y\":{\"field\":\"TotalCoinSupply\"}},\"id\":\"3178\",\"type\":\"Scatter\"},{\"attributes\":{},\"id\":\"3175\",\"type\":\"Selection\"},{\"attributes\":{\"margin\":[5,5,5,5],\"name\":\"HSpacer06460\",\"sizing_mode\":\"stretch_width\"},\"id\":\"3115\",\"type\":\"Spacer\"},{\"attributes\":{\"source\":{\"id\":\"3174\"}},\"id\":\"3181\",\"type\":\"CDSView\"}],\"root_ids\":[\"3114\"]},\"title\":\"Bokeh Application\",\"version\":\"2.2.3\"}};\n",
       "    var render_items = [{\"docid\":\"16922769-3b0a-459a-be55-43356129dc83\",\"root_ids\":[\"3114\"],\"roots\":{\"3114\":\"76a93674-51a2-4067-8168-bd769d029c16\"}}];\n",
       "    root.Bokeh.embed.embed_items_notebook(docs_json, render_items);\n",
       "  }\n",
       "  if (root.Bokeh !== undefined && root.Bokeh.Panel !== undefined) {\n",
       "    embed_document(root);\n",
       "  } else {\n",
       "    var attempts = 0;\n",
       "    var timer = setInterval(function(root) {\n",
       "      if (root.Bokeh !== undefined && root.Bokeh.Panel !== undefined) {\n",
       "        clearInterval(timer);\n",
       "        embed_document(root);\n",
       "      } else if (document.readyState == \"complete\") {\n",
       "        attempts++;\n",
       "        if (attempts > 100) {\n",
       "          clearInterval(timer);\n",
       "          console.log(\"Bokeh: ERROR: Unable to run BokehJS code because BokehJS library is missing\");\n",
       "        }\n",
       "      }\n",
       "    }, 10, root)\n",
       "  }\n",
       "})(window);</script>"
      ],
      "text/plain": [
       ":NdOverlay   [Class]\n",
       "   :Scatter   [TotalCoinsMined]   (TotalCoinSupply)"
      ]
     },
     "execution_count": 140,
     "metadata": {
      "application/vnd.holoviews_exec.v0+json": {
       "id": "3114"
      }
     },
     "output_type": "execute_result"
    }
   ],
   "source": [
    "# Create a hvplot.scatter plot using x=\"TotalCoinsMined\" and y=\"TotalCoinSupply\".\n",
    "plot_df.hvplot.scatter(x=\"TotalCoinsMined\", y=\"TotalCoinSupply\",\n",
    "                       by=\"Class\", hover = True, hover_cols = 'CoinName')"
   ]
  },
  {
   "cell_type": "code",
   "execution_count": null,
   "metadata": {},
   "outputs": [],
   "source": []
  }
 ],
 "metadata": {
  "file_extension": ".py",
  "kernelspec": {
   "display_name": "PythonData",
   "language": "python",
   "name": "pythondata"
  },
  "language_info": {
   "codemirror_mode": {
    "name": "ipython",
    "version": 3
   },
   "file_extension": ".py",
   "mimetype": "text/x-python",
   "name": "python",
   "nbconvert_exporter": "python",
   "pygments_lexer": "ipython3",
   "version": "3.7.9"
  },
  "latex_envs": {
   "LaTeX_envs_menu_present": true,
   "autoclose": false,
   "autocomplete": true,
   "bibliofile": "biblio.bib",
   "cite_by": "apalike",
   "current_citInitial": 1,
   "eqLabelWithNumbers": true,
   "eqNumInitial": 1,
   "hotkeys": {
    "equation": "Ctrl-E",
    "itemize": "Ctrl-I"
   },
   "labels_anchors": false,
   "latex_user_defs": false,
   "report_style_numbering": false,
   "user_envs_cfg": false
  },
  "mimetype": "text/x-python",
  "name": "python",
  "npconvert_exporter": "python",
  "pygments_lexer": "ipython3",
  "version": 3
 },
 "nbformat": 4,
 "nbformat_minor": 2
}
